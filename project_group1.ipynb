{
 "cells": [
  {
   "cell_type": "markdown",
   "id": "f6495a4c",
   "metadata": {},
   "source": [
    "# DSCI 100 Project: Predicting Newsletter Subscription with KNN Classification"
   ]
  },
  {
   "cell_type": "code",
   "execution_count": 58,
   "id": "59802383",
   "metadata": {
    "vscode": {
     "languageId": "r"
    }
   },
   "outputs": [],
   "source": [
    "library(tidyverse)\n",
    "library(tidymodels)\n",
    "library(scales)\n",
    "library(themis)\n",
    "library(cowplot)\n",
    "library(doParallel) # parallel processing\n",
    "options(repr.matrix.max.rows = 6)\n",
    "\n",
    "set.seed(1000)"
   ]
  },
  {
   "cell_type": "code",
   "execution_count": 59,
   "id": "22c87e7a",
   "metadata": {
    "vscode": {
     "languageId": "r"
    }
   },
   "outputs": [],
   "source": [
    "# Uncomment for parallel processing (Uses all cores except 2):\n",
    "num_cores <- detectCores() - 2\n",
    "cl <- makeCluster(num_cores)\n",
    "registerDoParallel(cl)"
   ]
  },
  {
   "cell_type": "markdown",
   "id": "eeb17aa9",
   "metadata": {},
   "source": [
    "## (1) Introduction"
   ]
  },
  {
   "cell_type": "markdown",
   "id": "79717288",
   "metadata": {},
   "source": [
    "The Pacific Laboratory for Artificial Intelligence (PLAI), to advance embodied AI research, has set up a Minecraft server named PLAICRAFT to collect behavioural data on volunteer players. A portion of the data from PLAI's endeavours has been provided for this project: the `players.csv` data set. The details of `players.csv` are summarized below. See section 2.3.1 for the calculation of summary values reported here:"
   ]
  },
  {
   "cell_type": "markdown",
   "id": "73880cf2",
   "metadata": {},
   "source": [
    "### (1.1) `players.csv`\n",
    "This dataset contains the following 7 variables regarding 196 players from the server: \n",
    "|**Variable**|**Read Data Type**|**Proper Data Type**|**Description**|\n",
    "|:-:|:-:|:-:|:-|\n",
    "|experience|`chr`|`fct`|Self-evaluated Minecraft experience level. One of: *Beginner*, *Amateur*, *Regular*, *Pro* or *Veteran*.|\n",
    "|subscribe|`lgl`|`fct`|Whether player is subscribed to a game-related newsletter. 144 are subscribed, 52 are not.|\n",
    "|hashedEmail|`chr`|`chr`|Encrypted email.|\n",
    "|played_hours|`dbl`|`dbl`|Hours played on the server. Mean = 5.8h, min = 0h, max = 223.1.|\n",
    "|name|`chr`|`chr`|Player's auto-generated genric name.|\n",
    "|gender|`chr`|`fct`| One of: *Male*, *Female*, *Non-binary*, *Agender*, *Two-spirited*, *Other* or *Perfer not to say*.|\n",
    "|Age|`dbl`|`int`|Self-reported age. Players must be at least 7. The age selector had a maximum age of 99 and a default of 17. Mean = 20.5, min = 8, max = 50.|\n",
    "\n",
    "**Potential issues:** \n",
    "- `subscribe` will need balancing for KNN classification.\n",
    "- There are an inordinate number of 17-year-olds (see section 3.7) due to 17 being the default age on the given survey.\n",
    "- The small sample size increases the effects of random unaccountable fluctuations in data."
   ]
  },
  {
   "cell_type": "markdown",
   "id": "15181eb8",
   "metadata": {},
   "source": [
    "### (1.2) Research Question\n",
    "***Can the self-reported age, self-reported experience level, and the total hours played by a given player predict whether that player will be subscribed to receive a game-related newsletter, as determined with players in the PLAICRAFT Minecraft server?***\n",
    "\n",
    "The `players.csv` dataset will be used. The `Age`, `experience`, `played_hours` and `subscribe` variables will be isolated. `Age`, `experience` and `played_hours` will then be selected via best-subset-selection and KNN classification to predict `subscribe`."
   ]
  },
  {
   "cell_type": "markdown",
   "id": "eefebd4e",
   "metadata": {},
   "source": [
    "## (2) Methods & Results"
   ]
  },
  {
   "cell_type": "markdown",
   "id": "21f82f7e",
   "metadata": {},
   "source": [
    "### (2.1) Data Reading\n",
    "Data will be read remotely from GitHub and stored in a tibble in `players`:"
   ]
  },
  {
   "cell_type": "code",
   "execution_count": 2,
   "id": "5dd39f58",
   "metadata": {
    "vscode": {
     "languageId": "r"
    }
   },
   "outputs": [
    {
     "name": "stderr",
     "output_type": "stream",
     "text": [
      "\u001b[1mRows: \u001b[22m\u001b[34m196\u001b[39m \u001b[1mColumns: \u001b[22m\u001b[34m7\u001b[39m\n",
      "\u001b[36m──\u001b[39m \u001b[1mColumn specification\u001b[22m \u001b[36m────────────────────────────────────────────────────────\u001b[39m\n",
      "\u001b[1mDelimiter:\u001b[22m \",\"\n",
      "\u001b[31mchr\u001b[39m (4): experience, hashedEmail, name, gender\n",
      "\u001b[32mdbl\u001b[39m (2): played_hours, Age\n",
      "\u001b[33mlgl\u001b[39m (1): subscribe\n",
      "\n",
      "\u001b[36mℹ\u001b[39m Use `spec()` to retrieve the full column specification for this data.\n",
      "\u001b[36mℹ\u001b[39m Specify the column types or set `show_col_types = FALSE` to quiet this message.\n"
     ]
    },
    {
     "data": {
      "text/html": [
       "<table class=\"dataframe\">\n",
       "<caption>A spec_tbl_df: 196 × 7</caption>\n",
       "<thead>\n",
       "\t<tr><th scope=col>experience</th><th scope=col>subscribe</th><th scope=col>hashedEmail</th><th scope=col>played_hours</th><th scope=col>name</th><th scope=col>gender</th><th scope=col>Age</th></tr>\n",
       "\t<tr><th scope=col>&lt;chr&gt;</th><th scope=col>&lt;lgl&gt;</th><th scope=col>&lt;chr&gt;</th><th scope=col>&lt;dbl&gt;</th><th scope=col>&lt;chr&gt;</th><th scope=col>&lt;chr&gt;</th><th scope=col>&lt;dbl&gt;</th></tr>\n",
       "</thead>\n",
       "<tbody>\n",
       "\t<tr><td>Pro    </td><td> TRUE</td><td>f6daba428a5e19a3d47574858c13550499be23603422e6a0ee9728f8b53e192d</td><td>30.3</td><td>Morgan   </td><td>Male</td><td> 9</td></tr>\n",
       "\t<tr><td>Veteran</td><td> TRUE</td><td>f3c813577c458ba0dfef80996f8f32c93b6e8af1fa939732842f2312358a88e9</td><td> 3.8</td><td>Christian</td><td>Male</td><td>17</td></tr>\n",
       "\t<tr><td>Veteran</td><td>FALSE</td><td>b674dd7ee0d24096d1c019615ce4d12b20fcbff12d79d3c5a9d2118eb7ccbb28</td><td> 0.0</td><td>Blake    </td><td>Male</td><td>17</td></tr>\n",
       "\t<tr><td>⋮</td><td>⋮</td><td>⋮</td><td>⋮</td><td>⋮</td><td>⋮</td><td>⋮</td></tr>\n",
       "\t<tr><td>Amateur</td><td>FALSE</td><td>d572f391d452b76ea2d7e5e53a3d38bfd7499c7399db299bd4fedb06a46ad5bb</td><td>0.0</td><td>Dylan </td><td>Prefer not to say</td><td>17</td></tr>\n",
       "\t<tr><td>Amateur</td><td>FALSE</td><td>f19e136ddde68f365afc860c725ccff54307dedd13968e896a9f890c40aea436</td><td>2.3</td><td>Harlow</td><td>Male             </td><td>17</td></tr>\n",
       "\t<tr><td>Pro    </td><td> TRUE</td><td>d9473710057f7d42f36570f0be83817a4eea614029ff90cf50d8889cdd729d11</td><td>0.2</td><td>Ahmed </td><td>Other            </td><td>NA</td></tr>\n",
       "</tbody>\n",
       "</table>\n"
      ],
      "text/latex": [
       "A spec\\_tbl\\_df: 196 × 7\n",
       "\\begin{tabular}{lllllll}\n",
       " experience & subscribe & hashedEmail & played\\_hours & name & gender & Age\\\\\n",
       " <chr> & <lgl> & <chr> & <dbl> & <chr> & <chr> & <dbl>\\\\\n",
       "\\hline\n",
       "\t Pro     &  TRUE & f6daba428a5e19a3d47574858c13550499be23603422e6a0ee9728f8b53e192d & 30.3 & Morgan    & Male &  9\\\\\n",
       "\t Veteran &  TRUE & f3c813577c458ba0dfef80996f8f32c93b6e8af1fa939732842f2312358a88e9 &  3.8 & Christian & Male & 17\\\\\n",
       "\t Veteran & FALSE & b674dd7ee0d24096d1c019615ce4d12b20fcbff12d79d3c5a9d2118eb7ccbb28 &  0.0 & Blake     & Male & 17\\\\\n",
       "\t ⋮ & ⋮ & ⋮ & ⋮ & ⋮ & ⋮ & ⋮\\\\\n",
       "\t Amateur & FALSE & d572f391d452b76ea2d7e5e53a3d38bfd7499c7399db299bd4fedb06a46ad5bb & 0.0 & Dylan  & Prefer not to say & 17\\\\\n",
       "\t Amateur & FALSE & f19e136ddde68f365afc860c725ccff54307dedd13968e896a9f890c40aea436 & 2.3 & Harlow & Male              & 17\\\\\n",
       "\t Pro     &  TRUE & d9473710057f7d42f36570f0be83817a4eea614029ff90cf50d8889cdd729d11 & 0.2 & Ahmed  & Other             & NA\\\\\n",
       "\\end{tabular}\n"
      ],
      "text/markdown": [
       "\n",
       "A spec_tbl_df: 196 × 7\n",
       "\n",
       "| experience &lt;chr&gt; | subscribe &lt;lgl&gt; | hashedEmail &lt;chr&gt; | played_hours &lt;dbl&gt; | name &lt;chr&gt; | gender &lt;chr&gt; | Age &lt;dbl&gt; |\n",
       "|---|---|---|---|---|---|---|\n",
       "| Pro     |  TRUE | f6daba428a5e19a3d47574858c13550499be23603422e6a0ee9728f8b53e192d | 30.3 | Morgan    | Male |  9 |\n",
       "| Veteran |  TRUE | f3c813577c458ba0dfef80996f8f32c93b6e8af1fa939732842f2312358a88e9 |  3.8 | Christian | Male | 17 |\n",
       "| Veteran | FALSE | b674dd7ee0d24096d1c019615ce4d12b20fcbff12d79d3c5a9d2118eb7ccbb28 |  0.0 | Blake     | Male | 17 |\n",
       "| ⋮ | ⋮ | ⋮ | ⋮ | ⋮ | ⋮ | ⋮ |\n",
       "| Amateur | FALSE | d572f391d452b76ea2d7e5e53a3d38bfd7499c7399db299bd4fedb06a46ad5bb | 0.0 | Dylan  | Prefer not to say | 17 |\n",
       "| Amateur | FALSE | f19e136ddde68f365afc860c725ccff54307dedd13968e896a9f890c40aea436 | 2.3 | Harlow | Male              | 17 |\n",
       "| Pro     |  TRUE | d9473710057f7d42f36570f0be83817a4eea614029ff90cf50d8889cdd729d11 | 0.2 | Ahmed  | Other             | NA |\n",
       "\n"
      ],
      "text/plain": [
       "    experience subscribe\n",
       "1   Pro         TRUE    \n",
       "2   Veteran     TRUE    \n",
       "3   Veteran    FALSE    \n",
       "⋮   ⋮          ⋮        \n",
       "194 Amateur    FALSE    \n",
       "195 Amateur    FALSE    \n",
       "196 Pro         TRUE    \n",
       "    hashedEmail                                                     \n",
       "1   f6daba428a5e19a3d47574858c13550499be23603422e6a0ee9728f8b53e192d\n",
       "2   f3c813577c458ba0dfef80996f8f32c93b6e8af1fa939732842f2312358a88e9\n",
       "3   b674dd7ee0d24096d1c019615ce4d12b20fcbff12d79d3c5a9d2118eb7ccbb28\n",
       "⋮   ⋮                                                               \n",
       "194 d572f391d452b76ea2d7e5e53a3d38bfd7499c7399db299bd4fedb06a46ad5bb\n",
       "195 f19e136ddde68f365afc860c725ccff54307dedd13968e896a9f890c40aea436\n",
       "196 d9473710057f7d42f36570f0be83817a4eea614029ff90cf50d8889cdd729d11\n",
       "    played_hours name      gender            Age\n",
       "1   30.3         Morgan    Male               9 \n",
       "2    3.8         Christian Male              17 \n",
       "3    0.0         Blake     Male              17 \n",
       "⋮   ⋮            ⋮         ⋮                 ⋮  \n",
       "194 0.0          Dylan     Prefer not to say 17 \n",
       "195 2.3          Harlow    Male              17 \n",
       "196 0.2          Ahmed     Other             NA "
      ]
     },
     "metadata": {},
     "output_type": "display_data"
    }
   ],
   "source": [
    "players_url <- \"https://raw.githubusercontent.com/mke-l/dsci100-project-data/refs/heads/main/data/players.csv\"\n",
    "players_raw <- read_csv(players_url)\n",
    "\n",
    "players_raw"
   ]
  },
  {
   "cell_type": "markdown",
   "id": "319d983d",
   "metadata": {},
   "source": [
    "### (2.2) Data Cleaning and Wrangling\n",
    "**(2.2.1)** Conversion of `players`' variables to proper data type, tidying of variable names, reordering of experience factor:"
   ]
  },
  {
   "cell_type": "code",
   "execution_count": 3,
   "id": "6d6a52cd",
   "metadata": {
    "vscode": {
     "languageId": "r"
    }
   },
   "outputs": [
    {
     "data": {
      "text/html": [
       "<table class=\"dataframe\">\n",
       "<caption>A tibble: 196 × 7</caption>\n",
       "<thead>\n",
       "\t<tr><th scope=col>experience</th><th scope=col>subscribe</th><th scope=col>hashed_email</th><th scope=col>played_hours</th><th scope=col>name</th><th scope=col>gender</th><th scope=col>age</th></tr>\n",
       "\t<tr><th scope=col>&lt;fct&gt;</th><th scope=col>&lt;fct&gt;</th><th scope=col>&lt;chr&gt;</th><th scope=col>&lt;dbl&gt;</th><th scope=col>&lt;chr&gt;</th><th scope=col>&lt;fct&gt;</th><th scope=col>&lt;int&gt;</th></tr>\n",
       "</thead>\n",
       "<tbody>\n",
       "\t<tr><td>Pro    </td><td>TRUE </td><td>f6daba428a5e19a3d47574858c13550499be23603422e6a0ee9728f8b53e192d</td><td>30.3</td><td>Morgan   </td><td>Male</td><td> 9</td></tr>\n",
       "\t<tr><td>Veteran</td><td>TRUE </td><td>f3c813577c458ba0dfef80996f8f32c93b6e8af1fa939732842f2312358a88e9</td><td> 3.8</td><td>Christian</td><td>Male</td><td>17</td></tr>\n",
       "\t<tr><td>Veteran</td><td>FALSE</td><td>b674dd7ee0d24096d1c019615ce4d12b20fcbff12d79d3c5a9d2118eb7ccbb28</td><td> 0.0</td><td>Blake    </td><td>Male</td><td>17</td></tr>\n",
       "\t<tr><td>⋮</td><td>⋮</td><td>⋮</td><td>⋮</td><td>⋮</td><td>⋮</td><td>⋮</td></tr>\n",
       "\t<tr><td>Amateur</td><td>FALSE</td><td>d572f391d452b76ea2d7e5e53a3d38bfd7499c7399db299bd4fedb06a46ad5bb</td><td>0.0</td><td>Dylan </td><td>Prefer not to say</td><td>17</td></tr>\n",
       "\t<tr><td>Amateur</td><td>FALSE</td><td>f19e136ddde68f365afc860c725ccff54307dedd13968e896a9f890c40aea436</td><td>2.3</td><td>Harlow</td><td>Male             </td><td>17</td></tr>\n",
       "\t<tr><td>Pro    </td><td>TRUE </td><td>d9473710057f7d42f36570f0be83817a4eea614029ff90cf50d8889cdd729d11</td><td>0.2</td><td>Ahmed </td><td>Other            </td><td>NA</td></tr>\n",
       "</tbody>\n",
       "</table>\n"
      ],
      "text/latex": [
       "A tibble: 196 × 7\n",
       "\\begin{tabular}{lllllll}\n",
       " experience & subscribe & hashed\\_email & played\\_hours & name & gender & age\\\\\n",
       " <fct> & <fct> & <chr> & <dbl> & <chr> & <fct> & <int>\\\\\n",
       "\\hline\n",
       "\t Pro     & TRUE  & f6daba428a5e19a3d47574858c13550499be23603422e6a0ee9728f8b53e192d & 30.3 & Morgan    & Male &  9\\\\\n",
       "\t Veteran & TRUE  & f3c813577c458ba0dfef80996f8f32c93b6e8af1fa939732842f2312358a88e9 &  3.8 & Christian & Male & 17\\\\\n",
       "\t Veteran & FALSE & b674dd7ee0d24096d1c019615ce4d12b20fcbff12d79d3c5a9d2118eb7ccbb28 &  0.0 & Blake     & Male & 17\\\\\n",
       "\t ⋮ & ⋮ & ⋮ & ⋮ & ⋮ & ⋮ & ⋮\\\\\n",
       "\t Amateur & FALSE & d572f391d452b76ea2d7e5e53a3d38bfd7499c7399db299bd4fedb06a46ad5bb & 0.0 & Dylan  & Prefer not to say & 17\\\\\n",
       "\t Amateur & FALSE & f19e136ddde68f365afc860c725ccff54307dedd13968e896a9f890c40aea436 & 2.3 & Harlow & Male              & 17\\\\\n",
       "\t Pro     & TRUE  & d9473710057f7d42f36570f0be83817a4eea614029ff90cf50d8889cdd729d11 & 0.2 & Ahmed  & Other             & NA\\\\\n",
       "\\end{tabular}\n"
      ],
      "text/markdown": [
       "\n",
       "A tibble: 196 × 7\n",
       "\n",
       "| experience &lt;fct&gt; | subscribe &lt;fct&gt; | hashed_email &lt;chr&gt; | played_hours &lt;dbl&gt; | name &lt;chr&gt; | gender &lt;fct&gt; | age &lt;int&gt; |\n",
       "|---|---|---|---|---|---|---|\n",
       "| Pro     | TRUE  | f6daba428a5e19a3d47574858c13550499be23603422e6a0ee9728f8b53e192d | 30.3 | Morgan    | Male |  9 |\n",
       "| Veteran | TRUE  | f3c813577c458ba0dfef80996f8f32c93b6e8af1fa939732842f2312358a88e9 |  3.8 | Christian | Male | 17 |\n",
       "| Veteran | FALSE | b674dd7ee0d24096d1c019615ce4d12b20fcbff12d79d3c5a9d2118eb7ccbb28 |  0.0 | Blake     | Male | 17 |\n",
       "| ⋮ | ⋮ | ⋮ | ⋮ | ⋮ | ⋮ | ⋮ |\n",
       "| Amateur | FALSE | d572f391d452b76ea2d7e5e53a3d38bfd7499c7399db299bd4fedb06a46ad5bb | 0.0 | Dylan  | Prefer not to say | 17 |\n",
       "| Amateur | FALSE | f19e136ddde68f365afc860c725ccff54307dedd13968e896a9f890c40aea436 | 2.3 | Harlow | Male              | 17 |\n",
       "| Pro     | TRUE  | d9473710057f7d42f36570f0be83817a4eea614029ff90cf50d8889cdd729d11 | 0.2 | Ahmed  | Other             | NA |\n",
       "\n"
      ],
      "text/plain": [
       "    experience subscribe\n",
       "1   Pro        TRUE     \n",
       "2   Veteran    TRUE     \n",
       "3   Veteran    FALSE    \n",
       "⋮   ⋮          ⋮        \n",
       "194 Amateur    FALSE    \n",
       "195 Amateur    FALSE    \n",
       "196 Pro        TRUE     \n",
       "    hashed_email                                                    \n",
       "1   f6daba428a5e19a3d47574858c13550499be23603422e6a0ee9728f8b53e192d\n",
       "2   f3c813577c458ba0dfef80996f8f32c93b6e8af1fa939732842f2312358a88e9\n",
       "3   b674dd7ee0d24096d1c019615ce4d12b20fcbff12d79d3c5a9d2118eb7ccbb28\n",
       "⋮   ⋮                                                               \n",
       "194 d572f391d452b76ea2d7e5e53a3d38bfd7499c7399db299bd4fedb06a46ad5bb\n",
       "195 f19e136ddde68f365afc860c725ccff54307dedd13968e896a9f890c40aea436\n",
       "196 d9473710057f7d42f36570f0be83817a4eea614029ff90cf50d8889cdd729d11\n",
       "    played_hours name      gender            age\n",
       "1   30.3         Morgan    Male               9 \n",
       "2    3.8         Christian Male              17 \n",
       "3    0.0         Blake     Male              17 \n",
       "⋮   ⋮            ⋮         ⋮                 ⋮  \n",
       "194 0.0          Dylan     Prefer not to say 17 \n",
       "195 2.3          Harlow    Male              17 \n",
       "196 0.2          Ahmed     Other             NA "
      ]
     },
     "metadata": {},
     "output_type": "display_data"
    }
   ],
   "source": [
    "players_clean <- players_raw |>\n",
    "    mutate(experience = as_factor(experience)) |>\n",
    "    mutate(subscribe = as_factor(subscribe)) |>\n",
    "    rename(hashed_email = hashedEmail) |>\n",
    "    mutate(gender = as_factor(gender)) |>\n",
    "    rename(age = Age) |>\n",
    "    mutate(age = as.integer(age)) |>\n",
    "    mutate(experience = fct_relevel(experience, \"Beginner\", \"Amateur\", \"Regular\", \"Pro\", \"Veteran\"))\n",
    "\n",
    "players_clean"
   ]
  },
  {
   "cell_type": "markdown",
   "id": "f37cfeae",
   "metadata": {},
   "source": [
    "**(2.2.2)** Isolation of relevant variables: `experience`, `subscribe`, `played_hours` and `age`:"
   ]
  },
  {
   "cell_type": "code",
   "execution_count": 4,
   "id": "ab3f702c",
   "metadata": {
    "vscode": {
     "languageId": "r"
    }
   },
   "outputs": [
    {
     "data": {
      "text/html": [
       "<table class=\"dataframe\">\n",
       "<caption>A tibble: 196 × 4</caption>\n",
       "<thead>\n",
       "\t<tr><th scope=col>experience</th><th scope=col>subscribe</th><th scope=col>played_hours</th><th scope=col>age</th></tr>\n",
       "\t<tr><th scope=col>&lt;fct&gt;</th><th scope=col>&lt;fct&gt;</th><th scope=col>&lt;dbl&gt;</th><th scope=col>&lt;int&gt;</th></tr>\n",
       "</thead>\n",
       "<tbody>\n",
       "\t<tr><td>Pro    </td><td>TRUE </td><td>30.3</td><td> 9</td></tr>\n",
       "\t<tr><td>Veteran</td><td>TRUE </td><td> 3.8</td><td>17</td></tr>\n",
       "\t<tr><td>Veteran</td><td>FALSE</td><td> 0.0</td><td>17</td></tr>\n",
       "\t<tr><td>⋮</td><td>⋮</td><td>⋮</td><td>⋮</td></tr>\n",
       "\t<tr><td>Amateur</td><td>FALSE</td><td>0.0</td><td>17</td></tr>\n",
       "\t<tr><td>Amateur</td><td>FALSE</td><td>2.3</td><td>17</td></tr>\n",
       "\t<tr><td>Pro    </td><td>TRUE </td><td>0.2</td><td>NA</td></tr>\n",
       "</tbody>\n",
       "</table>\n"
      ],
      "text/latex": [
       "A tibble: 196 × 4\n",
       "\\begin{tabular}{llll}\n",
       " experience & subscribe & played\\_hours & age\\\\\n",
       " <fct> & <fct> & <dbl> & <int>\\\\\n",
       "\\hline\n",
       "\t Pro     & TRUE  & 30.3 &  9\\\\\n",
       "\t Veteran & TRUE  &  3.8 & 17\\\\\n",
       "\t Veteran & FALSE &  0.0 & 17\\\\\n",
       "\t ⋮ & ⋮ & ⋮ & ⋮\\\\\n",
       "\t Amateur & FALSE & 0.0 & 17\\\\\n",
       "\t Amateur & FALSE & 2.3 & 17\\\\\n",
       "\t Pro     & TRUE  & 0.2 & NA\\\\\n",
       "\\end{tabular}\n"
      ],
      "text/markdown": [
       "\n",
       "A tibble: 196 × 4\n",
       "\n",
       "| experience &lt;fct&gt; | subscribe &lt;fct&gt; | played_hours &lt;dbl&gt; | age &lt;int&gt; |\n",
       "|---|---|---|---|\n",
       "| Pro     | TRUE  | 30.3 |  9 |\n",
       "| Veteran | TRUE  |  3.8 | 17 |\n",
       "| Veteran | FALSE |  0.0 | 17 |\n",
       "| ⋮ | ⋮ | ⋮ | ⋮ |\n",
       "| Amateur | FALSE | 0.0 | 17 |\n",
       "| Amateur | FALSE | 2.3 | 17 |\n",
       "| Pro     | TRUE  | 0.2 | NA |\n",
       "\n"
      ],
      "text/plain": [
       "    experience subscribe played_hours age\n",
       "1   Pro        TRUE      30.3          9 \n",
       "2   Veteran    TRUE       3.8         17 \n",
       "3   Veteran    FALSE      0.0         17 \n",
       "⋮   ⋮          ⋮         ⋮            ⋮  \n",
       "194 Amateur    FALSE     0.0          17 \n",
       "195 Amateur    FALSE     2.3          17 \n",
       "196 Pro        TRUE      0.2          NA "
      ]
     },
     "metadata": {},
     "output_type": "display_data"
    }
   ],
   "source": [
    "players_wrangled <- players_clean |>\n",
    "    select(experience, subscribe, played_hours, age)\n",
    "\n",
    "players_wrangled"
   ]
  },
  {
   "cell_type": "markdown",
   "id": "b82a69d2",
   "metadata": {},
   "source": [
    "### (2.3) Exploratory Numerical Data Analysis\n",
    "**(2.3.1)** Computing mean, min and max values for all `players_wrangled` quantative variables:"
   ]
  },
  {
   "cell_type": "code",
   "execution_count": 5,
   "id": "4edd49d9",
   "metadata": {
    "vscode": {
     "languageId": "r"
    }
   },
   "outputs": [
    {
     "data": {
      "text/html": [
       "<table class=\"dataframe\">\n",
       "<caption>A tibble: 1 × 6</caption>\n",
       "<thead>\n",
       "\t<tr><th scope=col>mean_played_hours</th><th scope=col>min_played_hours</th><th scope=col>max_played_hours</th><th scope=col>mean_age</th><th scope=col>min_age</th><th scope=col>max_age</th></tr>\n",
       "\t<tr><th scope=col>&lt;dbl&gt;</th><th scope=col>&lt;dbl&gt;</th><th scope=col>&lt;dbl&gt;</th><th scope=col>&lt;dbl&gt;</th><th scope=col>&lt;int&gt;</th><th scope=col>&lt;int&gt;</th></tr>\n",
       "</thead>\n",
       "<tbody>\n",
       "\t<tr><td>5.845918</td><td>0</td><td>223.1</td><td>20.52062</td><td>8</td><td>50</td></tr>\n",
       "</tbody>\n",
       "</table>\n"
      ],
      "text/latex": [
       "A tibble: 1 × 6\n",
       "\\begin{tabular}{llllll}\n",
       " mean\\_played\\_hours & min\\_played\\_hours & max\\_played\\_hours & mean\\_age & min\\_age & max\\_age\\\\\n",
       " <dbl> & <dbl> & <dbl> & <dbl> & <int> & <int>\\\\\n",
       "\\hline\n",
       "\t 5.845918 & 0 & 223.1 & 20.52062 & 8 & 50\\\\\n",
       "\\end{tabular}\n"
      ],
      "text/markdown": [
       "\n",
       "A tibble: 1 × 6\n",
       "\n",
       "| mean_played_hours &lt;dbl&gt; | min_played_hours &lt;dbl&gt; | max_played_hours &lt;dbl&gt; | mean_age &lt;dbl&gt; | min_age &lt;int&gt; | max_age &lt;int&gt; |\n",
       "|---|---|---|---|---|---|\n",
       "| 5.845918 | 0 | 223.1 | 20.52062 | 8 | 50 |\n",
       "\n"
      ],
      "text/plain": [
       "  mean_played_hours min_played_hours max_played_hours mean_age min_age max_age\n",
       "1 5.845918          0                223.1            20.52062 8       50     "
      ]
     },
     "metadata": {},
     "output_type": "display_data"
    }
   ],
   "source": [
    "players_stats <- players_wrangled |>\n",
    "    select(played_hours, age) |>\n",
    "    summarize(mean_played_hours = mean(played_hours),\n",
    "             min_played_hours = min(played_hours),\n",
    "             max_played_hours = max(played_hours),\n",
    "             mean_age = mean(age, na.rm = TRUE),\n",
    "             min_age = min(age, na.rm = TRUE),\n",
    "             max_age = max(age, na.rm = TRUE))\n",
    "\n",
    "players_stats"
   ]
  },
  {
   "cell_type": "markdown",
   "id": "439b0639",
   "metadata": {},
   "source": [
    "It is noted that the average played hours of players on the PLAICRAFT server is 5.8 hours with a range of 0-223.1 hours. The average age of players on the PLAICRAFT server is 20.5 with a range of 8-50 years old."
   ]
  },
  {
   "cell_type": "markdown",
   "id": "602290dd",
   "metadata": {},
   "source": [
    "**(2.3.2)** Distribution of players subscribed and not subscribed to the newsletter:"
   ]
  },
  {
   "cell_type": "code",
   "execution_count": 6,
   "id": "0bcba9a7",
   "metadata": {
    "vscode": {
     "languageId": "r"
    }
   },
   "outputs": [
    {
     "data": {
      "text/html": [
       "<table class=\"dataframe\">\n",
       "<caption>A tibble: 2 × 2</caption>\n",
       "<thead>\n",
       "\t<tr><th scope=col>subscribed_to_newsletter</th><th scope=col>count</th></tr>\n",
       "\t<tr><th scope=col>&lt;fct&gt;</th><th scope=col>&lt;int&gt;</th></tr>\n",
       "</thead>\n",
       "<tbody>\n",
       "\t<tr><td>FALSE</td><td> 52</td></tr>\n",
       "\t<tr><td>TRUE </td><td>144</td></tr>\n",
       "</tbody>\n",
       "</table>\n"
      ],
      "text/latex": [
       "A tibble: 2 × 2\n",
       "\\begin{tabular}{ll}\n",
       " subscribed\\_to\\_newsletter & count\\\\\n",
       " <fct> & <int>\\\\\n",
       "\\hline\n",
       "\t FALSE &  52\\\\\n",
       "\t TRUE  & 144\\\\\n",
       "\\end{tabular}\n"
      ],
      "text/markdown": [
       "\n",
       "A tibble: 2 × 2\n",
       "\n",
       "| subscribed_to_newsletter &lt;fct&gt; | count &lt;int&gt; |\n",
       "|---|---|\n",
       "| FALSE |  52 |\n",
       "| TRUE  | 144 |\n",
       "\n"
      ],
      "text/plain": [
       "  subscribed_to_newsletter count\n",
       "1 FALSE                     52  \n",
       "2 TRUE                     144  "
      ]
     },
     "metadata": {},
     "output_type": "display_data"
    }
   ],
   "source": [
    "players_wrangled |>\n",
    "    group_by(subscribed_to_newsletter = subscribe) |>\n",
    "    summarize(count = n())"
   ]
  },
  {
   "cell_type": "markdown",
   "id": "8d60e884",
   "metadata": {},
   "source": [
    "This shows an considerable imbalence in the label, this will need to be balenced during later analysis."
   ]
  },
  {
   "cell_type": "markdown",
   "id": "5bbd7ec6",
   "metadata": {},
   "source": [
    "### (2.4) Exploratory Visual Data Analysis"
   ]
  },
  {
   "cell_type": "markdown",
   "id": "60efad26",
   "metadata": {},
   "source": [
    "**(2.4.1)** Distribution of players by age:"
   ]
  },
  {
   "cell_type": "code",
   "execution_count": 7,
   "id": "adb14942",
   "metadata": {
    "vscode": {
     "languageId": "r"
    }
   },
   "outputs": [
    {
     "name": "stderr",
     "output_type": "stream",
     "text": [
      "Warning message:\n",
      "\"\u001b[1m\u001b[22mRemoved 2 rows containing non-finite outside the scale range (`stat_count()`).\"\n"
     ]
    },
    {
     "data": {
      "image/png": "[encoded data removed]",
      "text/plain": [
       "plot without title"
      ]
     },
     "metadata": {
      "image/png": {
       "height": 240,
       "width": 360
      }
     },
     "output_type": "display_data"
    }
   ],
   "source": [
    "options(repr.plot.width = 6, repr.plot.height = 4)\n",
    "\n",
    "ggplot(players_wrangled, aes(x = age)) +\n",
    "    geom_bar(stat = \"count\") +\n",
    "    labs(title = \"Figure 1: Total players per self-reported age\",\n",
    "        x = \"Self-reported age (years)\",\n",
    "        y = \"Number of players\") +\n",
    "    theme(text = element_text(size = 14))"
   ]
  },
  {
   "cell_type": "markdown",
   "id": "d05de955",
   "metadata": {},
   "source": [
    "This shows that the general non-outlying data is symmetric around a mode of 21 years, with a longer tail towards higher ages since players must be at least 7 but can be up to 99. There is also an extreme spike at 17 years old due to 17 being the default age on the data collection survey (Pacific Laboratory of Artificial Intelligence, 2024)."
   ]
  },
  {
   "cell_type": "markdown",
   "id": "3ab97669",
   "metadata": {},
   "source": [
    "**(2.4.2)** Fraction of players subscribed to the newsletter per experience level:"
   ]
  },
  {
   "cell_type": "code",
   "execution_count": 8,
   "id": "068fb942",
   "metadata": {
    "vscode": {
     "languageId": "r"
    }
   },
   "outputs": [
    {
     "data": {
      "image/png": "[encoded data removed]",
      "text/plain": [
       "plot without title"
      ]
     },
     "metadata": {
      "image/png": {
       "height": 240,
       "width": 360
      }
     },
     "output_type": "display_data"
    }
   ],
   "source": [
    "players_experience_count <- players_wrangled |>\n",
    "    group_by(experience) |>\n",
    "    summarize(total = n())\n",
    "\n",
    "players_subscribed_experiance_count <- players_wrangled |>\n",
    "    filter(subscribe == TRUE) |>\n",
    "    group_by(experience) |>\n",
    "    summarize(subscribed = n())\n",
    "\n",
    "players_experience_subscribed_fraction <- players_experience_count |>\n",
    "    bind_cols(subscribed = pull(players_subscribed_experiance_count, subscribed)) |>\n",
    "    mutate(fraction = subscribed/total)\n",
    "\n",
    "\n",
    "ggplot(players_experience_subscribed_fraction, aes(x = experience, y = fraction)) +\n",
    "    geom_bar(stat = \"identity\") +\n",
    "    ylim(c(0, 1)) +\n",
    "    labs(title = \"Figure 2: Fraction of players subscribed to \\na game-related newsletter per experience level\",\n",
    "        x = \"Self-reported experience level\",\n",
    "        y = \"Fraction of played subscribed\") +\n",
    "    theme(text = element_text(size = 14))"
   ]
  },
  {
   "cell_type": "markdown",
   "id": "a8cff942",
   "metadata": {},
   "source": [
    "There is a general downwards trend in subscriptions as experience increases with the exception of players of *Regular* experience. This shows experience may be a useful predictor of subscription."
   ]
  },
  {
   "cell_type": "markdown",
   "id": "32b5f233",
   "metadata": {},
   "source": [
    "**(2.4.3)** Total play time and age of each player colored according to subscription status:"
   ]
  },
  {
   "cell_type": "code",
   "execution_count": 9,
   "id": "89d17dee",
   "metadata": {
    "vscode": {
     "languageId": "r"
    }
   },
   "outputs": [
    {
     "name": "stderr",
     "output_type": "stream",
     "text": [
      "Warning message:\n",
      "\"\u001b[1m\u001b[22mRemoved 2 rows containing missing values or values outside the scale range\n",
      "(`geom_point()`).\"\n"
     ]
    },
    {
     "data": {
      "image/png": "[encoded data removed]",
      "text/plain": [
       "plot without title"
      ]
     },
     "metadata": {
      "image/png": {
       "height": 360,
       "width": 420
      }
     },
     "output_type": "display_data"
    }
   ],
   "source": [
    "options(repr.plot.width = 7, repr.plot.height = 6)\n",
    "\n",
    "players_time_vs_age <- ggplot(players_wrangled, aes(x = age, y = played_hours, color = subscribe)) +\n",
    "    geom_point() +\n",
    "    labs(title = \"Figure 3: Total play time and the age of players \\ncolored according to subscription status\",\n",
    "        x = \"Self-reported age of player (years)\",\n",
    "        y = \"Total time played on server (hours)\",\n",
    "        color = \"The player is subscribed to the game-related newsletter\") +\n",
    "    scale_color_manual(values = c(\"darkorange\", \"steelblue\")) +\n",
    "    theme(text = element_text(size = 14),\n",
    "         legend.position = \"bottom\",\n",
    "         legend.direction = \"vertical\")\n",
    "\n",
    "players_time_vs_age"
   ]
  },
  {
   "cell_type": "markdown",
   "id": "ac14e2f8",
   "metadata": {},
   "source": [
    "Most players appear to have very low play time, except a few players with very high play time in the hundreds of hours. The below logarithmic time played scale shows a more detailed view of players:"
   ]
  },
  {
   "cell_type": "code",
   "execution_count": 10,
   "id": "cf5ca7b8",
   "metadata": {
    "vscode": {
     "languageId": "r"
    }
   },
   "outputs": [
    {
     "name": "stderr",
     "output_type": "stream",
     "text": [
      "Warning message in scale_y_log10():\n",
      "\"\u001b[1m\u001b[22m\u001b[32mlog-10\u001b[39m transformation introduced infinite values.\"\n",
      "Warning message:\n",
      "\"\u001b[1m\u001b[22mRemoved 2 rows containing missing values or values outside the scale range\n",
      "(`geom_point()`).\"\n"
     ]
    },
    {
     "data": {
      "image/png": "[encoded data removed]",
      "text/plain": [
       "plot without title"
      ]
     },
     "metadata": {
      "image/png": {
       "height": 360,
       "width": 420
      }
     },
     "output_type": "display_data"
    }
   ],
   "source": [
    "players_time_vs_age_log10 <- players_time_vs_age + \n",
    "    scale_y_log10() +\n",
    "    ggtitle(\"Figure 4: Total play time and the age of players colored \\naccording to subscription status (logarithmic scale)\")\n",
    "\n",
    "players_time_vs_age_log10"
   ]
  },
  {
   "cell_type": "markdown",
   "id": "59970de1",
   "metadata": {},
   "source": [
    "It is seen generally that players of higher playtime and lesser age are more likely to be subscribed to a game-related newsletter. Though the relationship is highly mixed, these two variables could both prove useful in predicting subscription."
   ]
  },
  {
   "cell_type": "markdown",
   "id": "875b1e32",
   "metadata": {},
   "source": [
    "### (2.5) Data Analysis"
   ]
  },
  {
   "cell_type": "markdown",
   "id": "6dc5a743",
   "metadata": {},
   "source": [
    "**(2.5.01)** Plan of analysis:\n",
    "\n",
    "The experience levels *Beginner*, *Amateur*, *Regular*, *Pro* and *Veteran* will be recoded as integers 1-5, respectively. Observations with NAs will be dropped. The data will be split into 75% training and 25% testing data, and balanced over the `subscribe` variable. With the training data, best subset selection will determine which of `age`, `experience` and `played_hours` will be included in a KNN classification model to predict `subscribe`. 10-fold cross-validation will determine the optimal value for K. Finally, the resulting prediction model will be assessed with the test data.\n",
    "\n",
    "The label is a boolean variable, making it suitable for classification. Best subset selection and cross-validation will ensure optimization of KNN classification. It is assumed that the bias in the age predictor for 17 will not have too great an effect on predictions. Although no predictor correlated strongly with the label, they are the best available choices."
   ]
  },
  {
   "cell_type": "markdown",
   "id": "ef4f0a8e",
   "metadata": {},
   "source": [
    "**(2.5.02)** Mapping experience levels *Beginner*, *Amateur*, *Regular*, *Pro* and *Veteran* to integers 1-5:"
   ]
  },
  {
   "cell_type": "code",
   "execution_count": 11,
   "id": "6ebca50b",
   "metadata": {
    "vscode": {
     "languageId": "r"
    }
   },
   "outputs": [
    {
     "data": {
      "text/html": [
       "<table class=\"dataframe\">\n",
       "<caption>A tibble: 196 × 4</caption>\n",
       "<thead>\n",
       "\t<tr><th scope=col>experience</th><th scope=col>subscribe</th><th scope=col>played_hours</th><th scope=col>age</th></tr>\n",
       "\t<tr><th scope=col>&lt;int&gt;</th><th scope=col>&lt;fct&gt;</th><th scope=col>&lt;dbl&gt;</th><th scope=col>&lt;int&gt;</th></tr>\n",
       "</thead>\n",
       "<tbody>\n",
       "\t<tr><td>4</td><td>TRUE </td><td>30.3</td><td> 9</td></tr>\n",
       "\t<tr><td>5</td><td>TRUE </td><td> 3.8</td><td>17</td></tr>\n",
       "\t<tr><td>5</td><td>FALSE</td><td> 0.0</td><td>17</td></tr>\n",
       "\t<tr><td>⋮</td><td>⋮</td><td>⋮</td><td>⋮</td></tr>\n",
       "\t<tr><td>2</td><td>FALSE</td><td>0.0</td><td>17</td></tr>\n",
       "\t<tr><td>2</td><td>FALSE</td><td>2.3</td><td>17</td></tr>\n",
       "\t<tr><td>4</td><td>TRUE </td><td>0.2</td><td>NA</td></tr>\n",
       "</tbody>\n",
       "</table>\n"
      ],
      "text/latex": [
       "A tibble: 196 × 4\n",
       "\\begin{tabular}{llll}\n",
       " experience & subscribe & played\\_hours & age\\\\\n",
       " <int> & <fct> & <dbl> & <int>\\\\\n",
       "\\hline\n",
       "\t 4 & TRUE  & 30.3 &  9\\\\\n",
       "\t 5 & TRUE  &  3.8 & 17\\\\\n",
       "\t 5 & FALSE &  0.0 & 17\\\\\n",
       "\t ⋮ & ⋮ & ⋮ & ⋮\\\\\n",
       "\t 2 & FALSE & 0.0 & 17\\\\\n",
       "\t 2 & FALSE & 2.3 & 17\\\\\n",
       "\t 4 & TRUE  & 0.2 & NA\\\\\n",
       "\\end{tabular}\n"
      ],
      "text/markdown": [
       "\n",
       "A tibble: 196 × 4\n",
       "\n",
       "| experience &lt;int&gt; | subscribe &lt;fct&gt; | played_hours &lt;dbl&gt; | age &lt;int&gt; |\n",
       "|---|---|---|---|\n",
       "| 4 | TRUE  | 30.3 |  9 |\n",
       "| 5 | TRUE  |  3.8 | 17 |\n",
       "| 5 | FALSE |  0.0 | 17 |\n",
       "| ⋮ | ⋮ | ⋮ | ⋮ |\n",
       "| 2 | FALSE | 0.0 | 17 |\n",
       "| 2 | FALSE | 2.3 | 17 |\n",
       "| 4 | TRUE  | 0.2 | NA |\n",
       "\n"
      ],
      "text/plain": [
       "    experience subscribe played_hours age\n",
       "1   4          TRUE      30.3          9 \n",
       "2   5          TRUE       3.8         17 \n",
       "3   5          FALSE      0.0         17 \n",
       "⋮   ⋮          ⋮         ⋮            ⋮  \n",
       "194 2          FALSE     0.0          17 \n",
       "195 2          FALSE     2.3          17 \n",
       "196 4          TRUE      0.2          NA "
      ]
     },
     "metadata": {},
     "output_type": "display_data"
    }
   ],
   "source": [
    "players_integers <- players_wrangled |>\n",
    "    mutate(experience = as.integer(experience))\n",
    "\n",
    "players_integers"
   ]
  },
  {
   "cell_type": "markdown",
   "id": "5e4a6cdc",
   "metadata": {},
   "source": [
    "**(2.5.03)** Dropping NAs (Since there's only two observations with NAs, this operation is applicable):"
   ]
  },
  {
   "cell_type": "code",
   "execution_count": 12,
   "id": "368db114",
   "metadata": {
    "vscode": {
     "languageId": "r"
    }
   },
   "outputs": [
    {
     "data": {
      "text/html": [
       "<table class=\"dataframe\">\n",
       "<caption>A tibble: 194 × 4</caption>\n",
       "<thead>\n",
       "\t<tr><th scope=col>experience</th><th scope=col>subscribe</th><th scope=col>played_hours</th><th scope=col>age</th></tr>\n",
       "\t<tr><th scope=col>&lt;int&gt;</th><th scope=col>&lt;fct&gt;</th><th scope=col>&lt;dbl&gt;</th><th scope=col>&lt;int&gt;</th></tr>\n",
       "</thead>\n",
       "<tbody>\n",
       "\t<tr><td>4</td><td>TRUE </td><td>30.3</td><td> 9</td></tr>\n",
       "\t<tr><td>5</td><td>TRUE </td><td> 3.8</td><td>17</td></tr>\n",
       "\t<tr><td>5</td><td>FALSE</td><td> 0.0</td><td>17</td></tr>\n",
       "\t<tr><td>⋮</td><td>⋮</td><td>⋮</td><td>⋮</td></tr>\n",
       "\t<tr><td>5</td><td>FALSE</td><td>0.3</td><td>22</td></tr>\n",
       "\t<tr><td>2</td><td>FALSE</td><td>0.0</td><td>17</td></tr>\n",
       "\t<tr><td>2</td><td>FALSE</td><td>2.3</td><td>17</td></tr>\n",
       "</tbody>\n",
       "</table>\n"
      ],
      "text/latex": [
       "A tibble: 194 × 4\n",
       "\\begin{tabular}{llll}\n",
       " experience & subscribe & played\\_hours & age\\\\\n",
       " <int> & <fct> & <dbl> & <int>\\\\\n",
       "\\hline\n",
       "\t 4 & TRUE  & 30.3 &  9\\\\\n",
       "\t 5 & TRUE  &  3.8 & 17\\\\\n",
       "\t 5 & FALSE &  0.0 & 17\\\\\n",
       "\t ⋮ & ⋮ & ⋮ & ⋮\\\\\n",
       "\t 5 & FALSE & 0.3 & 22\\\\\n",
       "\t 2 & FALSE & 0.0 & 17\\\\\n",
       "\t 2 & FALSE & 2.3 & 17\\\\\n",
       "\\end{tabular}\n"
      ],
      "text/markdown": [
       "\n",
       "A tibble: 194 × 4\n",
       "\n",
       "| experience &lt;int&gt; | subscribe &lt;fct&gt; | played_hours &lt;dbl&gt; | age &lt;int&gt; |\n",
       "|---|---|---|---|\n",
       "| 4 | TRUE  | 30.3 |  9 |\n",
       "| 5 | TRUE  |  3.8 | 17 |\n",
       "| 5 | FALSE |  0.0 | 17 |\n",
       "| ⋮ | ⋮ | ⋮ | ⋮ |\n",
       "| 5 | FALSE | 0.3 | 22 |\n",
       "| 2 | FALSE | 0.0 | 17 |\n",
       "| 2 | FALSE | 2.3 | 17 |\n",
       "\n"
      ],
      "text/plain": [
       "    experience subscribe played_hours age\n",
       "1   4          TRUE      30.3          9 \n",
       "2   5          TRUE       3.8         17 \n",
       "3   5          FALSE      0.0         17 \n",
       "⋮   ⋮          ⋮         ⋮            ⋮  \n",
       "192 5          FALSE     0.3          22 \n",
       "193 2          FALSE     0.0          17 \n",
       "194 2          FALSE     2.3          17 "
      ]
     },
     "metadata": {},
     "output_type": "display_data"
    }
   ],
   "source": [
    "players <- players_integers |>\n",
    "    drop_na()\n",
    "\n",
    "players"
   ]
  },
  {
   "cell_type": "markdown",
   "id": "f016a813",
   "metadata": {},
   "source": [
    "**(2.5.04)** Creating the initial split with stratification over `subscribe`:"
   ]
  },
  {
   "cell_type": "code",
   "execution_count": 13,
   "id": "7ac5826f",
   "metadata": {
    "vscode": {
     "languageId": "r"
    }
   },
   "outputs": [
    {
     "data": {
      "text/html": [
       "<table class=\"dataframe\">\n",
       "<caption>A tibble: 145 × 4</caption>\n",
       "<thead>\n",
       "\t<tr><th scope=col>experience</th><th scope=col>subscribe</th><th scope=col>played_hours</th><th scope=col>age</th></tr>\n",
       "\t<tr><th scope=col>&lt;int&gt;</th><th scope=col>&lt;fct&gt;</th><th scope=col>&lt;dbl&gt;</th><th scope=col>&lt;int&gt;</th></tr>\n",
       "</thead>\n",
       "<tbody>\n",
       "\t<tr><td>2</td><td>FALSE</td><td>0.0</td><td>22</td></tr>\n",
       "\t<tr><td>2</td><td>FALSE</td><td>0.1</td><td>17</td></tr>\n",
       "\t<tr><td>5</td><td>FALSE</td><td>0.1</td><td>18</td></tr>\n",
       "\t<tr><td>⋮</td><td>⋮</td><td>⋮</td><td>⋮</td></tr>\n",
       "\t<tr><td>2</td><td>TRUE</td><td>0</td><td>17</td></tr>\n",
       "\t<tr><td>1</td><td>TRUE</td><td>0</td><td>17</td></tr>\n",
       "\t<tr><td>2</td><td>TRUE</td><td>0</td><td>17</td></tr>\n",
       "</tbody>\n",
       "</table>\n"
      ],
      "text/latex": [
       "A tibble: 145 × 4\n",
       "\\begin{tabular}{llll}\n",
       " experience & subscribe & played\\_hours & age\\\\\n",
       " <int> & <fct> & <dbl> & <int>\\\\\n",
       "\\hline\n",
       "\t 2 & FALSE & 0.0 & 22\\\\\n",
       "\t 2 & FALSE & 0.1 & 17\\\\\n",
       "\t 5 & FALSE & 0.1 & 18\\\\\n",
       "\t ⋮ & ⋮ & ⋮ & ⋮\\\\\n",
       "\t 2 & TRUE & 0 & 17\\\\\n",
       "\t 1 & TRUE & 0 & 17\\\\\n",
       "\t 2 & TRUE & 0 & 17\\\\\n",
       "\\end{tabular}\n"
      ],
      "text/markdown": [
       "\n",
       "A tibble: 145 × 4\n",
       "\n",
       "| experience &lt;int&gt; | subscribe &lt;fct&gt; | played_hours &lt;dbl&gt; | age &lt;int&gt; |\n",
       "|---|---|---|---|\n",
       "| 2 | FALSE | 0.0 | 22 |\n",
       "| 2 | FALSE | 0.1 | 17 |\n",
       "| 5 | FALSE | 0.1 | 18 |\n",
       "| ⋮ | ⋮ | ⋮ | ⋮ |\n",
       "| 2 | TRUE | 0 | 17 |\n",
       "| 1 | TRUE | 0 | 17 |\n",
       "| 2 | TRUE | 0 | 17 |\n",
       "\n"
      ],
      "text/plain": [
       "    experience subscribe played_hours age\n",
       "1   2          FALSE     0.0          22 \n",
       "2   2          FALSE     0.1          17 \n",
       "3   5          FALSE     0.1          18 \n",
       "⋮   ⋮          ⋮         ⋮            ⋮  \n",
       "143 2          TRUE      0            17 \n",
       "144 1          TRUE      0            17 \n",
       "145 2          TRUE      0            17 "
      ]
     },
     "metadata": {},
     "output_type": "display_data"
    }
   ],
   "source": [
    "set.seed(1000)\n",
    "\n",
    "players_split <- players |>\n",
    "    initial_split(prop = 0.75, strata = subscribe)\n",
    "\n",
    "players_training <- training(players_split)\n",
    "players_testing <- testing(players_split)\n",
    "\n",
    "players_training"
   ]
  },
  {
   "cell_type": "markdown",
   "id": "1cf84216",
   "metadata": {},
   "source": [
    "The training data will be investigated further to aid in future analysis:"
   ]
  },
  {
   "cell_type": "code",
   "execution_count": 14,
   "id": "b2b8cf2d",
   "metadata": {
    "vscode": {
     "languageId": "r"
    }
   },
   "outputs": [
    {
     "data": {
      "text/html": [
       "<table class=\"dataframe\">\n",
       "<caption>A tibble: 2 × 2</caption>\n",
       "<thead>\n",
       "\t<tr><th scope=col>subscribe</th><th scope=col>count</th></tr>\n",
       "\t<tr><th scope=col>&lt;fct&gt;</th><th scope=col>&lt;int&gt;</th></tr>\n",
       "</thead>\n",
       "<tbody>\n",
       "\t<tr><td>FALSE</td><td> 39</td></tr>\n",
       "\t<tr><td>TRUE </td><td>106</td></tr>\n",
       "</tbody>\n",
       "</table>\n"
      ],
      "text/latex": [
       "A tibble: 2 × 2\n",
       "\\begin{tabular}{ll}\n",
       " subscribe & count\\\\\n",
       " <fct> & <int>\\\\\n",
       "\\hline\n",
       "\t FALSE &  39\\\\\n",
       "\t TRUE  & 106\\\\\n",
       "\\end{tabular}\n"
      ],
      "text/markdown": [
       "\n",
       "A tibble: 2 × 2\n",
       "\n",
       "| subscribe &lt;fct&gt; | count &lt;int&gt; |\n",
       "|---|---|\n",
       "| FALSE |  39 |\n",
       "| TRUE  | 106 |\n",
       "\n"
      ],
      "text/plain": [
       "  subscribe count\n",
       "1 FALSE      39  \n",
       "2 TRUE      106  "
      ]
     },
     "metadata": {},
     "output_type": "display_data"
    }
   ],
   "source": [
    "players_training |>\n",
    "    group_by(subscribe) |>\n",
    "    summarize(count = n())"
   ]
  },
  {
   "cell_type": "markdown",
   "id": "339b68fd",
   "metadata": {},
   "source": [
    "It is seen that $\\frac{39}{145} \\approx$ 26.8% of the training data is non-subscribers while the remaining 73.1% are subscribers."
   ]
  },
  {
   "cell_type": "markdown",
   "id": "8302144c",
   "metadata": {},
   "source": [
    "**(2.5.05)** Creating recipies for each subset with centering, scaling and upsampling (balance):"
   ]
  },
  {
   "cell_type": "code",
   "execution_count": 15,
   "id": "c219b924",
   "metadata": {
    "vscode": {
     "languageId": "r"
    }
   },
   "outputs": [],
   "source": [
    "set.seed(1000)\n",
    "\n",
    "exp_recipe <- recipe(subscribe ~ experience, data = players_training) |>\n",
    "    step_scale(all_predictors()) |>\n",
    "    step_center(all_predictors()) |>\n",
    "    step_upsample(subscribe, over_ratio = 1)\n",
    "\n",
    "hrs_recipe <- recipe(subscribe ~ played_hours, data = players_training) |>\n",
    "    step_scale(all_predictors()) |>\n",
    "    step_center(all_predictors()) |>\n",
    "    step_upsample(subscribe, over_ratio = 1)\n",
    "\n",
    "age_recipe <- recipe(subscribe ~ age, data = players_training) |>\n",
    "    step_scale(all_predictors()) |>\n",
    "    step_center(all_predictors()) |>\n",
    "    step_upsample(subscribe, over_ratio = 1)\n",
    "\n",
    "exp_hrs_recipe <- recipe(subscribe ~ experience + played_hours, data = players_training) |>\n",
    "    step_scale(all_predictors()) |>\n",
    "    step_center(all_predictors()) |>\n",
    "    step_upsample(subscribe, over_ratio = 1)\n",
    "\n",
    "exp_age_recipe <- recipe(subscribe ~ experience + age, data = players_training) |>\n",
    "    step_scale(all_predictors()) |>\n",
    "    step_center(all_predictors()) |>\n",
    "    step_upsample(subscribe, over_ratio = 1)\n",
    "\n",
    "hrs_age_recipe <- recipe(subscribe ~ played_hours + age, data = players_training) |>\n",
    "    step_scale(all_predictors()) |>\n",
    "    step_center(all_predictors()) |>\n",
    "    step_upsample(subscribe, over_ratio = 1)\n",
    "\n",
    "exp_hrs_age_recipe <- recipe(subscribe ~ ., data = players_training) |>\n",
    "    step_scale(all_predictors()) |>\n",
    "    step_center(all_predictors()) |>\n",
    "    step_upsample(subscribe, over_ratio = 1)"
   ]
  },
  {
   "cell_type": "markdown",
   "id": "1c75648e",
   "metadata": {},
   "source": [
    "**(2.5.06)** Tuning model specification:"
   ]
  },
  {
   "cell_type": "code",
   "execution_count": 16,
   "id": "26bbdf12",
   "metadata": {
    "vscode": {
     "languageId": "r"
    }
   },
   "outputs": [
    {
     "data": {
      "text/plain": [
       "K-Nearest Neighbor Model Specification (classification)\n",
       "\n",
       "Main Arguments:\n",
       "  neighbors = tune()\n",
       "  weight_func = rectangular\n",
       "\n",
       "Computational engine: kknn \n"
      ]
     },
     "metadata": {},
     "output_type": "display_data"
    }
   ],
   "source": [
    "knn_tune <- nearest_neighbor(weight_func = \"rectangular\", neighbors = tune()) |>\n",
    "    set_engine(\"kknn\") |>\n",
    "    set_mode(\"classification\")\n",
    "\n",
    "knn_tune"
   ]
  },
  {
   "cell_type": "markdown",
   "id": "3ac37829",
   "metadata": {},
   "source": [
    "**(2.5.07)** 10-fold cross-validation specification:"
   ]
  },
  {
   "cell_type": "code",
   "execution_count": 17,
   "id": "6866c92b",
   "metadata": {
    "vscode": {
     "languageId": "r"
    }
   },
   "outputs": [
    {
     "name": "stdout",
     "output_type": "stream",
     "text": [
      "#  10-fold cross-validation using stratification \n",
      "\u001b[90m# A tibble: 10 × 2\u001b[39m\n",
      "   splits           id    \n",
      "   \u001b[3m\u001b[90m<list>\u001b[39m\u001b[23m           \u001b[3m\u001b[90m<chr>\u001b[39m\u001b[23m \n",
      "\u001b[90m 1\u001b[39m \u001b[90m<split [130/15]>\u001b[39m Fold01\n",
      "\u001b[90m 2\u001b[39m \u001b[90m<split [130/15]>\u001b[39m Fold02\n",
      "\u001b[90m 3\u001b[39m \u001b[90m<split [130/15]>\u001b[39m Fold03\n",
      "\u001b[90m 4\u001b[39m \u001b[90m<split [130/15]>\u001b[39m Fold04\n",
      "\u001b[90m 5\u001b[39m \u001b[90m<split [130/15]>\u001b[39m Fold05\n",
      "\u001b[90m 6\u001b[39m \u001b[90m<split [130/15]>\u001b[39m Fold06\n",
      "\u001b[90m 7\u001b[39m \u001b[90m<split [131/14]>\u001b[39m Fold07\n",
      "\u001b[90m 8\u001b[39m \u001b[90m<split [131/14]>\u001b[39m Fold08\n",
      "\u001b[90m 9\u001b[39m \u001b[90m<split [131/14]>\u001b[39m Fold09\n",
      "\u001b[90m10\u001b[39m \u001b[90m<split [132/13]>\u001b[39m Fold10\n"
     ]
    }
   ],
   "source": [
    "set.seed(1000)\n",
    "\n",
    "players_vfold <- vfold_cv(players_training, v = 10, strata = subscribe)\n",
    "\n",
    "print(players_vfold)"
   ]
  },
  {
   "cell_type": "markdown",
   "id": "520774e8",
   "metadata": {},
   "source": [
    "Note that when using step_upsample() with cross-validation, the training set is balanced whilst the validation set is not."
   ]
  },
  {
   "cell_type": "markdown",
   "id": "5ab8c1d6-6e6e-436f-b449-6cf1b6152db3",
   "metadata": {},
   "source": [
    "**(2.5.08)** Creating tibble of all neighbor counts to test. 1-185 neighbours will be tested as this covers all potential values for each recipe but is not too computationally expensive as the dataset is quite small. Testing the maximum range will provide the maximum insight into our data possible."
   ]
  },
  {
   "cell_type": "code",
   "execution_count": 18,
   "id": "785a3700-0b87-4a78-8baf-957d2802d702",
   "metadata": {
    "vscode": {
     "languageId": "r"
    }
   },
   "outputs": [],
   "source": [
    "neighbors <- tibble(neighbors = c(1:185))"
   ]
  },
  {
   "cell_type": "markdown",
   "id": "a5b32667-869d-4931-8134-655be2dfd117",
   "metadata": {},
   "source": [
    "**(2.5.09)** Tuning `experience` predictor subset"
   ]
  },
  {
   "cell_type": "code",
   "execution_count": 19,
   "id": "6d9c6e0f-4d51-4261-9407-e964ffbca542",
   "metadata": {
    "vscode": {
     "languageId": "r"
    }
   },
   "outputs": [
    {
     "data": {
      "text/html": [
       "<table class=\"dataframe\">\n",
       "<caption>A tibble: 1 × 7</caption>\n",
       "<thead>\n",
       "\t<tr><th scope=col>neighbors</th><th scope=col>.metric</th><th scope=col>.estimator</th><th scope=col>mean</th><th scope=col>n</th><th scope=col>std_err</th><th scope=col>.config</th></tr>\n",
       "\t<tr><th scope=col>&lt;int&gt;</th><th scope=col>&lt;chr&gt;</th><th scope=col>&lt;chr&gt;</th><th scope=col>&lt;dbl&gt;</th><th scope=col>&lt;int&gt;</th><th scope=col>&lt;dbl&gt;</th><th scope=col>&lt;chr&gt;</th></tr>\n",
       "</thead>\n",
       "<tbody>\n",
       "\t<tr><td>125</td><td>accuracy</td><td>binary</td><td>0.5386813</td><td>10</td><td>0.03642602</td><td>Preprocessor1_Model125</td></tr>\n",
       "</tbody>\n",
       "</table>\n"
      ],
      "text/latex": [
       "A tibble: 1 × 7\n",
       "\\begin{tabular}{lllllll}\n",
       " neighbors & .metric & .estimator & mean & n & std\\_err & .config\\\\\n",
       " <int> & <chr> & <chr> & <dbl> & <int> & <dbl> & <chr>\\\\\n",
       "\\hline\n",
       "\t 125 & accuracy & binary & 0.5386813 & 10 & 0.03642602 & Preprocessor1\\_Model125\\\\\n",
       "\\end{tabular}\n"
      ],
      "text/markdown": [
       "\n",
       "A tibble: 1 × 7\n",
       "\n",
       "| neighbors &lt;int&gt; | .metric &lt;chr&gt; | .estimator &lt;chr&gt; | mean &lt;dbl&gt; | n &lt;int&gt; | std_err &lt;dbl&gt; | .config &lt;chr&gt; |\n",
       "|---|---|---|---|---|---|---|\n",
       "| 125 | accuracy | binary | 0.5386813 | 10 | 0.03642602 | Preprocessor1_Model125 |\n",
       "\n"
      ],
      "text/plain": [
       "  neighbors .metric  .estimator mean      n  std_err    .config               \n",
       "1 125       accuracy binary     0.5386813 10 0.03642602 Preprocessor1_Model125"
      ]
     },
     "metadata": {},
     "output_type": "display_data"
    },
    {
     "data": {
      "image/png": "[encoded data removed]",
      "text/plain": [
       "plot without title"
      ]
     },
     "metadata": {
      "image/png": {
       "height": 360,
       "width": 420
      }
     },
     "output_type": "display_data"
    }
   ],
   "source": [
    "exp_metrics <- workflow() |>\n",
    "    add_recipe(exp_recipe) |>\n",
    "    add_model(knn_tune) |>\n",
    "    tune_grid(resamples = players_vfold, grid = neighbors) |>\n",
    "    collect_metrics() |>\n",
    "    filter(.metric == \"accuracy\") |>\n",
    "    arrange(desc(mean))\n",
    "\n",
    "exp_tuning_plot <- exp_metrics |>\n",
    "    ggplot(aes(x = neighbors, y = mean)) +\n",
    "    geom_point() +\n",
    "    geom_line() +\n",
    "    labs(title = \"Figure 5.1: Accuracy vs neighbors with experience predictor\",\n",
    "         x = \"Neighbors\",\n",
    "         y = \"Accuracy\") +\n",
    "    theme(text = element_text(size = 14))\n",
    "\n",
    "exp_tuning_plot\n",
    "slice(exp_metrics, 1)\n"
   ]
  },
  {
   "cell_type": "markdown",
   "id": "081ec26e",
   "metadata": {},
   "source": [
    "The pattern appears to be quite erratic, another two vfolds will be created to see if the same pattern emerges again."
   ]
  },
  {
   "cell_type": "code",
   "execution_count": 20,
   "id": "c5851335",
   "metadata": {
    "vscode": {
     "languageId": "r"
    }
   },
   "outputs": [],
   "source": [
    "set.seed(2000)\n",
    "\n",
    "players_vfold2 <- vfold_cv(players_training, v = 10, strata = subscribe)"
   ]
  },
  {
   "cell_type": "code",
   "execution_count": 21,
   "id": "9b191ae9",
   "metadata": {
    "vscode": {
     "languageId": "r"
    }
   },
   "outputs": [],
   "source": [
    "set.seed(3000)\n",
    "\n",
    "players_vfold3 <- vfold_cv(players_training, v = 10, strata = subscribe)"
   ]
  },
  {
   "cell_type": "code",
   "execution_count": 22,
   "id": "8d8ca54f",
   "metadata": {
    "vscode": {
     "languageId": "r"
    }
   },
   "outputs": [],
   "source": [
    "exp_metrics2 <- workflow() |>\n",
    "    add_recipe(exp_recipe) |>\n",
    "    add_model(knn_tune) |>\n",
    "    tune_grid(resamples = players_vfold2, grid = neighbors) |>\n",
    "    collect_metrics() |>\n",
    "    filter(.metric == \"accuracy\") |>\n",
    "    arrange(desc(mean))\n",
    "\n",
    "exp_tuning_plot2 <- exp_metrics2 |>\n",
    "    ggplot(aes(x = neighbors, y = mean)) +\n",
    "    geom_point() +\n",
    "    geom_line() +\n",
    "    labs(title = \"Figure 5.2: Accuracy vs neighbors with experience predictor \\ncomparison\",\n",
    "         x = \"Neighbors\",\n",
    "         y = \"Accuracy\") +\n",
    "    theme(text = element_text(size = 14))"
   ]
  },
  {
   "cell_type": "code",
   "execution_count": 23,
   "id": "cdebb723",
   "metadata": {
    "vscode": {
     "languageId": "r"
    }
   },
   "outputs": [],
   "source": [
    "exp_metrics3 <- workflow() |>\n",
    "    add_recipe(exp_recipe) |>\n",
    "    add_model(knn_tune) |>\n",
    "    tune_grid(resamples = players_vfold3, grid = neighbors) |>\n",
    "    collect_metrics() |>\n",
    "    filter(.metric == \"accuracy\") |>\n",
    "    arrange(desc(mean))\n",
    "\n",
    "exp_tuning_plot3 <- exp_metrics3 |>\n",
    "    ggplot(aes(x = neighbors, y = mean)) +\n",
    "    geom_point() +\n",
    "    geom_line() +\n",
    "    labs(title = \"Figure 5.3: Accuracy vs neighbors with experience predictor \\ncomparison\",\n",
    "         x = \"Neighbors\",\n",
    "         y = \"Accuracy\") +\n",
    "    theme(text = element_text(size = 14))"
   ]
  },
  {
   "cell_type": "code",
   "execution_count": 24,
   "id": "7e833556",
   "metadata": {
    "vscode": {
     "languageId": "r"
    }
   },
   "outputs": [
    {
     "data": {
      "text/html": [
       "<table class=\"dataframe\">\n",
       "<caption>A tibble: 1 × 7</caption>\n",
       "<thead>\n",
       "\t<tr><th scope=col>neighbors</th><th scope=col>.metric</th><th scope=col>.estimator</th><th scope=col>mean</th><th scope=col>n</th><th scope=col>std_err</th><th scope=col>.config</th></tr>\n",
       "\t<tr><th scope=col>&lt;int&gt;</th><th scope=col>&lt;chr&gt;</th><th scope=col>&lt;chr&gt;</th><th scope=col>&lt;dbl&gt;</th><th scope=col>&lt;int&gt;</th><th scope=col>&lt;dbl&gt;</th><th scope=col>&lt;chr&gt;</th></tr>\n",
       "</thead>\n",
       "<tbody>\n",
       "\t<tr><td>125</td><td>accuracy</td><td>binary</td><td>0.5386813</td><td>10</td><td>0.03642602</td><td>Preprocessor1_Model125</td></tr>\n",
       "</tbody>\n",
       "</table>\n"
      ],
      "text/latex": [
       "A tibble: 1 × 7\n",
       "\\begin{tabular}{lllllll}\n",
       " neighbors & .metric & .estimator & mean & n & std\\_err & .config\\\\\n",
       " <int> & <chr> & <chr> & <dbl> & <int> & <dbl> & <chr>\\\\\n",
       "\\hline\n",
       "\t 125 & accuracy & binary & 0.5386813 & 10 & 0.03642602 & Preprocessor1\\_Model125\\\\\n",
       "\\end{tabular}\n"
      ],
      "text/markdown": [
       "\n",
       "A tibble: 1 × 7\n",
       "\n",
       "| neighbors &lt;int&gt; | .metric &lt;chr&gt; | .estimator &lt;chr&gt; | mean &lt;dbl&gt; | n &lt;int&gt; | std_err &lt;dbl&gt; | .config &lt;chr&gt; |\n",
       "|---|---|---|---|---|---|---|\n",
       "| 125 | accuracy | binary | 0.5386813 | 10 | 0.03642602 | Preprocessor1_Model125 |\n",
       "\n"
      ],
      "text/plain": [
       "  neighbors .metric  .estimator mean      n  std_err    .config               \n",
       "1 125       accuracy binary     0.5386813 10 0.03642602 Preprocessor1_Model125"
      ]
     },
     "metadata": {},
     "output_type": "display_data"
    },
    {
     "data": {
      "text/html": [
       "<table class=\"dataframe\">\n",
       "<caption>A tibble: 1 × 7</caption>\n",
       "<thead>\n",
       "\t<tr><th scope=col>neighbors</th><th scope=col>.metric</th><th scope=col>.estimator</th><th scope=col>mean</th><th scope=col>n</th><th scope=col>std_err</th><th scope=col>.config</th></tr>\n",
       "\t<tr><th scope=col>&lt;int&gt;</th><th scope=col>&lt;chr&gt;</th><th scope=col>&lt;chr&gt;</th><th scope=col>&lt;dbl&gt;</th><th scope=col>&lt;int&gt;</th><th scope=col>&lt;dbl&gt;</th><th scope=col>&lt;chr&gt;</th></tr>\n",
       "</thead>\n",
       "<tbody>\n",
       "\t<tr><td>185</td><td>accuracy</td><td>binary</td><td>0.5624176</td><td>10</td><td>0.04939064</td><td>Preprocessor1_Model185</td></tr>\n",
       "</tbody>\n",
       "</table>\n"
      ],
      "text/latex": [
       "A tibble: 1 × 7\n",
       "\\begin{tabular}{lllllll}\n",
       " neighbors & .metric & .estimator & mean & n & std\\_err & .config\\\\\n",
       " <int> & <chr> & <chr> & <dbl> & <int> & <dbl> & <chr>\\\\\n",
       "\\hline\n",
       "\t 185 & accuracy & binary & 0.5624176 & 10 & 0.04939064 & Preprocessor1\\_Model185\\\\\n",
       "\\end{tabular}\n"
      ],
      "text/markdown": [
       "\n",
       "A tibble: 1 × 7\n",
       "\n",
       "| neighbors &lt;int&gt; | .metric &lt;chr&gt; | .estimator &lt;chr&gt; | mean &lt;dbl&gt; | n &lt;int&gt; | std_err &lt;dbl&gt; | .config &lt;chr&gt; |\n",
       "|---|---|---|---|---|---|---|\n",
       "| 185 | accuracy | binary | 0.5624176 | 10 | 0.04939064 | Preprocessor1_Model185 |\n",
       "\n"
      ],
      "text/plain": [
       "  neighbors .metric  .estimator mean      n  std_err    .config               \n",
       "1 185       accuracy binary     0.5624176 10 0.04939064 Preprocessor1_Model185"
      ]
     },
     "metadata": {},
     "output_type": "display_data"
    },
    {
     "data": {
      "text/html": [
       "<table class=\"dataframe\">\n",
       "<caption>A tibble: 1 × 7</caption>\n",
       "<thead>\n",
       "\t<tr><th scope=col>neighbors</th><th scope=col>.metric</th><th scope=col>.estimator</th><th scope=col>mean</th><th scope=col>n</th><th scope=col>std_err</th><th scope=col>.config</th></tr>\n",
       "\t<tr><th scope=col>&lt;int&gt;</th><th scope=col>&lt;chr&gt;</th><th scope=col>&lt;chr&gt;</th><th scope=col>&lt;dbl&gt;</th><th scope=col>&lt;int&gt;</th><th scope=col>&lt;dbl&gt;</th><th scope=col>&lt;chr&gt;</th></tr>\n",
       "</thead>\n",
       "<tbody>\n",
       "\t<tr><td>103</td><td>accuracy</td><td>binary</td><td>0.5627473</td><td>10</td><td>0.04506041</td><td>Preprocessor1_Model103</td></tr>\n",
       "</tbody>\n",
       "</table>\n"
      ],
      "text/latex": [
       "A tibble: 1 × 7\n",
       "\\begin{tabular}{lllllll}\n",
       " neighbors & .metric & .estimator & mean & n & std\\_err & .config\\\\\n",
       " <int> & <chr> & <chr> & <dbl> & <int> & <dbl> & <chr>\\\\\n",
       "\\hline\n",
       "\t 103 & accuracy & binary & 0.5627473 & 10 & 0.04506041 & Preprocessor1\\_Model103\\\\\n",
       "\\end{tabular}\n"
      ],
      "text/markdown": [
       "\n",
       "A tibble: 1 × 7\n",
       "\n",
       "| neighbors &lt;int&gt; | .metric &lt;chr&gt; | .estimator &lt;chr&gt; | mean &lt;dbl&gt; | n &lt;int&gt; | std_err &lt;dbl&gt; | .config &lt;chr&gt; |\n",
       "|---|---|---|---|---|---|---|\n",
       "| 103 | accuracy | binary | 0.5627473 | 10 | 0.04506041 | Preprocessor1_Model103 |\n",
       "\n"
      ],
      "text/plain": [
       "  neighbors .metric  .estimator mean      n  std_err    .config               \n",
       "1 103       accuracy binary     0.5627473 10 0.04506041 Preprocessor1_Model103"
      ]
     },
     "metadata": {},
     "output_type": "display_data"
    },
    {
     "data": {
      "image/png": "[encoded data removed]",
      "text/plain": [
       "plot without title"
      ]
     },
     "metadata": {
      "image/png": {
       "height": 360,
       "width": 1260
      }
     },
     "output_type": "display_data"
    }
   ],
   "source": [
    "options(repr.plot.width = 21, repr.plot.height = 6)\n",
    "plot_grid(exp_tuning_plot, exp_tuning_plot2, exp_tuning_plot2, ncol = 3)\n",
    "slice(exp_metrics, 1)\n",
    "slice(exp_metrics2, 1)\n",
    "slice(exp_metrics3, 1)"
   ]
  },
  {
   "cell_type": "markdown",
   "id": "ce495e80",
   "metadata": {},
   "source": [
    "These three cases had a peak accuracies of **53.9%-56.3%**. However, this is far worse than just guessing the majority label (73.1%)."
   ]
  },
  {
   "cell_type": "markdown",
   "id": "ab15cf0c",
   "metadata": {},
   "source": [
    "**(2.5.10)** Tuning `played_hours` predictor subset"
   ]
  },
  {
   "cell_type": "code",
   "execution_count": 25,
   "id": "9b7204bf",
   "metadata": {
    "vscode": {
     "languageId": "r"
    }
   },
   "outputs": [
    {
     "data": {
      "text/html": [
       "<table class=\"dataframe\">\n",
       "<caption>A tibble: 1 × 7</caption>\n",
       "<thead>\n",
       "\t<tr><th scope=col>neighbors</th><th scope=col>.metric</th><th scope=col>.estimator</th><th scope=col>mean</th><th scope=col>n</th><th scope=col>std_err</th><th scope=col>.config</th></tr>\n",
       "\t<tr><th scope=col>&lt;int&gt;</th><th scope=col>&lt;chr&gt;</th><th scope=col>&lt;chr&gt;</th><th scope=col>&lt;dbl&gt;</th><th scope=col>&lt;int&gt;</th><th scope=col>&lt;dbl&gt;</th><th scope=col>&lt;chr&gt;</th></tr>\n",
       "</thead>\n",
       "<tbody>\n",
       "\t<tr><td>161</td><td>accuracy</td><td>binary</td><td>0.5920147</td><td>10</td><td>0.04034469</td><td>Preprocessor1_Model161</td></tr>\n",
       "</tbody>\n",
       "</table>\n"
      ],
      "text/latex": [
       "A tibble: 1 × 7\n",
       "\\begin{tabular}{lllllll}\n",
       " neighbors & .metric & .estimator & mean & n & std\\_err & .config\\\\\n",
       " <int> & <chr> & <chr> & <dbl> & <int> & <dbl> & <chr>\\\\\n",
       "\\hline\n",
       "\t 161 & accuracy & binary & 0.5920147 & 10 & 0.04034469 & Preprocessor1\\_Model161\\\\\n",
       "\\end{tabular}\n"
      ],
      "text/markdown": [
       "\n",
       "A tibble: 1 × 7\n",
       "\n",
       "| neighbors &lt;int&gt; | .metric &lt;chr&gt; | .estimator &lt;chr&gt; | mean &lt;dbl&gt; | n &lt;int&gt; | std_err &lt;dbl&gt; | .config &lt;chr&gt; |\n",
       "|---|---|---|---|---|---|---|\n",
       "| 161 | accuracy | binary | 0.5920147 | 10 | 0.04034469 | Preprocessor1_Model161 |\n",
       "\n"
      ],
      "text/plain": [
       "  neighbors .metric  .estimator mean      n  std_err    .config               \n",
       "1 161       accuracy binary     0.5920147 10 0.04034469 Preprocessor1_Model161"
      ]
     },
     "metadata": {},
     "output_type": "display_data"
    },
    {
     "data": {
      "image/png": "[encoded data removed]",
      "text/plain": [
       "plot without title"
      ]
     },
     "metadata": {
      "image/png": {
       "height": 360,
       "width": 420
      }
     },
     "output_type": "display_data"
    }
   ],
   "source": [
    "hrs_metrics <- workflow() |>\n",
    "    add_recipe(hrs_recipe) |>\n",
    "    add_model(knn_tune) |>\n",
    "    tune_grid(resamples = players_vfold, grid = neighbors) |>\n",
    "    collect_metrics() |>\n",
    "    filter(.metric == \"accuracy\") |>\n",
    "    arrange(desc(mean))\n",
    "\n",
    "options(repr.plot.width = 7, repr.plot.height = 6)\n",
    "\n",
    "hrs_tuning_plot <- hrs_metrics |>\n",
    "    ggplot(aes(x = neighbors, y = mean)) +\n",
    "    geom_point() +\n",
    "    geom_line() +\n",
    "    labs(title = \"Figure 6.1: Accuracy vs neighbors with played_hours predictor\",\n",
    "         x = \"Neighbors\",\n",
    "         y = \"Accuracy\") +\n",
    "    theme(text = element_text(size = 14))\n",
    "\n",
    "hrs_tuning_plot\n",
    "slice(hrs_metrics, 1)"
   ]
  },
  {
   "cell_type": "markdown",
   "id": "75e91d35",
   "metadata": {},
   "source": [
    "As before, this is also erratic, the other two vfolds will be used here again to view consistencies:"
   ]
  },
  {
   "cell_type": "code",
   "execution_count": 26,
   "id": "362fb8cb",
   "metadata": {
    "vscode": {
     "languageId": "r"
    }
   },
   "outputs": [],
   "source": [
    "hrs_metrics2 <- workflow() |>\n",
    "    add_recipe(hrs_recipe) |>\n",
    "    add_model(knn_tune) |>\n",
    "    tune_grid(resamples = players_vfold2, grid = neighbors) |>\n",
    "    collect_metrics() |>\n",
    "    filter(.metric == \"accuracy\") |>\n",
    "    arrange(desc(mean))\n",
    "\n",
    "hrs_tuning_plot2 <- hrs_metrics2 |>\n",
    "    ggplot(aes(x = neighbors, y = mean)) +\n",
    "    geom_point() +\n",
    "    geom_line() +\n",
    "    labs(title = \"Figure 6.2: Accuracy vs neighbors with played_hours predictor \\ncomparison\",\n",
    "         x = \"Neighbors\",\n",
    "         y = \"Accuracy\") +\n",
    "    theme(text = element_text(size = 14))"
   ]
  },
  {
   "cell_type": "code",
   "execution_count": 27,
   "id": "4b0facd4",
   "metadata": {
    "vscode": {
     "languageId": "r"
    }
   },
   "outputs": [],
   "source": [
    "hrs_metrics3 <- workflow() |>\n",
    "    add_recipe(hrs_recipe) |>\n",
    "    add_model(knn_tune) |>\n",
    "    tune_grid(resamples = players_vfold3, grid = neighbors) |>\n",
    "    collect_metrics() |>\n",
    "    filter(.metric == \"accuracy\") |>\n",
    "    arrange(desc(mean))\n",
    "\n",
    "hrs_tuning_plot3 <- hrs_metrics3 |>\n",
    "    ggplot(aes(x = neighbors, y = mean)) +\n",
    "    geom_point() +\n",
    "    geom_line() +\n",
    "    labs(title = \"Figure 6.3: Accuracy vs neighbors with played_hours predictor \\ncomparison\",\n",
    "         x = \"Neighbors\",\n",
    "         y = \"Accuracy\") +\n",
    "    theme(text = element_text(size = 14))"
   ]
  },
  {
   "cell_type": "code",
   "execution_count": 28,
   "id": "51fd678f",
   "metadata": {
    "vscode": {
     "languageId": "r"
    }
   },
   "outputs": [
    {
     "data": {
      "text/html": [
       "<table class=\"dataframe\">\n",
       "<caption>A tibble: 1 × 7</caption>\n",
       "<thead>\n",
       "\t<tr><th scope=col>neighbors</th><th scope=col>.metric</th><th scope=col>.estimator</th><th scope=col>mean</th><th scope=col>n</th><th scope=col>std_err</th><th scope=col>.config</th></tr>\n",
       "\t<tr><th scope=col>&lt;int&gt;</th><th scope=col>&lt;chr&gt;</th><th scope=col>&lt;chr&gt;</th><th scope=col>&lt;dbl&gt;</th><th scope=col>&lt;int&gt;</th><th scope=col>&lt;dbl&gt;</th><th scope=col>&lt;chr&gt;</th></tr>\n",
       "</thead>\n",
       "<tbody>\n",
       "\t<tr><td>161</td><td>accuracy</td><td>binary</td><td>0.5920147</td><td>10</td><td>0.04034469</td><td>Preprocessor1_Model161</td></tr>\n",
       "</tbody>\n",
       "</table>\n"
      ],
      "text/latex": [
       "A tibble: 1 × 7\n",
       "\\begin{tabular}{lllllll}\n",
       " neighbors & .metric & .estimator & mean & n & std\\_err & .config\\\\\n",
       " <int> & <chr> & <chr> & <dbl> & <int> & <dbl> & <chr>\\\\\n",
       "\\hline\n",
       "\t 161 & accuracy & binary & 0.5920147 & 10 & 0.04034469 & Preprocessor1\\_Model161\\\\\n",
       "\\end{tabular}\n"
      ],
      "text/markdown": [
       "\n",
       "A tibble: 1 × 7\n",
       "\n",
       "| neighbors &lt;int&gt; | .metric &lt;chr&gt; | .estimator &lt;chr&gt; | mean &lt;dbl&gt; | n &lt;int&gt; | std_err &lt;dbl&gt; | .config &lt;chr&gt; |\n",
       "|---|---|---|---|---|---|---|\n",
       "| 161 | accuracy | binary | 0.5920147 | 10 | 0.04034469 | Preprocessor1_Model161 |\n",
       "\n"
      ],
      "text/plain": [
       "  neighbors .metric  .estimator mean      n  std_err    .config               \n",
       "1 161       accuracy binary     0.5920147 10 0.04034469 Preprocessor1_Model161"
      ]
     },
     "metadata": {},
     "output_type": "display_data"
    },
    {
     "data": {
      "text/html": [
       "<table class=\"dataframe\">\n",
       "<caption>A tibble: 1 × 7</caption>\n",
       "<thead>\n",
       "\t<tr><th scope=col>neighbors</th><th scope=col>.metric</th><th scope=col>.estimator</th><th scope=col>mean</th><th scope=col>n</th><th scope=col>std_err</th><th scope=col>.config</th></tr>\n",
       "\t<tr><th scope=col>&lt;int&gt;</th><th scope=col>&lt;chr&gt;</th><th scope=col>&lt;chr&gt;</th><th scope=col>&lt;dbl&gt;</th><th scope=col>&lt;int&gt;</th><th scope=col>&lt;dbl&gt;</th><th scope=col>&lt;chr&gt;</th></tr>\n",
       "</thead>\n",
       "<tbody>\n",
       "\t<tr><td>155</td><td>accuracy</td><td>binary</td><td>0.5863736</td><td>10</td><td>0.05570926</td><td>Preprocessor1_Model155</td></tr>\n",
       "</tbody>\n",
       "</table>\n"
      ],
      "text/latex": [
       "A tibble: 1 × 7\n",
       "\\begin{tabular}{lllllll}\n",
       " neighbors & .metric & .estimator & mean & n & std\\_err & .config\\\\\n",
       " <int> & <chr> & <chr> & <dbl> & <int> & <dbl> & <chr>\\\\\n",
       "\\hline\n",
       "\t 155 & accuracy & binary & 0.5863736 & 10 & 0.05570926 & Preprocessor1\\_Model155\\\\\n",
       "\\end{tabular}\n"
      ],
      "text/markdown": [
       "\n",
       "A tibble: 1 × 7\n",
       "\n",
       "| neighbors &lt;int&gt; | .metric &lt;chr&gt; | .estimator &lt;chr&gt; | mean &lt;dbl&gt; | n &lt;int&gt; | std_err &lt;dbl&gt; | .config &lt;chr&gt; |\n",
       "|---|---|---|---|---|---|---|\n",
       "| 155 | accuracy | binary | 0.5863736 | 10 | 0.05570926 | Preprocessor1_Model155 |\n",
       "\n"
      ],
      "text/plain": [
       "  neighbors .metric  .estimator mean      n  std_err    .config               \n",
       "1 155       accuracy binary     0.5863736 10 0.05570926 Preprocessor1_Model155"
      ]
     },
     "metadata": {},
     "output_type": "display_data"
    },
    {
     "data": {
      "text/html": [
       "<table class=\"dataframe\">\n",
       "<caption>A tibble: 1 × 7</caption>\n",
       "<thead>\n",
       "\t<tr><th scope=col>neighbors</th><th scope=col>.metric</th><th scope=col>.estimator</th><th scope=col>mean</th><th scope=col>n</th><th scope=col>std_err</th><th scope=col>.config</th></tr>\n",
       "\t<tr><th scope=col>&lt;int&gt;</th><th scope=col>&lt;chr&gt;</th><th scope=col>&lt;chr&gt;</th><th scope=col>&lt;dbl&gt;</th><th scope=col>&lt;int&gt;</th><th scope=col>&lt;dbl&gt;</th><th scope=col>&lt;chr&gt;</th></tr>\n",
       "</thead>\n",
       "<tbody>\n",
       "\t<tr><td>149</td><td>accuracy</td><td>binary</td><td>0.6031136</td><td>10</td><td>0.04966937</td><td>Preprocessor1_Model149</td></tr>\n",
       "</tbody>\n",
       "</table>\n"
      ],
      "text/latex": [
       "A tibble: 1 × 7\n",
       "\\begin{tabular}{lllllll}\n",
       " neighbors & .metric & .estimator & mean & n & std\\_err & .config\\\\\n",
       " <int> & <chr> & <chr> & <dbl> & <int> & <dbl> & <chr>\\\\\n",
       "\\hline\n",
       "\t 149 & accuracy & binary & 0.6031136 & 10 & 0.04966937 & Preprocessor1\\_Model149\\\\\n",
       "\\end{tabular}\n"
      ],
      "text/markdown": [
       "\n",
       "A tibble: 1 × 7\n",
       "\n",
       "| neighbors &lt;int&gt; | .metric &lt;chr&gt; | .estimator &lt;chr&gt; | mean &lt;dbl&gt; | n &lt;int&gt; | std_err &lt;dbl&gt; | .config &lt;chr&gt; |\n",
       "|---|---|---|---|---|---|---|\n",
       "| 149 | accuracy | binary | 0.6031136 | 10 | 0.04966937 | Preprocessor1_Model149 |\n",
       "\n"
      ],
      "text/plain": [
       "  neighbors .metric  .estimator mean      n  std_err    .config               \n",
       "1 149       accuracy binary     0.6031136 10 0.04966937 Preprocessor1_Model149"
      ]
     },
     "metadata": {},
     "output_type": "display_data"
    },
    {
     "data": {
      "image/png": "[encoded data removed]",
      "text/plain": [
       "plot without title"
      ]
     },
     "metadata": {
      "image/png": {
       "height": 360,
       "width": 1260
      }
     },
     "output_type": "display_data"
    }
   ],
   "source": [
    "options(repr.plot.width = 21, repr.plot.height = 6)\n",
    "plot_grid(hrs_tuning_plot, hrs_tuning_plot2, hrs_tuning_plot3, ncol = 3)\n",
    "slice(hrs_metrics, 1)\n",
    "slice(hrs_metrics2, 1)\n",
    "slice(hrs_metrics3, 1)"
   ]
  },
  {
   "cell_type": "markdown",
   "id": "c0c0bb1e",
   "metadata": {},
   "source": [
    "`played_hours` performed better than `experience` with accuracies ranging from **58.6%-60.3%**. This is still far below just guessing the majority label but is an improvment."
   ]
  },
  {
   "cell_type": "markdown",
   "id": "1ebf13be",
   "metadata": {},
   "source": [
    "**(2.5.11)** Tuning `age` predictor subset"
   ]
  },
  {
   "cell_type": "code",
   "execution_count": 29,
   "id": "0c8f22b1",
   "metadata": {
    "vscode": {
     "languageId": "r"
    }
   },
   "outputs": [
    {
     "data": {
      "text/html": [
       "<table class=\"dataframe\">\n",
       "<caption>A tibble: 1 × 7</caption>\n",
       "<thead>\n",
       "\t<tr><th scope=col>neighbors</th><th scope=col>.metric</th><th scope=col>.estimator</th><th scope=col>mean</th><th scope=col>n</th><th scope=col>std_err</th><th scope=col>.config</th></tr>\n",
       "\t<tr><th scope=col>&lt;int&gt;</th><th scope=col>&lt;chr&gt;</th><th scope=col>&lt;chr&gt;</th><th scope=col>&lt;dbl&gt;</th><th scope=col>&lt;int&gt;</th><th scope=col>&lt;dbl&gt;</th><th scope=col>&lt;chr&gt;</th></tr>\n",
       "</thead>\n",
       "<tbody>\n",
       "\t<tr><td>179</td><td>accuracy</td><td>binary</td><td>0.6235531</td><td>10</td><td>0.05591397</td><td>Preprocessor1_Model179</td></tr>\n",
       "</tbody>\n",
       "</table>\n"
      ],
      "text/latex": [
       "A tibble: 1 × 7\n",
       "\\begin{tabular}{lllllll}\n",
       " neighbors & .metric & .estimator & mean & n & std\\_err & .config\\\\\n",
       " <int> & <chr> & <chr> & <dbl> & <int> & <dbl> & <chr>\\\\\n",
       "\\hline\n",
       "\t 179 & accuracy & binary & 0.6235531 & 10 & 0.05591397 & Preprocessor1\\_Model179\\\\\n",
       "\\end{tabular}\n"
      ],
      "text/markdown": [
       "\n",
       "A tibble: 1 × 7\n",
       "\n",
       "| neighbors &lt;int&gt; | .metric &lt;chr&gt; | .estimator &lt;chr&gt; | mean &lt;dbl&gt; | n &lt;int&gt; | std_err &lt;dbl&gt; | .config &lt;chr&gt; |\n",
       "|---|---|---|---|---|---|---|\n",
       "| 179 | accuracy | binary | 0.6235531 | 10 | 0.05591397 | Preprocessor1_Model179 |\n",
       "\n"
      ],
      "text/plain": [
       "  neighbors .metric  .estimator mean      n  std_err    .config               \n",
       "1 179       accuracy binary     0.6235531 10 0.05591397 Preprocessor1_Model179"
      ]
     },
     "metadata": {},
     "output_type": "display_data"
    },
    {
     "data": {
      "image/png": "[encoded data removed]",
      "text/plain": [
       "plot without title"
      ]
     },
     "metadata": {
      "image/png": {
       "height": 360,
       "width": 420
      }
     },
     "output_type": "display_data"
    }
   ],
   "source": [
    "age_metrics <- workflow() |>\n",
    "    add_recipe(age_recipe) |>\n",
    "    add_model(knn_tune) |>\n",
    "    tune_grid(resamples = players_vfold, grid = neighbors) |>\n",
    "    collect_metrics() |>\n",
    "    filter(.metric == \"accuracy\") |>\n",
    "    arrange(desc(mean))\n",
    "\n",
    "options(repr.plot.width = 7, repr.plot.height = 6)\n",
    "\n",
    "age_tuning_plot <- age_metrics |>\n",
    "    ggplot(aes(x = neighbors, y = mean)) +\n",
    "    geom_point() +\n",
    "    geom_line() +\n",
    "    labs(title = \"Figure 7.1: Accuracy vs neighbors with age predictor\",\n",
    "         x = \"Neighbors\",\n",
    "         y = \"Accuracy\") +\n",
    "    theme(text = element_text(size = 14))\n",
    "\n",
    "age_tuning_plot\n",
    "slice(age_metrics, 1)"
   ]
  },
  {
   "cell_type": "markdown",
   "id": "b82eca8d",
   "metadata": {},
   "source": [
    "Again, the two additional vfolds will be tested:"
   ]
  },
  {
   "cell_type": "code",
   "execution_count": 30,
   "id": "671a600c",
   "metadata": {
    "vscode": {
     "languageId": "r"
    }
   },
   "outputs": [],
   "source": [
    "age_metrics2 <- workflow() |>\n",
    "    add_recipe(age_recipe) |>\n",
    "    add_model(knn_tune) |>\n",
    "    tune_grid(resamples = players_vfold2, grid = neighbors) |>\n",
    "    collect_metrics() |>\n",
    "    filter(.metric == \"accuracy\") |>\n",
    "    arrange(desc(mean))\n",
    "\n",
    "age_tuning_plot2 <- age_metrics2 |>\n",
    "    ggplot(aes(x = neighbors, y = mean)) +\n",
    "    geom_point() +\n",
    "    geom_line() +\n",
    "    labs(title = \"Figure 7.2: Accuracy vs neighbors with age predictor \\ncomparison\",\n",
    "         x = \"Neighbors\",\n",
    "         y = \"Accuracy\") +\n",
    "    theme(text = element_text(size = 14))"
   ]
  },
  {
   "cell_type": "code",
   "execution_count": 31,
   "id": "f597cc10",
   "metadata": {
    "vscode": {
     "languageId": "r"
    }
   },
   "outputs": [],
   "source": [
    "age_metrics3 <- workflow() |>\n",
    "    add_recipe(age_recipe) |>\n",
    "    add_model(knn_tune) |>\n",
    "    tune_grid(resamples = players_vfold3, grid = neighbors) |>\n",
    "    collect_metrics() |>\n",
    "    filter(.metric == \"accuracy\") |>\n",
    "    arrange(desc(mean))\n",
    "\n",
    "age_tuning_plot3 <- age_metrics3 |>\n",
    "    ggplot(aes(x = neighbors, y = mean)) +\n",
    "    geom_point() +\n",
    "    geom_line() +\n",
    "    labs(title = \"Figure 7.3: Accuracy vs neighbors with age predictor \\ncomparison\",\n",
    "         x = \"Neighbors\",\n",
    "         y = \"Accuracy\") +\n",
    "    theme(text = element_text(size = 14))"
   ]
  },
  {
   "cell_type": "code",
   "execution_count": 32,
   "id": "cec40621",
   "metadata": {
    "vscode": {
     "languageId": "r"
    }
   },
   "outputs": [
    {
     "data": {
      "text/html": [
       "<table class=\"dataframe\">\n",
       "<caption>A tibble: 1 × 7</caption>\n",
       "<thead>\n",
       "\t<tr><th scope=col>neighbors</th><th scope=col>.metric</th><th scope=col>.estimator</th><th scope=col>mean</th><th scope=col>n</th><th scope=col>std_err</th><th scope=col>.config</th></tr>\n",
       "\t<tr><th scope=col>&lt;int&gt;</th><th scope=col>&lt;chr&gt;</th><th scope=col>&lt;chr&gt;</th><th scope=col>&lt;dbl&gt;</th><th scope=col>&lt;int&gt;</th><th scope=col>&lt;dbl&gt;</th><th scope=col>&lt;chr&gt;</th></tr>\n",
       "</thead>\n",
       "<tbody>\n",
       "\t<tr><td>179</td><td>accuracy</td><td>binary</td><td>0.6235531</td><td>10</td><td>0.05591397</td><td>Preprocessor1_Model179</td></tr>\n",
       "</tbody>\n",
       "</table>\n"
      ],
      "text/latex": [
       "A tibble: 1 × 7\n",
       "\\begin{tabular}{lllllll}\n",
       " neighbors & .metric & .estimator & mean & n & std\\_err & .config\\\\\n",
       " <int> & <chr> & <chr> & <dbl> & <int> & <dbl> & <chr>\\\\\n",
       "\\hline\n",
       "\t 179 & accuracy & binary & 0.6235531 & 10 & 0.05591397 & Preprocessor1\\_Model179\\\\\n",
       "\\end{tabular}\n"
      ],
      "text/markdown": [
       "\n",
       "A tibble: 1 × 7\n",
       "\n",
       "| neighbors &lt;int&gt; | .metric &lt;chr&gt; | .estimator &lt;chr&gt; | mean &lt;dbl&gt; | n &lt;int&gt; | std_err &lt;dbl&gt; | .config &lt;chr&gt; |\n",
       "|---|---|---|---|---|---|---|\n",
       "| 179 | accuracy | binary | 0.6235531 | 10 | 0.05591397 | Preprocessor1_Model179 |\n",
       "\n"
      ],
      "text/plain": [
       "  neighbors .metric  .estimator mean      n  std_err    .config               \n",
       "1 179       accuracy binary     0.6235531 10 0.05591397 Preprocessor1_Model179"
      ]
     },
     "metadata": {},
     "output_type": "display_data"
    },
    {
     "data": {
      "text/html": [
       "<table class=\"dataframe\">\n",
       "<caption>A tibble: 1 × 7</caption>\n",
       "<thead>\n",
       "\t<tr><th scope=col>neighbors</th><th scope=col>.metric</th><th scope=col>.estimator</th><th scope=col>mean</th><th scope=col>n</th><th scope=col>std_err</th><th scope=col>.config</th></tr>\n",
       "\t<tr><th scope=col>&lt;int&gt;</th><th scope=col>&lt;chr&gt;</th><th scope=col>&lt;chr&gt;</th><th scope=col>&lt;dbl&gt;</th><th scope=col>&lt;int&gt;</th><th scope=col>&lt;dbl&gt;</th><th scope=col>&lt;chr&gt;</th></tr>\n",
       "</thead>\n",
       "<tbody>\n",
       "\t<tr><td>181</td><td>accuracy</td><td>binary</td><td>0.6825641</td><td>10</td><td>0.04986134</td><td>Preprocessor1_Model181</td></tr>\n",
       "</tbody>\n",
       "</table>\n"
      ],
      "text/latex": [
       "A tibble: 1 × 7\n",
       "\\begin{tabular}{lllllll}\n",
       " neighbors & .metric & .estimator & mean & n & std\\_err & .config\\\\\n",
       " <int> & <chr> & <chr> & <dbl> & <int> & <dbl> & <chr>\\\\\n",
       "\\hline\n",
       "\t 181 & accuracy & binary & 0.6825641 & 10 & 0.04986134 & Preprocessor1\\_Model181\\\\\n",
       "\\end{tabular}\n"
      ],
      "text/markdown": [
       "\n",
       "A tibble: 1 × 7\n",
       "\n",
       "| neighbors &lt;int&gt; | .metric &lt;chr&gt; | .estimator &lt;chr&gt; | mean &lt;dbl&gt; | n &lt;int&gt; | std_err &lt;dbl&gt; | .config &lt;chr&gt; |\n",
       "|---|---|---|---|---|---|---|\n",
       "| 181 | accuracy | binary | 0.6825641 | 10 | 0.04986134 | Preprocessor1_Model181 |\n",
       "\n"
      ],
      "text/plain": [
       "  neighbors .metric  .estimator mean      n  std_err    .config               \n",
       "1 181       accuracy binary     0.6825641 10 0.04986134 Preprocessor1_Model181"
      ]
     },
     "metadata": {},
     "output_type": "display_data"
    },
    {
     "data": {
      "text/html": [
       "<table class=\"dataframe\">\n",
       "<caption>A tibble: 1 × 7</caption>\n",
       "<thead>\n",
       "\t<tr><th scope=col>neighbors</th><th scope=col>.metric</th><th scope=col>.estimator</th><th scope=col>mean</th><th scope=col>n</th><th scope=col>std_err</th><th scope=col>.config</th></tr>\n",
       "\t<tr><th scope=col>&lt;int&gt;</th><th scope=col>&lt;chr&gt;</th><th scope=col>&lt;chr&gt;</th><th scope=col>&lt;dbl&gt;</th><th scope=col>&lt;int&gt;</th><th scope=col>&lt;dbl&gt;</th><th scope=col>&lt;chr&gt;</th></tr>\n",
       "</thead>\n",
       "<tbody>\n",
       "\t<tr><td>185</td><td>accuracy</td><td>binary</td><td>0.6855678</td><td>10</td><td>0.049825</td><td>Preprocessor1_Model185</td></tr>\n",
       "</tbody>\n",
       "</table>\n"
      ],
      "text/latex": [
       "A tibble: 1 × 7\n",
       "\\begin{tabular}{lllllll}\n",
       " neighbors & .metric & .estimator & mean & n & std\\_err & .config\\\\\n",
       " <int> & <chr> & <chr> & <dbl> & <int> & <dbl> & <chr>\\\\\n",
       "\\hline\n",
       "\t 185 & accuracy & binary & 0.6855678 & 10 & 0.049825 & Preprocessor1\\_Model185\\\\\n",
       "\\end{tabular}\n"
      ],
      "text/markdown": [
       "\n",
       "A tibble: 1 × 7\n",
       "\n",
       "| neighbors &lt;int&gt; | .metric &lt;chr&gt; | .estimator &lt;chr&gt; | mean &lt;dbl&gt; | n &lt;int&gt; | std_err &lt;dbl&gt; | .config &lt;chr&gt; |\n",
       "|---|---|---|---|---|---|---|\n",
       "| 185 | accuracy | binary | 0.6855678 | 10 | 0.049825 | Preprocessor1_Model185 |\n",
       "\n"
      ],
      "text/plain": [
       "  neighbors .metric  .estimator mean      n  std_err  .config               \n",
       "1 185       accuracy binary     0.6855678 10 0.049825 Preprocessor1_Model185"
      ]
     },
     "metadata": {},
     "output_type": "display_data"
    },
    {
     "data": {
      "image/png": "[encoded data removed]",
      "text/plain": [
       "plot without title"
      ]
     },
     "metadata": {
      "image/png": {
       "height": 360,
       "width": 1260
      }
     },
     "output_type": "display_data"
    }
   ],
   "source": [
    "options(repr.plot.width = 21, repr.plot.height = 6)\n",
    "plot_grid(age_tuning_plot, age_tuning_plot2, age_tuning_plot3, ncol = 3)\n",
    "slice(age_metrics, 1)\n",
    "slice(age_metrics2, 1)\n",
    "slice(age_metrics3, 1)"
   ]
  },
  {
   "cell_type": "markdown",
   "id": "082749a2",
   "metadata": {},
   "source": [
    "The `age` predictor yielded an accuracy range of **62.4%-68.5%**. This is yet another improvment but it must be noted that these accuracies occur only when nearly all neighbors are considered, this is reflective of simply guessing the majority label and argues that no real useful predictions are being made."
   ]
  },
  {
   "cell_type": "markdown",
   "id": "42c48d9a",
   "metadata": {},
   "source": [
    "**(2.5.12)** Tuning `experience` and `played_hours` predictor subset"
   ]
  },
  {
   "cell_type": "code",
   "execution_count": 33,
   "id": "dc85ff9e",
   "metadata": {
    "vscode": {
     "languageId": "r"
    }
   },
   "outputs": [
    {
     "data": {
      "text/html": [
       "<table class=\"dataframe\">\n",
       "<caption>A tibble: 1 × 7</caption>\n",
       "<thead>\n",
       "\t<tr><th scope=col>neighbors</th><th scope=col>.metric</th><th scope=col>.estimator</th><th scope=col>mean</th><th scope=col>n</th><th scope=col>std_err</th><th scope=col>.config</th></tr>\n",
       "\t<tr><th scope=col>&lt;int&gt;</th><th scope=col>&lt;chr&gt;</th><th scope=col>&lt;chr&gt;</th><th scope=col>&lt;dbl&gt;</th><th scope=col>&lt;int&gt;</th><th scope=col>&lt;dbl&gt;</th><th scope=col>&lt;chr&gt;</th></tr>\n",
       "</thead>\n",
       "<tbody>\n",
       "\t<tr><td>38</td><td>accuracy</td><td>binary</td><td>0.5601832</td><td>10</td><td>0.04131137</td><td>Preprocessor1_Model038</td></tr>\n",
       "</tbody>\n",
       "</table>\n"
      ],
      "text/latex": [
       "A tibble: 1 × 7\n",
       "\\begin{tabular}{lllllll}\n",
       " neighbors & .metric & .estimator & mean & n & std\\_err & .config\\\\\n",
       " <int> & <chr> & <chr> & <dbl> & <int> & <dbl> & <chr>\\\\\n",
       "\\hline\n",
       "\t 38 & accuracy & binary & 0.5601832 & 10 & 0.04131137 & Preprocessor1\\_Model038\\\\\n",
       "\\end{tabular}\n"
      ],
      "text/markdown": [
       "\n",
       "A tibble: 1 × 7\n",
       "\n",
       "| neighbors &lt;int&gt; | .metric &lt;chr&gt; | .estimator &lt;chr&gt; | mean &lt;dbl&gt; | n &lt;int&gt; | std_err &lt;dbl&gt; | .config &lt;chr&gt; |\n",
       "|---|---|---|---|---|---|---|\n",
       "| 38 | accuracy | binary | 0.5601832 | 10 | 0.04131137 | Preprocessor1_Model038 |\n",
       "\n"
      ],
      "text/plain": [
       "  neighbors .metric  .estimator mean      n  std_err    .config               \n",
       "1 38        accuracy binary     0.5601832 10 0.04131137 Preprocessor1_Model038"
      ]
     },
     "metadata": {},
     "output_type": "display_data"
    },
    {
     "data": {
      "image/png": "[encoded data removed]",
      "text/plain": [
       "plot without title"
      ]
     },
     "metadata": {
      "image/png": {
       "height": 360,
       "width": 420
      }
     },
     "output_type": "display_data"
    }
   ],
   "source": [
    "exp_hrs_metrics <- workflow() |>\n",
    "    add_recipe(exp_hrs_recipe) |>\n",
    "    add_model(knn_tune) |>\n",
    "    tune_grid(resamples = players_vfold, grid = neighbors) |>\n",
    "    collect_metrics() |>\n",
    "    filter(.metric == \"accuracy\") |>\n",
    "    arrange(desc(mean))\n",
    "\n",
    "options(repr.plot.width = 7, repr.plot.height = 6)\n",
    "\n",
    "exp_hrs_tuning_plot <- exp_hrs_metrics |>\n",
    "    ggplot(aes(x = neighbors, y = mean)) +\n",
    "    geom_point() +\n",
    "    geom_line() +\n",
    "    labs(title = \"Figure 8.1: Accuracy vs neighbors with experience and \\nplayed_hours predictors\",\n",
    "         x = \"Neighbors\",\n",
    "         y = \"Accuracy\") +\n",
    "    theme(text = element_text(size = 14))\n",
    "\n",
    "exp_hrs_tuning_plot\n",
    "slice(exp_hrs_metrics, 1)"
   ]
  },
  {
   "cell_type": "markdown",
   "id": "4ff8333e",
   "metadata": {},
   "source": [
    "Two addition vfolds:"
   ]
  },
  {
   "cell_type": "code",
   "execution_count": 34,
   "id": "b322bd1c",
   "metadata": {
    "vscode": {
     "languageId": "r"
    }
   },
   "outputs": [],
   "source": [
    "exp_hrs_metrics2 <- workflow() |>\n",
    "    add_recipe(exp_hrs_recipe) |>\n",
    "    add_model(knn_tune) |>\n",
    "    tune_grid(resamples = players_vfold2, grid = neighbors) |>\n",
    "    collect_metrics() |>\n",
    "    filter(.metric == \"accuracy\") |>\n",
    "    arrange(desc(mean))\n",
    "\n",
    "exp_hrs_tuning_plot2 <- exp_hrs_metrics2 |>\n",
    "    ggplot(aes(x = neighbors, y = mean)) +\n",
    "    geom_point() +\n",
    "    geom_line() +\n",
    "    labs(title = \"Figure 8.2: Accuracy vs neighbors with experience and \\nplayed_hours predictors conparison\",\n",
    "         x = \"Neighbors\",\n",
    "         y = \"Accuracy\") +\n",
    "    theme(text = element_text(size = 14))"
   ]
  },
  {
   "cell_type": "code",
   "execution_count": 35,
   "id": "cb080a73",
   "metadata": {
    "vscode": {
     "languageId": "r"
    }
   },
   "outputs": [],
   "source": [
    "exp_hrs_metrics3 <- workflow() |>\n",
    "    add_recipe(exp_hrs_recipe) |>\n",
    "    add_model(knn_tune) |>\n",
    "    tune_grid(resamples = players_vfold3, grid = neighbors) |>\n",
    "    collect_metrics() |>\n",
    "    filter(.metric == \"accuracy\") |>\n",
    "    arrange(desc(mean))\n",
    "\n",
    "exp_hrs_tuning_plot3 <- exp_hrs_metrics3 |>\n",
    "    ggplot(aes(x = neighbors, y = mean)) +\n",
    "    geom_point() +\n",
    "    geom_line() +\n",
    "    labs(title = \"Figure 8.3: Accuracy vs neighbors with experience and \\nplayed_hours predictors conparison\",\n",
    "         x = \"Neighbors\",\n",
    "         y = \"Accuracy\") +\n",
    "    theme(text = element_text(size = 14))"
   ]
  },
  {
   "cell_type": "code",
   "execution_count": 36,
   "id": "e3032477",
   "metadata": {
    "vscode": {
     "languageId": "r"
    }
   },
   "outputs": [
    {
     "data": {
      "text/html": [
       "<table class=\"dataframe\">\n",
       "<caption>A tibble: 1 × 7</caption>\n",
       "<thead>\n",
       "\t<tr><th scope=col>neighbors</th><th scope=col>.metric</th><th scope=col>.estimator</th><th scope=col>mean</th><th scope=col>n</th><th scope=col>std_err</th><th scope=col>.config</th></tr>\n",
       "\t<tr><th scope=col>&lt;int&gt;</th><th scope=col>&lt;chr&gt;</th><th scope=col>&lt;chr&gt;</th><th scope=col>&lt;dbl&gt;</th><th scope=col>&lt;int&gt;</th><th scope=col>&lt;dbl&gt;</th><th scope=col>&lt;chr&gt;</th></tr>\n",
       "</thead>\n",
       "<tbody>\n",
       "\t<tr><td>38</td><td>accuracy</td><td>binary</td><td>0.5601832</td><td>10</td><td>0.04131137</td><td>Preprocessor1_Model038</td></tr>\n",
       "</tbody>\n",
       "</table>\n"
      ],
      "text/latex": [
       "A tibble: 1 × 7\n",
       "\\begin{tabular}{lllllll}\n",
       " neighbors & .metric & .estimator & mean & n & std\\_err & .config\\\\\n",
       " <int> & <chr> & <chr> & <dbl> & <int> & <dbl> & <chr>\\\\\n",
       "\\hline\n",
       "\t 38 & accuracy & binary & 0.5601832 & 10 & 0.04131137 & Preprocessor1\\_Model038\\\\\n",
       "\\end{tabular}\n"
      ],
      "text/markdown": [
       "\n",
       "A tibble: 1 × 7\n",
       "\n",
       "| neighbors &lt;int&gt; | .metric &lt;chr&gt; | .estimator &lt;chr&gt; | mean &lt;dbl&gt; | n &lt;int&gt; | std_err &lt;dbl&gt; | .config &lt;chr&gt; |\n",
       "|---|---|---|---|---|---|---|\n",
       "| 38 | accuracy | binary | 0.5601832 | 10 | 0.04131137 | Preprocessor1_Model038 |\n",
       "\n"
      ],
      "text/plain": [
       "  neighbors .metric  .estimator mean      n  std_err    .config               \n",
       "1 38        accuracy binary     0.5601832 10 0.04131137 Preprocessor1_Model038"
      ]
     },
     "metadata": {},
     "output_type": "display_data"
    },
    {
     "data": {
      "text/html": [
       "<table class=\"dataframe\">\n",
       "<caption>A tibble: 1 × 7</caption>\n",
       "<thead>\n",
       "\t<tr><th scope=col>neighbors</th><th scope=col>.metric</th><th scope=col>.estimator</th><th scope=col>mean</th><th scope=col>n</th><th scope=col>std_err</th><th scope=col>.config</th></tr>\n",
       "\t<tr><th scope=col>&lt;int&gt;</th><th scope=col>&lt;chr&gt;</th><th scope=col>&lt;chr&gt;</th><th scope=col>&lt;dbl&gt;</th><th scope=col>&lt;int&gt;</th><th scope=col>&lt;dbl&gt;</th><th scope=col>&lt;chr&gt;</th></tr>\n",
       "</thead>\n",
       "<tbody>\n",
       "\t<tr><td>118</td><td>accuracy</td><td>binary</td><td>0.5647253</td><td>10</td><td>0.0521489</td><td>Preprocessor1_Model118</td></tr>\n",
       "</tbody>\n",
       "</table>\n"
      ],
      "text/latex": [
       "A tibble: 1 × 7\n",
       "\\begin{tabular}{lllllll}\n",
       " neighbors & .metric & .estimator & mean & n & std\\_err & .config\\\\\n",
       " <int> & <chr> & <chr> & <dbl> & <int> & <dbl> & <chr>\\\\\n",
       "\\hline\n",
       "\t 118 & accuracy & binary & 0.5647253 & 10 & 0.0521489 & Preprocessor1\\_Model118\\\\\n",
       "\\end{tabular}\n"
      ],
      "text/markdown": [
       "\n",
       "A tibble: 1 × 7\n",
       "\n",
       "| neighbors &lt;int&gt; | .metric &lt;chr&gt; | .estimator &lt;chr&gt; | mean &lt;dbl&gt; | n &lt;int&gt; | std_err &lt;dbl&gt; | .config &lt;chr&gt; |\n",
       "|---|---|---|---|---|---|---|\n",
       "| 118 | accuracy | binary | 0.5647253 | 10 | 0.0521489 | Preprocessor1_Model118 |\n",
       "\n"
      ],
      "text/plain": [
       "  neighbors .metric  .estimator mean      n  std_err   .config               \n",
       "1 118       accuracy binary     0.5647253 10 0.0521489 Preprocessor1_Model118"
      ]
     },
     "metadata": {},
     "output_type": "display_data"
    },
    {
     "data": {
      "text/html": [
       "<table class=\"dataframe\">\n",
       "<caption>A tibble: 1 × 7</caption>\n",
       "<thead>\n",
       "\t<tr><th scope=col>neighbors</th><th scope=col>.metric</th><th scope=col>.estimator</th><th scope=col>mean</th><th scope=col>n</th><th scope=col>std_err</th><th scope=col>.config</th></tr>\n",
       "\t<tr><th scope=col>&lt;int&gt;</th><th scope=col>&lt;chr&gt;</th><th scope=col>&lt;chr&gt;</th><th scope=col>&lt;dbl&gt;</th><th scope=col>&lt;int&gt;</th><th scope=col>&lt;dbl&gt;</th><th scope=col>&lt;chr&gt;</th></tr>\n",
       "</thead>\n",
       "<tbody>\n",
       "\t<tr><td>134</td><td>accuracy</td><td>binary</td><td>0.5909158</td><td>10</td><td>0.0437447</td><td>Preprocessor1_Model134</td></tr>\n",
       "</tbody>\n",
       "</table>\n"
      ],
      "text/latex": [
       "A tibble: 1 × 7\n",
       "\\begin{tabular}{lllllll}\n",
       " neighbors & .metric & .estimator & mean & n & std\\_err & .config\\\\\n",
       " <int> & <chr> & <chr> & <dbl> & <int> & <dbl> & <chr>\\\\\n",
       "\\hline\n",
       "\t 134 & accuracy & binary & 0.5909158 & 10 & 0.0437447 & Preprocessor1\\_Model134\\\\\n",
       "\\end{tabular}\n"
      ],
      "text/markdown": [
       "\n",
       "A tibble: 1 × 7\n",
       "\n",
       "| neighbors &lt;int&gt; | .metric &lt;chr&gt; | .estimator &lt;chr&gt; | mean &lt;dbl&gt; | n &lt;int&gt; | std_err &lt;dbl&gt; | .config &lt;chr&gt; |\n",
       "|---|---|---|---|---|---|---|\n",
       "| 134 | accuracy | binary | 0.5909158 | 10 | 0.0437447 | Preprocessor1_Model134 |\n",
       "\n"
      ],
      "text/plain": [
       "  neighbors .metric  .estimator mean      n  std_err   .config               \n",
       "1 134       accuracy binary     0.5909158 10 0.0437447 Preprocessor1_Model134"
      ]
     },
     "metadata": {},
     "output_type": "display_data"
    },
    {
     "data": {
      "image/png": "[encoded data removed]",
      "text/plain": [
       "plot without title"
      ]
     },
     "metadata": {
      "image/png": {
       "height": 360,
       "width": 1260
      }
     },
     "output_type": "display_data"
    }
   ],
   "source": [
    "options(repr.plot.width = 21, repr.plot.height = 6)\n",
    "plot_grid(exp_hrs_tuning_plot, exp_hrs_tuning_plot2, exp_hrs_tuning_plot3, ncol = 3)\n",
    "slice(exp_hrs_metrics, 1)\n",
    "slice(exp_hrs_metrics2, 1)\n",
    "slice(exp_hrs_metrics3, 1)"
   ]
  },
  {
   "cell_type": "markdown",
   "id": "448de2d0",
   "metadata": {},
   "source": [
    "`experience` and `played_hours` yielded accuracies from **56.0%-59.1%**. These are worse than the `age` predictor's accuracies; however, accuracies peak before all predictors are considered and thus are likely more reflective of actual predictions rather than a reflection of the majority label."
   ]
  },
  {
   "cell_type": "markdown",
   "id": "7f0193cd",
   "metadata": {},
   "source": [
    "**(2.5.13)** Tuning `experience` and `age` predictor subset"
   ]
  },
  {
   "cell_type": "code",
   "execution_count": 37,
   "id": "983998cd",
   "metadata": {
    "vscode": {
     "languageId": "r"
    }
   },
   "outputs": [
    {
     "data": {
      "text/html": [
       "<table class=\"dataframe\">\n",
       "<caption>A tibble: 1 × 7</caption>\n",
       "<thead>\n",
       "\t<tr><th scope=col>neighbors</th><th scope=col>.metric</th><th scope=col>.estimator</th><th scope=col>mean</th><th scope=col>n</th><th scope=col>std_err</th><th scope=col>.config</th></tr>\n",
       "\t<tr><th scope=col>&lt;int&gt;</th><th scope=col>&lt;chr&gt;</th><th scope=col>&lt;chr&gt;</th><th scope=col>&lt;dbl&gt;</th><th scope=col>&lt;int&gt;</th><th scope=col>&lt;dbl&gt;</th><th scope=col>&lt;chr&gt;</th></tr>\n",
       "</thead>\n",
       "<tbody>\n",
       "\t<tr><td>185</td><td>accuracy</td><td>binary</td><td>0.7388278</td><td>10</td><td>0.01497049</td><td>Preprocessor1_Model185</td></tr>\n",
       "</tbody>\n",
       "</table>\n"
      ],
      "text/latex": [
       "A tibble: 1 × 7\n",
       "\\begin{tabular}{lllllll}\n",
       " neighbors & .metric & .estimator & mean & n & std\\_err & .config\\\\\n",
       " <int> & <chr> & <chr> & <dbl> & <int> & <dbl> & <chr>\\\\\n",
       "\\hline\n",
       "\t 185 & accuracy & binary & 0.7388278 & 10 & 0.01497049 & Preprocessor1\\_Model185\\\\\n",
       "\\end{tabular}\n"
      ],
      "text/markdown": [
       "\n",
       "A tibble: 1 × 7\n",
       "\n",
       "| neighbors &lt;int&gt; | .metric &lt;chr&gt; | .estimator &lt;chr&gt; | mean &lt;dbl&gt; | n &lt;int&gt; | std_err &lt;dbl&gt; | .config &lt;chr&gt; |\n",
       "|---|---|---|---|---|---|---|\n",
       "| 185 | accuracy | binary | 0.7388278 | 10 | 0.01497049 | Preprocessor1_Model185 |\n",
       "\n"
      ],
      "text/plain": [
       "  neighbors .metric  .estimator mean      n  std_err    .config               \n",
       "1 185       accuracy binary     0.7388278 10 0.01497049 Preprocessor1_Model185"
      ]
     },
     "metadata": {},
     "output_type": "display_data"
    },
    {
     "data": {
      "image/png": "[encoded data removed]",
      "text/plain": [
       "plot without title"
      ]
     },
     "metadata": {
      "image/png": {
       "height": 360,
       "width": 420
      }
     },
     "output_type": "display_data"
    }
   ],
   "source": [
    "exp_age_metrics <- workflow() |>\n",
    "    add_recipe(exp_age_recipe) |>\n",
    "    add_model(knn_tune) |>\n",
    "    tune_grid(resamples = players_vfold, grid = neighbors) |>\n",
    "    collect_metrics() |>\n",
    "    filter(.metric == \"accuracy\") |>\n",
    "    arrange(desc(mean))\n",
    "\n",
    "options(repr.plot.width = 7, repr.plot.height = 6)\n",
    "\n",
    "exp_age_tuning_plot <- exp_age_metrics |>\n",
    "    ggplot(aes(x = neighbors, y = mean)) +\n",
    "    geom_point() +\n",
    "    geom_line() +\n",
    "    labs(title = \"Figure 9.1: Accuracy vs neighbors with experience and \\nage predictors\",\n",
    "         x = \"Neighbors\",\n",
    "         y = \"Accuracy\") +\n",
    "    theme(text = element_text(size = 14))\n",
    "\n",
    "exp_age_tuning_plot\n",
    "slice(exp_age_metrics, 1)"
   ]
  },
  {
   "cell_type": "markdown",
   "id": "741821d3",
   "metadata": {},
   "source": [
    "Two addition vfolds:"
   ]
  },
  {
   "cell_type": "code",
   "execution_count": 40,
   "id": "42e957be",
   "metadata": {
    "vscode": {
     "languageId": "r"
    }
   },
   "outputs": [],
   "source": [
    "exp_age_metrics2 <- workflow() |>\n",
    "    add_recipe(exp_age_recipe) |>\n",
    "    add_model(knn_tune) |>\n",
    "    tune_grid(resamples = players_vfold2, grid = neighbors) |>\n",
    "    collect_metrics() |>\n",
    "    filter(.metric == \"accuracy\") |>\n",
    "    arrange(desc(mean))\n",
    "\n",
    "exp_age_tuning_plot2 <- exp_age_metrics2 |>\n",
    "    ggplot(aes(x = neighbors, y = mean)) +\n",
    "    geom_point() +\n",
    "    geom_line() +\n",
    "    labs(title = \"Figure 9.2: Accuracy vs neighbors with experience and \\nage predictors comparison\",\n",
    "         x = \"Neighbors\",\n",
    "         y = \"Accuracy\") +\n",
    "    theme(text = element_text(size = 14))"
   ]
  },
  {
   "cell_type": "code",
   "execution_count": 42,
   "id": "f5394d8d",
   "metadata": {
    "vscode": {
     "languageId": "r"
    }
   },
   "outputs": [],
   "source": [
    "exp_age_metrics3 <- workflow() |>\n",
    "    add_recipe(exp_age_recipe) |>\n",
    "    add_model(knn_tune) |>\n",
    "    tune_grid(resamples = players_vfold3, grid = neighbors) |>\n",
    "    collect_metrics() |>\n",
    "    filter(.metric == \"accuracy\") |>\n",
    "    arrange(desc(mean))\n",
    "\n",
    "exp_age_tuning_plot3 <- exp_age_metrics3 |>\n",
    "    ggplot(aes(x = neighbors, y = mean)) +\n",
    "    geom_point() +\n",
    "    geom_line() +\n",
    "    labs(title = \"Figure 9.3: Accuracy vs neighbors with experience and \\nage predictors comparison\",\n",
    "         x = \"Neighbors\",\n",
    "         y = \"Accuracy\") +\n",
    "    theme(text = element_text(size = 14))"
   ]
  },
  {
   "cell_type": "code",
   "execution_count": 43,
   "id": "98025edd",
   "metadata": {
    "vscode": {
     "languageId": "r"
    }
   },
   "outputs": [
    {
     "data": {
      "text/html": [
       "<table class=\"dataframe\">\n",
       "<caption>A tibble: 1 × 7</caption>\n",
       "<thead>\n",
       "\t<tr><th scope=col>neighbors</th><th scope=col>.metric</th><th scope=col>.estimator</th><th scope=col>mean</th><th scope=col>n</th><th scope=col>std_err</th><th scope=col>.config</th></tr>\n",
       "\t<tr><th scope=col>&lt;int&gt;</th><th scope=col>&lt;chr&gt;</th><th scope=col>&lt;chr&gt;</th><th scope=col>&lt;dbl&gt;</th><th scope=col>&lt;int&gt;</th><th scope=col>&lt;dbl&gt;</th><th scope=col>&lt;chr&gt;</th></tr>\n",
       "</thead>\n",
       "<tbody>\n",
       "\t<tr><td>185</td><td>accuracy</td><td>binary</td><td>0.7388278</td><td>10</td><td>0.01497049</td><td>Preprocessor1_Model185</td></tr>\n",
       "</tbody>\n",
       "</table>\n"
      ],
      "text/latex": [
       "A tibble: 1 × 7\n",
       "\\begin{tabular}{lllllll}\n",
       " neighbors & .metric & .estimator & mean & n & std\\_err & .config\\\\\n",
       " <int> & <chr> & <chr> & <dbl> & <int> & <dbl> & <chr>\\\\\n",
       "\\hline\n",
       "\t 185 & accuracy & binary & 0.7388278 & 10 & 0.01497049 & Preprocessor1\\_Model185\\\\\n",
       "\\end{tabular}\n"
      ],
      "text/markdown": [
       "\n",
       "A tibble: 1 × 7\n",
       "\n",
       "| neighbors &lt;int&gt; | .metric &lt;chr&gt; | .estimator &lt;chr&gt; | mean &lt;dbl&gt; | n &lt;int&gt; | std_err &lt;dbl&gt; | .config &lt;chr&gt; |\n",
       "|---|---|---|---|---|---|---|\n",
       "| 185 | accuracy | binary | 0.7388278 | 10 | 0.01497049 | Preprocessor1_Model185 |\n",
       "\n"
      ],
      "text/plain": [
       "  neighbors .metric  .estimator mean      n  std_err    .config               \n",
       "1 185       accuracy binary     0.7388278 10 0.01497049 Preprocessor1_Model185"
      ]
     },
     "metadata": {},
     "output_type": "display_data"
    },
    {
     "data": {
      "text/html": [
       "<table class=\"dataframe\">\n",
       "<caption>A tibble: 1 × 7</caption>\n",
       "<thead>\n",
       "\t<tr><th scope=col>neighbors</th><th scope=col>.metric</th><th scope=col>.estimator</th><th scope=col>mean</th><th scope=col>n</th><th scope=col>std_err</th><th scope=col>.config</th></tr>\n",
       "\t<tr><th scope=col>&lt;int&gt;</th><th scope=col>&lt;chr&gt;</th><th scope=col>&lt;chr&gt;</th><th scope=col>&lt;dbl&gt;</th><th scope=col>&lt;int&gt;</th><th scope=col>&lt;dbl&gt;</th><th scope=col>&lt;chr&gt;</th></tr>\n",
       "</thead>\n",
       "<tbody>\n",
       "\t<tr><td>185</td><td>accuracy</td><td>binary</td><td>0.6892308</td><td>10</td><td>0.0363574</td><td>Preprocessor1_Model185</td></tr>\n",
       "</tbody>\n",
       "</table>\n"
      ],
      "text/latex": [
       "A tibble: 1 × 7\n",
       "\\begin{tabular}{lllllll}\n",
       " neighbors & .metric & .estimator & mean & n & std\\_err & .config\\\\\n",
       " <int> & <chr> & <chr> & <dbl> & <int> & <dbl> & <chr>\\\\\n",
       "\\hline\n",
       "\t 185 & accuracy & binary & 0.6892308 & 10 & 0.0363574 & Preprocessor1\\_Model185\\\\\n",
       "\\end{tabular}\n"
      ],
      "text/markdown": [
       "\n",
       "A tibble: 1 × 7\n",
       "\n",
       "| neighbors &lt;int&gt; | .metric &lt;chr&gt; | .estimator &lt;chr&gt; | mean &lt;dbl&gt; | n &lt;int&gt; | std_err &lt;dbl&gt; | .config &lt;chr&gt; |\n",
       "|---|---|---|---|---|---|---|\n",
       "| 185 | accuracy | binary | 0.6892308 | 10 | 0.0363574 | Preprocessor1_Model185 |\n",
       "\n"
      ],
      "text/plain": [
       "  neighbors .metric  .estimator mean      n  std_err   .config               \n",
       "1 185       accuracy binary     0.6892308 10 0.0363574 Preprocessor1_Model185"
      ]
     },
     "metadata": {},
     "output_type": "display_data"
    },
    {
     "data": {
      "text/html": [
       "<table class=\"dataframe\">\n",
       "<caption>A tibble: 1 × 7</caption>\n",
       "<thead>\n",
       "\t<tr><th scope=col>neighbors</th><th scope=col>.metric</th><th scope=col>.estimator</th><th scope=col>mean</th><th scope=col>n</th><th scope=col>std_err</th><th scope=col>.config</th></tr>\n",
       "\t<tr><th scope=col>&lt;int&gt;</th><th scope=col>&lt;chr&gt;</th><th scope=col>&lt;chr&gt;</th><th scope=col>&lt;dbl&gt;</th><th scope=col>&lt;int&gt;</th><th scope=col>&lt;dbl&gt;</th><th scope=col>&lt;chr&gt;</th></tr>\n",
       "</thead>\n",
       "<tbody>\n",
       "\t<tr><td>185</td><td>accuracy</td><td>binary</td><td>0.6974725</td><td>10</td><td>0.02513356</td><td>Preprocessor1_Model185</td></tr>\n",
       "</tbody>\n",
       "</table>\n"
      ],
      "text/latex": [
       "A tibble: 1 × 7\n",
       "\\begin{tabular}{lllllll}\n",
       " neighbors & .metric & .estimator & mean & n & std\\_err & .config\\\\\n",
       " <int> & <chr> & <chr> & <dbl> & <int> & <dbl> & <chr>\\\\\n",
       "\\hline\n",
       "\t 185 & accuracy & binary & 0.6974725 & 10 & 0.02513356 & Preprocessor1\\_Model185\\\\\n",
       "\\end{tabular}\n"
      ],
      "text/markdown": [
       "\n",
       "A tibble: 1 × 7\n",
       "\n",
       "| neighbors &lt;int&gt; | .metric &lt;chr&gt; | .estimator &lt;chr&gt; | mean &lt;dbl&gt; | n &lt;int&gt; | std_err &lt;dbl&gt; | .config &lt;chr&gt; |\n",
       "|---|---|---|---|---|---|---|\n",
       "| 185 | accuracy | binary | 0.6974725 | 10 | 0.02513356 | Preprocessor1_Model185 |\n",
       "\n"
      ],
      "text/plain": [
       "  neighbors .metric  .estimator mean      n  std_err    .config               \n",
       "1 185       accuracy binary     0.6974725 10 0.02513356 Preprocessor1_Model185"
      ]
     },
     "metadata": {},
     "output_type": "display_data"
    },
    {
     "data": {
      "image/png": "[encoded data removed]",
      "text/plain": [
       "plot without title"
      ]
     },
     "metadata": {
      "image/png": {
       "height": 360,
       "width": 1260
      }
     },
     "output_type": "display_data"
    }
   ],
   "source": [
    "options(repr.plot.width = 21, repr.plot.height = 6)\n",
    "plot_grid(exp_age_tuning_plot, exp_age_tuning_plot2, exp_age_tuning_plot3, ncol = 3)\n",
    "slice(exp_age_metrics, 1)\n",
    "slice(exp_age_metrics2, 1)\n",
    "slice(exp_age_metrics3, 1)"
   ]
  },
  {
   "cell_type": "markdown",
   "id": "6efe89d4",
   "metadata": {},
   "source": [
    "`experience` and `age`"
   ]
  },
  {
   "cell_type": "markdown",
   "id": "a04a52ad",
   "metadata": {},
   "source": [
    "**(2.5.14)** Tuning `played_hours` and `age` predictor subset"
   ]
  },
  {
   "cell_type": "code",
   "execution_count": 38,
   "id": "ce72e0ac",
   "metadata": {
    "vscode": {
     "languageId": "r"
    }
   },
   "outputs": [
    {
     "data": {
      "text/html": [
       "<table class=\"dataframe\">\n",
       "<caption>A tibble: 1 × 7</caption>\n",
       "<thead>\n",
       "\t<tr><th scope=col>neighbors</th><th scope=col>.metric</th><th scope=col>.estimator</th><th scope=col>mean</th><th scope=col>n</th><th scope=col>std_err</th><th scope=col>.config</th></tr>\n",
       "\t<tr><th scope=col>&lt;int&gt;</th><th scope=col>&lt;chr&gt;</th><th scope=col>&lt;chr&gt;</th><th scope=col>&lt;dbl&gt;</th><th scope=col>&lt;int&gt;</th><th scope=col>&lt;dbl&gt;</th><th scope=col>&lt;chr&gt;</th></tr>\n",
       "</thead>\n",
       "<tbody>\n",
       "\t<tr><td>135</td><td>accuracy</td><td>binary</td><td>0.5782051</td><td>10</td><td>0.0306557</td><td>Preprocessor1_Model135</td></tr>\n",
       "</tbody>\n",
       "</table>\n"
      ],
      "text/latex": [
       "A tibble: 1 × 7\n",
       "\\begin{tabular}{lllllll}\n",
       " neighbors & .metric & .estimator & mean & n & std\\_err & .config\\\\\n",
       " <int> & <chr> & <chr> & <dbl> & <int> & <dbl> & <chr>\\\\\n",
       "\\hline\n",
       "\t 135 & accuracy & binary & 0.5782051 & 10 & 0.0306557 & Preprocessor1\\_Model135\\\\\n",
       "\\end{tabular}\n"
      ],
      "text/markdown": [
       "\n",
       "A tibble: 1 × 7\n",
       "\n",
       "| neighbors &lt;int&gt; | .metric &lt;chr&gt; | .estimator &lt;chr&gt; | mean &lt;dbl&gt; | n &lt;int&gt; | std_err &lt;dbl&gt; | .config &lt;chr&gt; |\n",
       "|---|---|---|---|---|---|---|\n",
       "| 135 | accuracy | binary | 0.5782051 | 10 | 0.0306557 | Preprocessor1_Model135 |\n",
       "\n"
      ],
      "text/plain": [
       "  neighbors .metric  .estimator mean      n  std_err   .config               \n",
       "1 135       accuracy binary     0.5782051 10 0.0306557 Preprocessor1_Model135"
      ]
     },
     "metadata": {},
     "output_type": "display_data"
    },
    {
     "data": {
      "image/png": "[encoded data removed]",
      "text/plain": [
       "plot without title"
      ]
     },
     "metadata": {
      "image/png": {
       "height": 360,
       "width": 420
      }
     },
     "output_type": "display_data"
    }
   ],
   "source": [
    "hrs_age_metrics <- workflow() |>\n",
    "    add_recipe(hrs_age_recipe) |>\n",
    "    add_model(knn_tune) |>\n",
    "    tune_grid(resamples = players_vfold, grid = neighbors) |>\n",
    "    collect_metrics() |>\n",
    "    filter(.metric == \"accuracy\") |>\n",
    "    arrange(desc(mean))\n",
    "\n",
    "hrs_age_tuning_plot <- hrs_age_metrics |>\n",
    "    ggplot(aes(x = neighbors, y = mean)) +\n",
    "    geom_point() +\n",
    "    geom_line() +\n",
    "    labs(title = \"Figure 10.1: Accuracy vs neighbors with played_hours and \\nage predictors\",\n",
    "         x = \"Neighbors\",\n",
    "         y = \"Accuracy\") +\n",
    "    theme(text = element_text(size = 14))\n",
    "\n",
    "hrs_age_tuning_plot\n",
    "slice(hrs_age_metrics, 1)"
   ]
  },
  {
   "cell_type": "markdown",
   "id": "463faecc",
   "metadata": {},
   "source": [
    "*insert analysis*"
   ]
  },
  {
   "cell_type": "markdown",
   "id": "c7f10a4a",
   "metadata": {},
   "source": [
    "**(2.5.15)** Tuning `experiance`, `played_hours` and `age` predictor subset"
   ]
  },
  {
   "cell_type": "code",
   "execution_count": 61,
   "id": "7fdebe33",
   "metadata": {
    "vscode": {
     "languageId": "r"
    }
   },
   "outputs": [
    {
     "data": {
      "text/html": [
       "<table class=\"dataframe\">\n",
       "<caption>A tibble: 1 × 7</caption>\n",
       "<thead>\n",
       "\t<tr><th scope=col>neighbors</th><th scope=col>.metric</th><th scope=col>.estimator</th><th scope=col>mean</th><th scope=col>n</th><th scope=col>std_err</th><th scope=col>.config</th></tr>\n",
       "\t<tr><th scope=col>&lt;int&gt;</th><th scope=col>&lt;chr&gt;</th><th scope=col>&lt;chr&gt;</th><th scope=col>&lt;dbl&gt;</th><th scope=col>&lt;int&gt;</th><th scope=col>&lt;dbl&gt;</th><th scope=col>&lt;chr&gt;</th></tr>\n",
       "</thead>\n",
       "<tbody>\n",
       "\t<tr><td>39</td><td>accuracy</td><td>binary</td><td>0.5934432</td><td>10</td><td>0.02839664</td><td>Preprocessor1_Model039</td></tr>\n",
       "</tbody>\n",
       "</table>\n"
      ],
      "text/latex": [
       "A tibble: 1 × 7\n",
       "\\begin{tabular}{lllllll}\n",
       " neighbors & .metric & .estimator & mean & n & std\\_err & .config\\\\\n",
       " <int> & <chr> & <chr> & <dbl> & <int> & <dbl> & <chr>\\\\\n",
       "\\hline\n",
       "\t 39 & accuracy & binary & 0.5934432 & 10 & 0.02839664 & Preprocessor1\\_Model039\\\\\n",
       "\\end{tabular}\n"
      ],
      "text/markdown": [
       "\n",
       "A tibble: 1 × 7\n",
       "\n",
       "| neighbors &lt;int&gt; | .metric &lt;chr&gt; | .estimator &lt;chr&gt; | mean &lt;dbl&gt; | n &lt;int&gt; | std_err &lt;dbl&gt; | .config &lt;chr&gt; |\n",
       "|---|---|---|---|---|---|---|\n",
       "| 39 | accuracy | binary | 0.5934432 | 10 | 0.02839664 | Preprocessor1_Model039 |\n",
       "\n"
      ],
      "text/plain": [
       "  neighbors .metric  .estimator mean      n  std_err    .config               \n",
       "1 39        accuracy binary     0.5934432 10 0.02839664 Preprocessor1_Model039"
      ]
     },
     "metadata": {},
     "output_type": "display_data"
    },
    {
     "data": {
      "image/png": "[encoded data removed]",
      "text/plain": [
       "plot without title"
      ]
     },
     "metadata": {
      "image/png": {
       "height": 360,
       "width": 420
      }
     },
     "output_type": "display_data"
    }
   ],
   "source": [
    "exp_hrs_age_metrics <- workflow() |>\n",
    "    add_recipe(exp_hrs_age_recipe) |>\n",
    "    add_model(knn_tune) |>\n",
    "    tune_grid(resamples = players_vfold, grid = neighbors) |>\n",
    "    collect_metrics() |>\n",
    "    filter(.metric == \"accuracy\") |>\n",
    "    arrange(desc(mean))\n",
    "\n",
    "options(repr.plot.width = 7, repr.plot.height = 6)\n",
    "\n",
    "exp_hrs_age_tuning_plot <- exp_hrs_age_metrics |>\n",
    "    ggplot(aes(x = neighbors, y = mean)) +\n",
    "    geom_point() +\n",
    "    geom_line() +\n",
    "    labs(title = \"Figure 11.1: Accuracy vs neighbors with experience, \\nplayed_hours and age predictors\",\n",
    "         x = \"Neighbors\",\n",
    "         y = \"Accuracy\") +\n",
    "    theme(text = element_text(size = 14))\n",
    "\n",
    "exp_hrs_age_tuning_plot\n",
    "slice(exp_hrs_age_metrics, 1)"
   ]
  },
  {
   "cell_type": "markdown",
   "id": "fe891724",
   "metadata": {},
   "source": [
    "*insert analysis*"
   ]
  },
  {
   "cell_type": "code",
   "execution_count": 52,
   "id": "425021fb",
   "metadata": {
    "vscode": {
     "languageId": "r"
    }
   },
   "outputs": [],
   "source": [
    "# Stoppes parallel processing:\n",
    "# stopCluster(cl)"
   ]
  },
  {
   "cell_type": "markdown",
   "id": "54cc3b79",
   "metadata": {},
   "source": [
    "## (3) Discussion"
   ]
  },
  {
   "cell_type": "markdown",
   "id": "55b219fe",
   "metadata": {},
   "source": [
    "## (4) References"
   ]
  }
 ],
 "metadata": {
  "kernelspec": {
   "display_name": "R",
   "language": "R",
   "name": "ir"
  },
  "language_info": {
   "codemirror_mode": "r",
   "file_extension": ".r",
   "mimetype": "text/x-r-source",
   "name": "R",
   "pygments_lexer": "r",
   "version": "4.4.3"
  }
 },
 "nbformat": 4,
 "nbformat_minor": 5
}
