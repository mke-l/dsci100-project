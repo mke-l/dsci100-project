{
 "cells": [
  {
   "cell_type": "markdown",
   "id": "223f4e77-547d-44d7-8a46-3b2894c18eb7",
   "metadata": {},
   "source": [
    "# DSCI 100 Project: Predicting Newsletter Subscription with KNN Classification"
   ]
  },
  {
   "cell_type": "code",
   "execution_count": 3,
   "id": "15d53ee9-209b-46eb-a713-3e6124f587b6",
   "metadata": {
    "vscode": {
     "languageId": "r"
    }
   },
   "outputs": [],
   "source": [
    "library(tidyverse)\n",
    "library(tidymodels)\n",
    "library(scales)\n",
    "library(themis)\n",
    "options(repr.matrix.max.rows = 6)\n",
    "\n",
    "set.seed(1000)"
   ]
  },
  {
   "cell_type": "markdown",
   "id": "8e82081e-4240-4fa2-8b2b-24bf698a0e70",
   "metadata": {},
   "source": [
    "## (1) Introduction"
   ]
  },
  {
   "cell_type": "markdown",
   "id": "f0da4bb1-4336-4475-a151-0cdb896f1d74",
   "metadata": {},
   "source": [
    "The Pacific Laboratory for Artificial Intelligence (PLAI), to advance embodied AI research, has set up a Minecraft server named PLAICRAFT to collect behavioural data on volunteer players. A portion of the data from PLAI's endeavours has been provided for this project: the `players.csv` data set. The details of `players.csv` are summarized below. See section 2.3.1 for the calculation of summary values reported here:"
   ]
  },
  {
   "cell_type": "markdown",
   "id": "40825443-c96f-4c0e-963c-326f75387ff6",
   "metadata": {},
   "source": [
    "### (1.1) `players.csv`\n",
    "This dataset contains the following 7 variables regarding 196 players from the server: \n",
    "|**Variable**|**Read Data Type**|**Proper Data Type**|**Description**|\n",
    "|:-:|:-:|:-:|:-|\n",
    "|experience|`chr`|`fct`|Self-evaluated Minecraft experience level. One of: *Beginner*, *Amateur*, *Regular*, *Pro* or *Veteran*.|\n",
    "|subscribe|`lgl`|`fct`|Whether player is subscribed to a game-related newsletter. 144 are subscribed, 52 are not.|\n",
    "|hashedEmail|`chr`|`chr`|Encrypted email.|\n",
    "|played_hours|`dbl`|`dbl`|Hours played on the server. Mean = 5.8h, min = 0h, max = 223.1.|\n",
    "|name|`chr`|`chr`|Player's auto-generated genric name.|\n",
    "|gender|`chr`|`fct`| One of: *Male*, *Female*, *Non-binary*, *Agender*, *Two-spirited*, *Other* or *Perfer not to say*.|\n",
    "|Age|`dbl`|`int`|Self-reported age. Players must be at least 7. The age selector had a maximum age of 99 and a default of 17. Mean = 20.5, min = 8, max = 50.|\n",
    "\n",
    "**Potential issues:** \n",
    "- `subscribe` will need balancing for KNN classification.\n",
    "- There are an inordinate number of 17-year-olds (see section 3.7) due to 17 being the default age on the given survey.\n",
    "- The small sample size increases the effects of random unaccountable fluctuations in data."
   ]
  },
  {
   "cell_type": "markdown",
   "id": "2cbe2946-6db7-4194-81f3-a8faf14da890",
   "metadata": {},
   "source": [
    "### (1.2) Research Question\n",
    "***Can the self-reported age, self-reported experience level, and the total hours played by a given player predict whether that player will be subscribed to receive a game-related newsletter, as determined with players in the PLAICRAFT Minecraft server?***\n",
    "\n",
    "The `players.csv` dataset will be used. The `Age`, `experience`, `played_hours` and `subscribe` variables will be isolated. `Age`, `experience` and `played_hours` will then be selected via best-subset-selection and KNN classification to predict `subscribe`."
   ]
  },
  {
   "cell_type": "markdown",
   "id": "6e75a3a8-8023-452d-802c-903479f6ddeb",
   "metadata": {},
   "source": [
    "## (2) Methods & Results"
   ]
  },
  {
   "cell_type": "markdown",
   "id": "082f01e0-9439-4980-bd73-09b1fe144e4b",
   "metadata": {},
   "source": [
    "### (2.1) Data Reading\n",
    "Data will be read remotely from GitHub and stored in a tibble in `players`:"
   ]
  },
  {
   "cell_type": "code",
   "execution_count": 4,
   "id": "bf608df0-6f65-4611-820e-468690ae4fe0",
   "metadata": {
    "vscode": {
     "languageId": "r"
    }
   },
   "outputs": [
    {
     "name": "stderr",
     "output_type": "stream",
     "text": [
      "\u001b[1mRows: \u001b[22m\u001b[34m196\u001b[39m \u001b[1mColumns: \u001b[22m\u001b[34m7\u001b[39m\n",
      "\u001b[36m──\u001b[39m \u001b[1mColumn specification\u001b[22m \u001b[36m────────────────────────────────────────────────────────\u001b[39m\n",
      "\u001b[1mDelimiter:\u001b[22m \",\"\n",
      "\u001b[31mchr\u001b[39m (4): experience, hashedEmail, name, gender\n",
      "\u001b[32mdbl\u001b[39m (2): played_hours, Age\n",
      "\u001b[33mlgl\u001b[39m (1): subscribe\n",
      "\n",
      "\u001b[36mℹ\u001b[39m Use `spec()` to retrieve the full column specification for this data.\n",
      "\u001b[36mℹ\u001b[39m Specify the column types or set `show_col_types = FALSE` to quiet this message.\n"
     ]
    },
    {
     "data": {
      "text/html": [
       "<table class=\"dataframe\">\n",
       "<caption>A spec_tbl_df: 196 × 7</caption>\n",
       "<thead>\n",
       "\t<tr><th scope=col>experience</th><th scope=col>subscribe</th><th scope=col>hashedEmail</th><th scope=col>played_hours</th><th scope=col>name</th><th scope=col>gender</th><th scope=col>Age</th></tr>\n",
       "\t<tr><th scope=col>&lt;chr&gt;</th><th scope=col>&lt;lgl&gt;</th><th scope=col>&lt;chr&gt;</th><th scope=col>&lt;dbl&gt;</th><th scope=col>&lt;chr&gt;</th><th scope=col>&lt;chr&gt;</th><th scope=col>&lt;dbl&gt;</th></tr>\n",
       "</thead>\n",
       "<tbody>\n",
       "\t<tr><td>Pro    </td><td> TRUE</td><td>f6daba428a5e19a3d47574858c13550499be23603422e6a0ee9728f8b53e192d</td><td>30.3</td><td>Morgan   </td><td>Male</td><td> 9</td></tr>\n",
       "\t<tr><td>Veteran</td><td> TRUE</td><td>f3c813577c458ba0dfef80996f8f32c93b6e8af1fa939732842f2312358a88e9</td><td> 3.8</td><td>Christian</td><td>Male</td><td>17</td></tr>\n",
       "\t<tr><td>Veteran</td><td>FALSE</td><td>b674dd7ee0d24096d1c019615ce4d12b20fcbff12d79d3c5a9d2118eb7ccbb28</td><td> 0.0</td><td>Blake    </td><td>Male</td><td>17</td></tr>\n",
       "\t<tr><td>⋮</td><td>⋮</td><td>⋮</td><td>⋮</td><td>⋮</td><td>⋮</td><td>⋮</td></tr>\n",
       "\t<tr><td>Amateur</td><td>FALSE</td><td>d572f391d452b76ea2d7e5e53a3d38bfd7499c7399db299bd4fedb06a46ad5bb</td><td>0.0</td><td>Dylan </td><td>Prefer not to say</td><td>17</td></tr>\n",
       "\t<tr><td>Amateur</td><td>FALSE</td><td>f19e136ddde68f365afc860c725ccff54307dedd13968e896a9f890c40aea436</td><td>2.3</td><td>Harlow</td><td>Male             </td><td>17</td></tr>\n",
       "\t<tr><td>Pro    </td><td> TRUE</td><td>d9473710057f7d42f36570f0be83817a4eea614029ff90cf50d8889cdd729d11</td><td>0.2</td><td>Ahmed </td><td>Other            </td><td>NA</td></tr>\n",
       "</tbody>\n",
       "</table>\n"
      ],
      "text/latex": [
       "A spec\\_tbl\\_df: 196 × 7\n",
       "\\begin{tabular}{lllllll}\n",
       " experience & subscribe & hashedEmail & played\\_hours & name & gender & Age\\\\\n",
       " <chr> & <lgl> & <chr> & <dbl> & <chr> & <chr> & <dbl>\\\\\n",
       "\\hline\n",
       "\t Pro     &  TRUE & f6daba428a5e19a3d47574858c13550499be23603422e6a0ee9728f8b53e192d & 30.3 & Morgan    & Male &  9\\\\\n",
       "\t Veteran &  TRUE & f3c813577c458ba0dfef80996f8f32c93b6e8af1fa939732842f2312358a88e9 &  3.8 & Christian & Male & 17\\\\\n",
       "\t Veteran & FALSE & b674dd7ee0d24096d1c019615ce4d12b20fcbff12d79d3c5a9d2118eb7ccbb28 &  0.0 & Blake     & Male & 17\\\\\n",
       "\t ⋮ & ⋮ & ⋮ & ⋮ & ⋮ & ⋮ & ⋮\\\\\n",
       "\t Amateur & FALSE & d572f391d452b76ea2d7e5e53a3d38bfd7499c7399db299bd4fedb06a46ad5bb & 0.0 & Dylan  & Prefer not to say & 17\\\\\n",
       "\t Amateur & FALSE & f19e136ddde68f365afc860c725ccff54307dedd13968e896a9f890c40aea436 & 2.3 & Harlow & Male              & 17\\\\\n",
       "\t Pro     &  TRUE & d9473710057f7d42f36570f0be83817a4eea614029ff90cf50d8889cdd729d11 & 0.2 & Ahmed  & Other             & NA\\\\\n",
       "\\end{tabular}\n"
      ],
      "text/markdown": [
       "\n",
       "A spec_tbl_df: 196 × 7\n",
       "\n",
       "| experience &lt;chr&gt; | subscribe &lt;lgl&gt; | hashedEmail &lt;chr&gt; | played_hours &lt;dbl&gt; | name &lt;chr&gt; | gender &lt;chr&gt; | Age &lt;dbl&gt; |\n",
       "|---|---|---|---|---|---|---|\n",
       "| Pro     |  TRUE | f6daba428a5e19a3d47574858c13550499be23603422e6a0ee9728f8b53e192d | 30.3 | Morgan    | Male |  9 |\n",
       "| Veteran |  TRUE | f3c813577c458ba0dfef80996f8f32c93b6e8af1fa939732842f2312358a88e9 |  3.8 | Christian | Male | 17 |\n",
       "| Veteran | FALSE | b674dd7ee0d24096d1c019615ce4d12b20fcbff12d79d3c5a9d2118eb7ccbb28 |  0.0 | Blake     | Male | 17 |\n",
       "| ⋮ | ⋮ | ⋮ | ⋮ | ⋮ | ⋮ | ⋮ |\n",
       "| Amateur | FALSE | d572f391d452b76ea2d7e5e53a3d38bfd7499c7399db299bd4fedb06a46ad5bb | 0.0 | Dylan  | Prefer not to say | 17 |\n",
       "| Amateur | FALSE | f19e136ddde68f365afc860c725ccff54307dedd13968e896a9f890c40aea436 | 2.3 | Harlow | Male              | 17 |\n",
       "| Pro     |  TRUE | d9473710057f7d42f36570f0be83817a4eea614029ff90cf50d8889cdd729d11 | 0.2 | Ahmed  | Other             | NA |\n",
       "\n"
      ],
      "text/plain": [
       "    experience subscribe\n",
       "1   Pro         TRUE    \n",
       "2   Veteran     TRUE    \n",
       "3   Veteran    FALSE    \n",
       "⋮   ⋮          ⋮        \n",
       "194 Amateur    FALSE    \n",
       "195 Amateur    FALSE    \n",
       "196 Pro         TRUE    \n",
       "    hashedEmail                                                     \n",
       "1   f6daba428a5e19a3d47574858c13550499be23603422e6a0ee9728f8b53e192d\n",
       "2   f3c813577c458ba0dfef80996f8f32c93b6e8af1fa939732842f2312358a88e9\n",
       "3   b674dd7ee0d24096d1c019615ce4d12b20fcbff12d79d3c5a9d2118eb7ccbb28\n",
       "⋮   ⋮                                                               \n",
       "194 d572f391d452b76ea2d7e5e53a3d38bfd7499c7399db299bd4fedb06a46ad5bb\n",
       "195 f19e136ddde68f365afc860c725ccff54307dedd13968e896a9f890c40aea436\n",
       "196 d9473710057f7d42f36570f0be83817a4eea614029ff90cf50d8889cdd729d11\n",
       "    played_hours name      gender            Age\n",
       "1   30.3         Morgan    Male               9 \n",
       "2    3.8         Christian Male              17 \n",
       "3    0.0         Blake     Male              17 \n",
       "⋮   ⋮            ⋮         ⋮                 ⋮  \n",
       "194 0.0          Dylan     Prefer not to say 17 \n",
       "195 2.3          Harlow    Male              17 \n",
       "196 0.2          Ahmed     Other             NA "
      ]
     },
     "metadata": {},
     "output_type": "display_data"
    }
   ],
   "source": [
    "players_url <- \"https://raw.githubusercontent.com/mke-l/dsci100-project-data/refs/heads/main/data/players.csv\"\n",
    "players_raw <- read_csv(players_url)\n",
    "\n",
    "players_raw"
   ]
  },
  {
   "cell_type": "markdown",
   "id": "a0aefab6-6238-487e-aa3f-1a0a5474580c",
   "metadata": {},
   "source": [
    "### (2.2) Data Cleaning and Wrangling\n",
    "**(2.2.1)** Conversion of `players`' variables to proper data type, tidying of variable names, reordering of experience factor:"
   ]
  },
  {
   "cell_type": "code",
   "execution_count": 5,
   "id": "c804adbd-cb7a-4979-b27d-cbb57e14bc07",
   "metadata": {
    "vscode": {
     "languageId": "r"
    }
   },
   "outputs": [
    {
     "data": {
      "text/html": [
       "<table class=\"dataframe\">\n",
       "<caption>A tibble: 196 × 7</caption>\n",
       "<thead>\n",
       "\t<tr><th scope=col>experience</th><th scope=col>subscribe</th><th scope=col>hashed_email</th><th scope=col>played_hours</th><th scope=col>name</th><th scope=col>gender</th><th scope=col>age</th></tr>\n",
       "\t<tr><th scope=col>&lt;fct&gt;</th><th scope=col>&lt;fct&gt;</th><th scope=col>&lt;chr&gt;</th><th scope=col>&lt;dbl&gt;</th><th scope=col>&lt;chr&gt;</th><th scope=col>&lt;fct&gt;</th><th scope=col>&lt;int&gt;</th></tr>\n",
       "</thead>\n",
       "<tbody>\n",
       "\t<tr><td>Pro    </td><td>TRUE </td><td>f6daba428a5e19a3d47574858c13550499be23603422e6a0ee9728f8b53e192d</td><td>30.3</td><td>Morgan   </td><td>Male</td><td> 9</td></tr>\n",
       "\t<tr><td>Veteran</td><td>TRUE </td><td>f3c813577c458ba0dfef80996f8f32c93b6e8af1fa939732842f2312358a88e9</td><td> 3.8</td><td>Christian</td><td>Male</td><td>17</td></tr>\n",
       "\t<tr><td>Veteran</td><td>FALSE</td><td>b674dd7ee0d24096d1c019615ce4d12b20fcbff12d79d3c5a9d2118eb7ccbb28</td><td> 0.0</td><td>Blake    </td><td>Male</td><td>17</td></tr>\n",
       "\t<tr><td>⋮</td><td>⋮</td><td>⋮</td><td>⋮</td><td>⋮</td><td>⋮</td><td>⋮</td></tr>\n",
       "\t<tr><td>Amateur</td><td>FALSE</td><td>d572f391d452b76ea2d7e5e53a3d38bfd7499c7399db299bd4fedb06a46ad5bb</td><td>0.0</td><td>Dylan </td><td>Prefer not to say</td><td>17</td></tr>\n",
       "\t<tr><td>Amateur</td><td>FALSE</td><td>f19e136ddde68f365afc860c725ccff54307dedd13968e896a9f890c40aea436</td><td>2.3</td><td>Harlow</td><td>Male             </td><td>17</td></tr>\n",
       "\t<tr><td>Pro    </td><td>TRUE </td><td>d9473710057f7d42f36570f0be83817a4eea614029ff90cf50d8889cdd729d11</td><td>0.2</td><td>Ahmed </td><td>Other            </td><td>NA</td></tr>\n",
       "</tbody>\n",
       "</table>\n"
      ],
      "text/latex": [
       "A tibble: 196 × 7\n",
       "\\begin{tabular}{lllllll}\n",
       " experience & subscribe & hashed\\_email & played\\_hours & name & gender & age\\\\\n",
       " <fct> & <fct> & <chr> & <dbl> & <chr> & <fct> & <int>\\\\\n",
       "\\hline\n",
       "\t Pro     & TRUE  & f6daba428a5e19a3d47574858c13550499be23603422e6a0ee9728f8b53e192d & 30.3 & Morgan    & Male &  9\\\\\n",
       "\t Veteran & TRUE  & f3c813577c458ba0dfef80996f8f32c93b6e8af1fa939732842f2312358a88e9 &  3.8 & Christian & Male & 17\\\\\n",
       "\t Veteran & FALSE & b674dd7ee0d24096d1c019615ce4d12b20fcbff12d79d3c5a9d2118eb7ccbb28 &  0.0 & Blake     & Male & 17\\\\\n",
       "\t ⋮ & ⋮ & ⋮ & ⋮ & ⋮ & ⋮ & ⋮\\\\\n",
       "\t Amateur & FALSE & d572f391d452b76ea2d7e5e53a3d38bfd7499c7399db299bd4fedb06a46ad5bb & 0.0 & Dylan  & Prefer not to say & 17\\\\\n",
       "\t Amateur & FALSE & f19e136ddde68f365afc860c725ccff54307dedd13968e896a9f890c40aea436 & 2.3 & Harlow & Male              & 17\\\\\n",
       "\t Pro     & TRUE  & d9473710057f7d42f36570f0be83817a4eea614029ff90cf50d8889cdd729d11 & 0.2 & Ahmed  & Other             & NA\\\\\n",
       "\\end{tabular}\n"
      ],
      "text/markdown": [
       "\n",
       "A tibble: 196 × 7\n",
       "\n",
       "| experience &lt;fct&gt; | subscribe &lt;fct&gt; | hashed_email &lt;chr&gt; | played_hours &lt;dbl&gt; | name &lt;chr&gt; | gender &lt;fct&gt; | age &lt;int&gt; |\n",
       "|---|---|---|---|---|---|---|\n",
       "| Pro     | TRUE  | f6daba428a5e19a3d47574858c13550499be23603422e6a0ee9728f8b53e192d | 30.3 | Morgan    | Male |  9 |\n",
       "| Veteran | TRUE  | f3c813577c458ba0dfef80996f8f32c93b6e8af1fa939732842f2312358a88e9 |  3.8 | Christian | Male | 17 |\n",
       "| Veteran | FALSE | b674dd7ee0d24096d1c019615ce4d12b20fcbff12d79d3c5a9d2118eb7ccbb28 |  0.0 | Blake     | Male | 17 |\n",
       "| ⋮ | ⋮ | ⋮ | ⋮ | ⋮ | ⋮ | ⋮ |\n",
       "| Amateur | FALSE | d572f391d452b76ea2d7e5e53a3d38bfd7499c7399db299bd4fedb06a46ad5bb | 0.0 | Dylan  | Prefer not to say | 17 |\n",
       "| Amateur | FALSE | f19e136ddde68f365afc860c725ccff54307dedd13968e896a9f890c40aea436 | 2.3 | Harlow | Male              | 17 |\n",
       "| Pro     | TRUE  | d9473710057f7d42f36570f0be83817a4eea614029ff90cf50d8889cdd729d11 | 0.2 | Ahmed  | Other             | NA |\n",
       "\n"
      ],
      "text/plain": [
       "    experience subscribe\n",
       "1   Pro        TRUE     \n",
       "2   Veteran    TRUE     \n",
       "3   Veteran    FALSE    \n",
       "⋮   ⋮          ⋮        \n",
       "194 Amateur    FALSE    \n",
       "195 Amateur    FALSE    \n",
       "196 Pro        TRUE     \n",
       "    hashed_email                                                    \n",
       "1   f6daba428a5e19a3d47574858c13550499be23603422e6a0ee9728f8b53e192d\n",
       "2   f3c813577c458ba0dfef80996f8f32c93b6e8af1fa939732842f2312358a88e9\n",
       "3   b674dd7ee0d24096d1c019615ce4d12b20fcbff12d79d3c5a9d2118eb7ccbb28\n",
       "⋮   ⋮                                                               \n",
       "194 d572f391d452b76ea2d7e5e53a3d38bfd7499c7399db299bd4fedb06a46ad5bb\n",
       "195 f19e136ddde68f365afc860c725ccff54307dedd13968e896a9f890c40aea436\n",
       "196 d9473710057f7d42f36570f0be83817a4eea614029ff90cf50d8889cdd729d11\n",
       "    played_hours name      gender            age\n",
       "1   30.3         Morgan    Male               9 \n",
       "2    3.8         Christian Male              17 \n",
       "3    0.0         Blake     Male              17 \n",
       "⋮   ⋮            ⋮         ⋮                 ⋮  \n",
       "194 0.0          Dylan     Prefer not to say 17 \n",
       "195 2.3          Harlow    Male              17 \n",
       "196 0.2          Ahmed     Other             NA "
      ]
     },
     "metadata": {},
     "output_type": "display_data"
    }
   ],
   "source": [
    "players_clean <- players_raw |>\n",
    "    mutate(experience = as_factor(experience)) |>\n",
    "    mutate(subscribe = as_factor(subscribe)) |>\n",
    "    rename(hashed_email = hashedEmail) |>\n",
    "    mutate(gender = as_factor(gender)) |>\n",
    "    rename(age = Age) |>\n",
    "    mutate(age = as.integer(age)) |>\n",
    "    mutate(experience = fct_relevel(experience, \"Beginner\", \"Amateur\", \"Regular\", \"Pro\", \"Veteran\"))\n",
    "\n",
    "players_clean"
   ]
  },
  {
   "cell_type": "markdown",
   "id": "458cafbf-b38c-4328-bbb5-a89b83aebcf0",
   "metadata": {},
   "source": [
    "**(2.2.2)** Isolation of relevant variables: `experience`, `subscribe`, `played_hours` and `age`:"
   ]
  },
  {
   "cell_type": "code",
   "execution_count": 6,
   "id": "dd5f9d6e-6cb9-4ba7-9b24-bf5496423724",
   "metadata": {
    "vscode": {
     "languageId": "r"
    }
   },
   "outputs": [
    {
     "data": {
      "text/html": [
       "<table class=\"dataframe\">\n",
       "<caption>A tibble: 196 × 4</caption>\n",
       "<thead>\n",
       "\t<tr><th scope=col>experience</th><th scope=col>subscribe</th><th scope=col>played_hours</th><th scope=col>age</th></tr>\n",
       "\t<tr><th scope=col>&lt;fct&gt;</th><th scope=col>&lt;fct&gt;</th><th scope=col>&lt;dbl&gt;</th><th scope=col>&lt;int&gt;</th></tr>\n",
       "</thead>\n",
       "<tbody>\n",
       "\t<tr><td>Pro    </td><td>TRUE </td><td>30.3</td><td> 9</td></tr>\n",
       "\t<tr><td>Veteran</td><td>TRUE </td><td> 3.8</td><td>17</td></tr>\n",
       "\t<tr><td>Veteran</td><td>FALSE</td><td> 0.0</td><td>17</td></tr>\n",
       "\t<tr><td>⋮</td><td>⋮</td><td>⋮</td><td>⋮</td></tr>\n",
       "\t<tr><td>Amateur</td><td>FALSE</td><td>0.0</td><td>17</td></tr>\n",
       "\t<tr><td>Amateur</td><td>FALSE</td><td>2.3</td><td>17</td></tr>\n",
       "\t<tr><td>Pro    </td><td>TRUE </td><td>0.2</td><td>NA</td></tr>\n",
       "</tbody>\n",
       "</table>\n"
      ],
      "text/latex": [
       "A tibble: 196 × 4\n",
       "\\begin{tabular}{llll}\n",
       " experience & subscribe & played\\_hours & age\\\\\n",
       " <fct> & <fct> & <dbl> & <int>\\\\\n",
       "\\hline\n",
       "\t Pro     & TRUE  & 30.3 &  9\\\\\n",
       "\t Veteran & TRUE  &  3.8 & 17\\\\\n",
       "\t Veteran & FALSE &  0.0 & 17\\\\\n",
       "\t ⋮ & ⋮ & ⋮ & ⋮\\\\\n",
       "\t Amateur & FALSE & 0.0 & 17\\\\\n",
       "\t Amateur & FALSE & 2.3 & 17\\\\\n",
       "\t Pro     & TRUE  & 0.2 & NA\\\\\n",
       "\\end{tabular}\n"
      ],
      "text/markdown": [
       "\n",
       "A tibble: 196 × 4\n",
       "\n",
       "| experience &lt;fct&gt; | subscribe &lt;fct&gt; | played_hours &lt;dbl&gt; | age &lt;int&gt; |\n",
       "|---|---|---|---|\n",
       "| Pro     | TRUE  | 30.3 |  9 |\n",
       "| Veteran | TRUE  |  3.8 | 17 |\n",
       "| Veteran | FALSE |  0.0 | 17 |\n",
       "| ⋮ | ⋮ | ⋮ | ⋮ |\n",
       "| Amateur | FALSE | 0.0 | 17 |\n",
       "| Amateur | FALSE | 2.3 | 17 |\n",
       "| Pro     | TRUE  | 0.2 | NA |\n",
       "\n"
      ],
      "text/plain": [
       "    experience subscribe played_hours age\n",
       "1   Pro        TRUE      30.3          9 \n",
       "2   Veteran    TRUE       3.8         17 \n",
       "3   Veteran    FALSE      0.0         17 \n",
       "⋮   ⋮          ⋮         ⋮            ⋮  \n",
       "194 Amateur    FALSE     0.0          17 \n",
       "195 Amateur    FALSE     2.3          17 \n",
       "196 Pro        TRUE      0.2          NA "
      ]
     },
     "metadata": {},
     "output_type": "display_data"
    }
   ],
   "source": [
    "players_wrangled <- players_clean |>\n",
    "    select(experience, subscribe, played_hours, age)\n",
    "\n",
    "players_wrangled"
   ]
  },
  {
   "cell_type": "markdown",
   "id": "32d47496-9fa4-4903-a67f-810253bfcde2",
   "metadata": {},
   "source": [
    "### (2.3) Exploratory Numerical Data Analysis\n",
    "**(2.3.1)** Computing mean, min and max values for all `players_wrangled` quantative variables:"
   ]
  },
  {
   "cell_type": "code",
   "execution_count": 7,
   "id": "2de6e487-5c14-4b9c-856c-a80d7178fbf2",
   "metadata": {
    "vscode": {
     "languageId": "r"
    }
   },
   "outputs": [
    {
     "data": {
      "text/html": [
       "<table class=\"dataframe\">\n",
       "<caption>A tibble: 1 × 6</caption>\n",
       "<thead>\n",
       "\t<tr><th scope=col>mean_played_hours</th><th scope=col>min_played_hours</th><th scope=col>max_played_hours</th><th scope=col>mean_age</th><th scope=col>min_age</th><th scope=col>max_age</th></tr>\n",
       "\t<tr><th scope=col>&lt;dbl&gt;</th><th scope=col>&lt;dbl&gt;</th><th scope=col>&lt;dbl&gt;</th><th scope=col>&lt;dbl&gt;</th><th scope=col>&lt;int&gt;</th><th scope=col>&lt;int&gt;</th></tr>\n",
       "</thead>\n",
       "<tbody>\n",
       "\t<tr><td>5.845918</td><td>0</td><td>223.1</td><td>20.52062</td><td>8</td><td>50</td></tr>\n",
       "</tbody>\n",
       "</table>\n"
      ],
      "text/latex": [
       "A tibble: 1 × 6\n",
       "\\begin{tabular}{llllll}\n",
       " mean\\_played\\_hours & min\\_played\\_hours & max\\_played\\_hours & mean\\_age & min\\_age & max\\_age\\\\\n",
       " <dbl> & <dbl> & <dbl> & <dbl> & <int> & <int>\\\\\n",
       "\\hline\n",
       "\t 5.845918 & 0 & 223.1 & 20.52062 & 8 & 50\\\\\n",
       "\\end{tabular}\n"
      ],
      "text/markdown": [
       "\n",
       "A tibble: 1 × 6\n",
       "\n",
       "| mean_played_hours &lt;dbl&gt; | min_played_hours &lt;dbl&gt; | max_played_hours &lt;dbl&gt; | mean_age &lt;dbl&gt; | min_age &lt;int&gt; | max_age &lt;int&gt; |\n",
       "|---|---|---|---|---|---|\n",
       "| 5.845918 | 0 | 223.1 | 20.52062 | 8 | 50 |\n",
       "\n"
      ],
      "text/plain": [
       "  mean_played_hours min_played_hours max_played_hours mean_age min_age max_age\n",
       "1 5.845918          0                223.1            20.52062 8       50     "
      ]
     },
     "metadata": {},
     "output_type": "display_data"
    }
   ],
   "source": [
    "players_stats <- players_wrangled |>\n",
    "    select(played_hours, age) |>\n",
    "    summarize(mean_played_hours = mean(played_hours),\n",
    "             min_played_hours = min(played_hours),\n",
    "             max_played_hours = max(played_hours),\n",
    "             mean_age = mean(age, na.rm = TRUE),\n",
    "             min_age = min(age, na.rm = TRUE),\n",
    "             max_age = max(age, na.rm = TRUE))\n",
    "\n",
    "players_stats"
   ]
  },
  {
   "cell_type": "markdown",
   "id": "2459601d-aa78-43c8-b15b-77f70753fe04",
   "metadata": {},
   "source": [
    "It is noted that the average played hours of players on the PLAICRAFT server is 5.8 hours with a range of 0-223.1 hours. The average age of players on the PLAICRAFT server is 20.5 with a range of 8-50 years old."
   ]
  },
  {
   "cell_type": "markdown",
   "id": "63c3db99-f186-479c-8da4-55f0be4c0877",
   "metadata": {},
   "source": [
    "**(2.3.2)** Distribution of players subscribed and not subscribed to the newsletter:"
   ]
  },
  {
   "cell_type": "code",
   "execution_count": 8,
   "id": "41abf4ef-4c1e-43b5-9792-5177c088c9d9",
   "metadata": {
    "vscode": {
     "languageId": "r"
    }
   },
   "outputs": [
    {
     "data": {
      "text/html": [
       "<table class=\"dataframe\">\n",
       "<caption>A tibble: 2 × 2</caption>\n",
       "<thead>\n",
       "\t<tr><th scope=col>subscribed_to_newsletter</th><th scope=col>count</th></tr>\n",
       "\t<tr><th scope=col>&lt;fct&gt;</th><th scope=col>&lt;int&gt;</th></tr>\n",
       "</thead>\n",
       "<tbody>\n",
       "\t<tr><td>FALSE</td><td> 52</td></tr>\n",
       "\t<tr><td>TRUE </td><td>144</td></tr>\n",
       "</tbody>\n",
       "</table>\n"
      ],
      "text/latex": [
       "A tibble: 2 × 2\n",
       "\\begin{tabular}{ll}\n",
       " subscribed\\_to\\_newsletter & count\\\\\n",
       " <fct> & <int>\\\\\n",
       "\\hline\n",
       "\t FALSE &  52\\\\\n",
       "\t TRUE  & 144\\\\\n",
       "\\end{tabular}\n"
      ],
      "text/markdown": [
       "\n",
       "A tibble: 2 × 2\n",
       "\n",
       "| subscribed_to_newsletter &lt;fct&gt; | count &lt;int&gt; |\n",
       "|---|---|\n",
       "| FALSE |  52 |\n",
       "| TRUE  | 144 |\n",
       "\n"
      ],
      "text/plain": [
       "  subscribed_to_newsletter count\n",
       "1 FALSE                     52  \n",
       "2 TRUE                     144  "
      ]
     },
     "metadata": {},
     "output_type": "display_data"
    }
   ],
   "source": [
    "players_wrangled |>\n",
    "    group_by(subscribed_to_newsletter = subscribe) |>\n",
    "    summarize(count = n())"
   ]
  },
  {
   "cell_type": "markdown",
   "id": "42c2e08f-1823-4943-8a4a-fc27f9795982",
   "metadata": {},
   "source": [
    "This shows an considerable imbalence in the label, this will need to be balenced during later analysis."
   ]
  },
  {
   "cell_type": "markdown",
   "id": "22c33d81-ccdf-488e-b2f2-f1087a4c9665",
   "metadata": {},
   "source": [
    "### (2.4) Exploratory Visual Data Analysis"
   ]
  },
  {
   "cell_type": "markdown",
   "id": "0f825ee9-a80e-4152-b640-8350ef766d40",
   "metadata": {},
   "source": [
    "**(2.4.1)** Distribution of players by age:"
   ]
  },
  {
   "cell_type": "code",
   "execution_count": 9,
   "id": "654739a4-9d9f-4fb6-801e-6bda9c3e6e3b",
   "metadata": {
    "vscode": {
     "languageId": "r"
    }
   },
   "outputs": [
    {
     "name": "stderr",
     "output_type": "stream",
     "text": [
      "Warning message:\n",
      "\"\u001b[1m\u001b[22mRemoved 2 rows containing non-finite outside the scale range (`stat_count()`).\"\n"
     ]
    },
    {
     "data": {
      "image/png": "[encoded data removed]",
      "text/plain": [
       "plot without title"
      ]
     },
     "metadata": {
      "image/png": {
       "height": 240,
       "width": 360
      }
     },
     "output_type": "display_data"
    }
   ],
   "source": [
    "options(repr.plot.width = 6, repr.plot.height = 4)\n",
    "\n",
    "ggplot(players_wrangled, aes(x = age)) +\n",
    "    geom_bar(stat = \"count\") +\n",
    "    labs(title = \"Figure 1: Total players per self-reported age\",\n",
    "        x = \"Self-reported age (years)\",\n",
    "        y = \"Number of players\") +\n",
    "    theme(text = element_text(size = 14))"
   ]
  },
  {
   "cell_type": "markdown",
   "id": "ca5178ea-7703-4756-a5a9-ca4e68e38e1f",
   "metadata": {},
   "source": [
    "This shows that the general non-outlying data is symmetric around a mode of 21 years, with a longer tail towards higher ages since players must be at least 7 but can be up to 99. There is also an extreme spike at 17 years old due to 17 being the default age on the data collection survey (Pacific Laboratory of Artificial Intelligence, 2024)."
   ]
  },
  {
   "cell_type": "markdown",
   "id": "5ea5a600-f5b8-4727-9f75-8d3e00547f5b",
   "metadata": {},
   "source": [
    "**(2.4.2)** Fraction of players subscribed to the newsletter per experience level:"
   ]
  },
  {
   "cell_type": "code",
   "execution_count": 10,
   "id": "dc5543d1-2808-45f8-99eb-10696e400a6e",
   "metadata": {
    "vscode": {
     "languageId": "r"
    }
   },
   "outputs": [
    {
     "data": {
      "image/png": "[encoded data removed]",
      "text/plain": [
       "plot without title"
      ]
     },
     "metadata": {
      "image/png": {
       "height": 240,
       "width": 360
      }
     },
     "output_type": "display_data"
    }
   ],
   "source": [
    "players_experience_count <- players_wrangled |>\n",
    "    group_by(experience) |>\n",
    "    summarize(total = n())\n",
    "\n",
    "players_subscribed_experiance_count <- players_wrangled |>\n",
    "    filter(subscribe == TRUE) |>\n",
    "    group_by(experience) |>\n",
    "    summarize(subscribed = n())\n",
    "\n",
    "players_experience_subscribed_fraction <- players_experience_count |>\n",
    "    bind_cols(subscribed = pull(players_subscribed_experiance_count, subscribed)) |>\n",
    "    mutate(fraction = subscribed/total)\n",
    "\n",
    "\n",
    "ggplot(players_experience_subscribed_fraction, aes(x = experience, y = fraction)) +\n",
    "    geom_bar(stat = \"identity\") +\n",
    "    ylim(c(0, 1)) +\n",
    "    labs(title = \"Figure 2: Fraction of players subscribed to \\na game-related newsletter per experience level\",\n",
    "        x = \"Self-reported experience level\",\n",
    "        y = \"Fraction of played subscribed\") +\n",
    "    theme(text = element_text(size = 14))"
   ]
  },
  {
   "cell_type": "markdown",
   "id": "ab067aa4-635c-4eb4-a2c6-7e74cd85f01e",
   "metadata": {},
   "source": [
    "There is a general downwards trend in subscriptions as experience increases with the exception of players of *Regular* experience. This shows experience may be a useful predictor of subscription."
   ]
  },
  {
   "cell_type": "markdown",
   "id": "10863896-3983-4037-93a5-e2893a330ddf",
   "metadata": {},
   "source": [
    "**(2.4.3)** Total play time and age of each player colored according to subscription status:"
   ]
  },
  {
   "cell_type": "code",
   "execution_count": 11,
   "id": "eb50d862-a2df-4e2b-8156-8237cfdfcb57",
   "metadata": {
    "vscode": {
     "languageId": "r"
    }
   },
   "outputs": [
    {
     "name": "stderr",
     "output_type": "stream",
     "text": [
      "Warning message:\n",
      "\"\u001b[1m\u001b[22mRemoved 2 rows containing missing values or values outside the scale range\n",
      "(`geom_point()`).\"\n"
     ]
    },
    {
     "data": {
      "image/png": "[encoded data removed]",
      "text/plain": [
       "plot without title"
      ]
     },
     "metadata": {
      "image/png": {
       "height": 360,
       "width": 420
      }
     },
     "output_type": "display_data"
    }
   ],
   "source": [
    "options(repr.plot.width = 7, repr.plot.height = 6)\n",
    "\n",
    "players_time_vs_age <- ggplot(players_wrangled, aes(x = age, y = played_hours, color = subscribe)) +\n",
    "    geom_point() +\n",
    "    labs(title = \"Figure 3: Total play time and the age of players \\ncolored according to subscription status\",\n",
    "        x = \"Self-reported age of player (years)\",\n",
    "        y = \"Total time played on server (hours)\",\n",
    "        color = \"The player is subscribed to the game-related newsletter\") +\n",
    "    scale_color_manual(values = c(\"darkorange\", \"steelblue\")) +\n",
    "    theme(text = element_text(size = 14),\n",
    "         legend.position = \"bottom\",\n",
    "         legend.direction = \"vertical\")\n",
    "\n",
    "players_time_vs_age"
   ]
  },
  {
   "cell_type": "markdown",
   "id": "222b3805-ac83-4997-b0d8-c977dd256e01",
   "metadata": {},
   "source": [
    "Most players appear to have very low play time, except a few players with very high play time in the hundreds of hours. The below logarithmic time played scale shows a more detailed view of players:"
   ]
  },
  {
   "cell_type": "code",
   "execution_count": 12,
   "id": "28ded1ec-99d0-477c-9b9b-e74cd4e85c53",
   "metadata": {
    "vscode": {
     "languageId": "r"
    }
   },
   "outputs": [
    {
     "name": "stderr",
     "output_type": "stream",
     "text": [
      "Warning message in scale_y_log10():\n",
      "\"\u001b[1m\u001b[22m\u001b[32mlog-10\u001b[39m transformation introduced infinite values.\"\n",
      "Warning message:\n",
      "\"\u001b[1m\u001b[22mRemoved 2 rows containing missing values or values outside the scale range\n",
      "(`geom_point()`).\"\n"
     ]
    },
    {
     "data": {
      "image/png": "[encoded data removed]",
      "text/plain": [
       "plot without title"
      ]
     },
     "metadata": {
      "image/png": {
       "height": 360,
       "width": 420
      }
     },
     "output_type": "display_data"
    }
   ],
   "source": [
    "players_time_vs_age_log10 <- players_time_vs_age + \n",
    "    scale_y_log10() +\n",
    "    ggtitle(\"Figure 4: Total play time and the age of players colored \\naccording to subscription status (logarithmic scale)\")\n",
    "\n",
    "players_time_vs_age_log10"
   ]
  },
  {
   "cell_type": "markdown",
   "id": "918b1e95-aca7-47f5-921d-a60d616fd489",
   "metadata": {},
   "source": [
    "It is seen generally that players of higher playtime and lesser age are more likely to be subscribed to a game-related newsletter. Though the relationship is highly mixed, these two variables could both prove useful in predicting subscription."
   ]
  },
  {
   "cell_type": "markdown",
   "id": "cd37c198-1877-478f-bd8b-7333da78553a",
   "metadata": {},
   "source": [
    "### (2.5) Data Analysis"
   ]
  },
  {
   "cell_type": "markdown",
   "id": "270d5cd9-e3d0-4fd9-96aa-543f1f248652",
   "metadata": {},
   "source": [
    "**(2.5.01)** Plan of analysis:\n",
    "\n",
    "The experience levels *Beginner*, *Amateur*, *Regular*, *Pro* and *Veteran* will be recoded as integers 1-5, respectively. Observations with NAs will be dropped. The data will be split into 75% training and 25% testing data, and balanced over the `subscribe` variable. With the training data, best subset selection will determine which of `age`, `experience` and `played_hours` will be included in a KNN classification model to predict `subscribe`. 5-fold cross-validation will determine the optimal value for K. Finally, the resulting prediction model will be assessed with the test data.\n",
    "\n",
    "The label is a boolean variable, making it suitable for classification. Best subset selection and cross-validation will ensure optimization of KNN classification. It is assumed that the bias in the age predictor for 17 will not have too great an effect on predictions. Although no predictor correlated strongly with the label, they are the best available choices."
   ]
  },
  {
   "cell_type": "markdown",
   "id": "181a5b20-77cd-4d52-84cd-d106e951a886",
   "metadata": {},
   "source": [
    "**(2.5.02)** Mapping experience levels *Beginner*, *Amateur*, *Regular*, *Pro* and *Veteran* to integers 1-5:"
   ]
  },
  {
   "cell_type": "code",
   "execution_count": 13,
   "id": "b5e2ae12-6bbd-409a-9779-3ac01eee4985",
   "metadata": {
    "vscode": {
     "languageId": "r"
    }
   },
   "outputs": [
    {
     "data": {
      "text/html": [
       "<table class=\"dataframe\">\n",
       "<caption>A tibble: 196 × 4</caption>\n",
       "<thead>\n",
       "\t<tr><th scope=col>experience</th><th scope=col>subscribe</th><th scope=col>played_hours</th><th scope=col>age</th></tr>\n",
       "\t<tr><th scope=col>&lt;int&gt;</th><th scope=col>&lt;fct&gt;</th><th scope=col>&lt;dbl&gt;</th><th scope=col>&lt;int&gt;</th></tr>\n",
       "</thead>\n",
       "<tbody>\n",
       "\t<tr><td>4</td><td>TRUE </td><td>30.3</td><td> 9</td></tr>\n",
       "\t<tr><td>5</td><td>TRUE </td><td> 3.8</td><td>17</td></tr>\n",
       "\t<tr><td>5</td><td>FALSE</td><td> 0.0</td><td>17</td></tr>\n",
       "\t<tr><td>⋮</td><td>⋮</td><td>⋮</td><td>⋮</td></tr>\n",
       "\t<tr><td>2</td><td>FALSE</td><td>0.0</td><td>17</td></tr>\n",
       "\t<tr><td>2</td><td>FALSE</td><td>2.3</td><td>17</td></tr>\n",
       "\t<tr><td>4</td><td>TRUE </td><td>0.2</td><td>NA</td></tr>\n",
       "</tbody>\n",
       "</table>\n"
      ],
      "text/latex": [
       "A tibble: 196 × 4\n",
       "\\begin{tabular}{llll}\n",
       " experience & subscribe & played\\_hours & age\\\\\n",
       " <int> & <fct> & <dbl> & <int>\\\\\n",
       "\\hline\n",
       "\t 4 & TRUE  & 30.3 &  9\\\\\n",
       "\t 5 & TRUE  &  3.8 & 17\\\\\n",
       "\t 5 & FALSE &  0.0 & 17\\\\\n",
       "\t ⋮ & ⋮ & ⋮ & ⋮\\\\\n",
       "\t 2 & FALSE & 0.0 & 17\\\\\n",
       "\t 2 & FALSE & 2.3 & 17\\\\\n",
       "\t 4 & TRUE  & 0.2 & NA\\\\\n",
       "\\end{tabular}\n"
      ],
      "text/markdown": [
       "\n",
       "A tibble: 196 × 4\n",
       "\n",
       "| experience &lt;int&gt; | subscribe &lt;fct&gt; | played_hours &lt;dbl&gt; | age &lt;int&gt; |\n",
       "|---|---|---|---|\n",
       "| 4 | TRUE  | 30.3 |  9 |\n",
       "| 5 | TRUE  |  3.8 | 17 |\n",
       "| 5 | FALSE |  0.0 | 17 |\n",
       "| ⋮ | ⋮ | ⋮ | ⋮ |\n",
       "| 2 | FALSE | 0.0 | 17 |\n",
       "| 2 | FALSE | 2.3 | 17 |\n",
       "| 4 | TRUE  | 0.2 | NA |\n",
       "\n"
      ],
      "text/plain": [
       "    experience subscribe played_hours age\n",
       "1   4          TRUE      30.3          9 \n",
       "2   5          TRUE       3.8         17 \n",
       "3   5          FALSE      0.0         17 \n",
       "⋮   ⋮          ⋮         ⋮            ⋮  \n",
       "194 2          FALSE     0.0          17 \n",
       "195 2          FALSE     2.3          17 \n",
       "196 4          TRUE      0.2          NA "
      ]
     },
     "metadata": {},
     "output_type": "display_data"
    }
   ],
   "source": [
    "players_integers <- players_wrangled |>\n",
    "    mutate(experience = as.integer(experience))\n",
    "\n",
    "players_integers"
   ]
  },
  {
   "cell_type": "markdown",
   "id": "e7532de5-2eb8-464f-aad6-745770001ae9",
   "metadata": {},
   "source": [
    "**(2.5.03)** Dropping NAs (Since there's only two observations with NAs, this operation is applicable):"
   ]
  },
  {
   "cell_type": "code",
   "execution_count": 14,
   "id": "f6d0b876-9213-4b7b-8cab-083749fa62ee",
   "metadata": {
    "vscode": {
     "languageId": "r"
    }
   },
   "outputs": [
    {
     "data": {
      "text/html": [
       "<table class=\"dataframe\">\n",
       "<caption>A tibble: 194 × 4</caption>\n",
       "<thead>\n",
       "\t<tr><th scope=col>experience</th><th scope=col>subscribe</th><th scope=col>played_hours</th><th scope=col>age</th></tr>\n",
       "\t<tr><th scope=col>&lt;int&gt;</th><th scope=col>&lt;fct&gt;</th><th scope=col>&lt;dbl&gt;</th><th scope=col>&lt;int&gt;</th></tr>\n",
       "</thead>\n",
       "<tbody>\n",
       "\t<tr><td>4</td><td>TRUE </td><td>30.3</td><td> 9</td></tr>\n",
       "\t<tr><td>5</td><td>TRUE </td><td> 3.8</td><td>17</td></tr>\n",
       "\t<tr><td>5</td><td>FALSE</td><td> 0.0</td><td>17</td></tr>\n",
       "\t<tr><td>⋮</td><td>⋮</td><td>⋮</td><td>⋮</td></tr>\n",
       "\t<tr><td>5</td><td>FALSE</td><td>0.3</td><td>22</td></tr>\n",
       "\t<tr><td>2</td><td>FALSE</td><td>0.0</td><td>17</td></tr>\n",
       "\t<tr><td>2</td><td>FALSE</td><td>2.3</td><td>17</td></tr>\n",
       "</tbody>\n",
       "</table>\n"
      ],
      "text/latex": [
       "A tibble: 194 × 4\n",
       "\\begin{tabular}{llll}\n",
       " experience & subscribe & played\\_hours & age\\\\\n",
       " <int> & <fct> & <dbl> & <int>\\\\\n",
       "\\hline\n",
       "\t 4 & TRUE  & 30.3 &  9\\\\\n",
       "\t 5 & TRUE  &  3.8 & 17\\\\\n",
       "\t 5 & FALSE &  0.0 & 17\\\\\n",
       "\t ⋮ & ⋮ & ⋮ & ⋮\\\\\n",
       "\t 5 & FALSE & 0.3 & 22\\\\\n",
       "\t 2 & FALSE & 0.0 & 17\\\\\n",
       "\t 2 & FALSE & 2.3 & 17\\\\\n",
       "\\end{tabular}\n"
      ],
      "text/markdown": [
       "\n",
       "A tibble: 194 × 4\n",
       "\n",
       "| experience &lt;int&gt; | subscribe &lt;fct&gt; | played_hours &lt;dbl&gt; | age &lt;int&gt; |\n",
       "|---|---|---|---|\n",
       "| 4 | TRUE  | 30.3 |  9 |\n",
       "| 5 | TRUE  |  3.8 | 17 |\n",
       "| 5 | FALSE |  0.0 | 17 |\n",
       "| ⋮ | ⋮ | ⋮ | ⋮ |\n",
       "| 5 | FALSE | 0.3 | 22 |\n",
       "| 2 | FALSE | 0.0 | 17 |\n",
       "| 2 | FALSE | 2.3 | 17 |\n",
       "\n"
      ],
      "text/plain": [
       "    experience subscribe played_hours age\n",
       "1   4          TRUE      30.3          9 \n",
       "2   5          TRUE       3.8         17 \n",
       "3   5          FALSE      0.0         17 \n",
       "⋮   ⋮          ⋮         ⋮            ⋮  \n",
       "192 5          FALSE     0.3          22 \n",
       "193 2          FALSE     0.0          17 \n",
       "194 2          FALSE     2.3          17 "
      ]
     },
     "metadata": {},
     "output_type": "display_data"
    }
   ],
   "source": [
    "players <- players_integers |>\n",
    "    drop_na()\n",
    "\n",
    "players"
   ]
  },
  {
   "cell_type": "markdown",
   "id": "1b193b61-52f3-4819-880e-87020a8396a2",
   "metadata": {},
   "source": [
    "**(2.5.04)** Creating the initial split with stratification over `subscribe`:"
   ]
  },
  {
   "cell_type": "code",
   "execution_count": 15,
   "id": "4b5a18cb-f246-48b4-aa5f-431e344b6533",
   "metadata": {
    "vscode": {
     "languageId": "r"
    }
   },
   "outputs": [],
   "source": [
    "players_split <- players |>\n",
    "    initial_split(prop = 0.75, strata = subscribe)\n",
    "\n",
    "players_training <- training(players_split)\n",
    "players_testing <- testing(players_split)"
   ]
  },
  {
   "cell_type": "markdown",
   "id": "37dad665-ac11-4f2c-989a-1a81d2555039",
   "metadata": {},
   "source": [
    "**(2.5.05)** Creating recipies for each subset with centering, scaling and upsampling (balance):"
   ]
  },
  {
   "cell_type": "code",
   "execution_count": 16,
   "id": "b5b25873-ada3-4c5b-ba9e-46a110a42a8d",
   "metadata": {
    "vscode": {
     "languageId": "r"
    }
   },
   "outputs": [],
   "source": [
    "exp_recipe <- recipe(subscribe ~ experience, data = players_training) |>\n",
    "    step_scale(all_predictors()) |>\n",
    "    step_center(all_predictors()) |>\n",
    "    step_upsample(subscribe, over_ratio = 1, skip = FALSE)\n",
    "\n",
    "hrs_recipe <- recipe(subscribe ~ played_hours, data = players_training) |>\n",
    "    step_scale(all_predictors()) |>\n",
    "    step_center(all_predictors()) |>\n",
    "    step_upsample(subscribe, over_ratio = 1, skip = FALSE)\n",
    "\n",
    "age_recipe <- recipe(subscribe ~ age, data = players_training) |>\n",
    "    step_scale(all_predictors()) |>\n",
    "    step_center(all_predictors()) |>\n",
    "    step_upsample(subscribe, over_ratio = 1, skip = FALSE)\n",
    "\n",
    "exp_hrs_recipe <- recipe(subscribe ~ experience + played_hours, data = players_training) |>\n",
    "    step_scale(all_predictors()) |>\n",
    "    step_center(all_predictors()) |>\n",
    "    step_upsample(subscribe, over_ratio = 1, skip = FALSE)\n",
    "\n",
    "exp_age_recipe <- recipe(subscribe ~ experience + age, data = players_training) |>\n",
    "    step_scale(all_predictors()) |>\n",
    "    step_center(all_predictors()) |>\n",
    "    step_upsample(subscribe, over_ratio = 1, skip = FALSE)\n",
    "\n",
    "hrs_age_recipe <- recipe(subscribe ~ played_hours + age, data = players_training) |>\n",
    "    step_scale(all_predictors()) |>\n",
    "    step_center(all_predictors()) |>\n",
    "    step_upsample(subscribe, over_ratio = 1, skip = FALSE)\n",
    "\n",
    "exp_hrs_age_recipe <- recipe(subscribe ~ ., data = players_training) |>\n",
    "    step_scale(all_predictors()) |>\n",
    "    step_center(all_predictors()) |>\n",
    "    step_upsample(subscribe, over_ratio = 1, skip = FALSE)"
   ]
  },
  {
   "cell_type": "markdown",
   "id": "54a0c98f-d46d-477b-8e84-2262f5e17824",
   "metadata": {},
   "source": [
    "**(2.5.06)** Tuning model specification:"
   ]
  },
  {
   "cell_type": "code",
   "execution_count": 17,
   "id": "05c4070d-9d51-4095-a2b5-5e2e147a18b2",
   "metadata": {
    "vscode": {
     "languageId": "r"
    }
   },
   "outputs": [
    {
     "data": {
      "text/plain": [
       "K-Nearest Neighbor Model Specification (classification)\n",
       "\n",
       "Main Arguments:\n",
       "  neighbors = tune()\n",
       "  weight_func = rectangular\n",
       "\n",
       "Computational engine: kknn \n"
      ]
     },
     "metadata": {},
     "output_type": "display_data"
    }
   ],
   "source": [
    "knn_tune <- nearest_neighbor(weight_func = \"rectangular\", neighbors = tune()) |>\n",
    "    set_engine(\"kknn\") |>\n",
    "    set_mode(\"classification\")\n",
    "\n",
    "knn_tune"
   ]
  },
  {
   "cell_type": "markdown",
   "id": "d4357c53-f1fa-448d-af4b-10d06c51be5f",
   "metadata": {},
   "source": [
    "**(2.5.07)** 5-fold cross-validation specification:"
   ]
  },
  {
   "cell_type": "code",
   "execution_count": 18,
   "id": "38c71ac1-cd7d-402e-a809-bc9dd878b2e1",
   "metadata": {
    "vscode": {
     "languageId": "r"
    }
   },
   "outputs": [
    {
     "name": "stderr",
     "output_type": "stream",
     "text": [
      "Warning message:\n",
      "\"`optional` is kept for consistency with the underlying class but TRUE values will be ignored.\"\n",
      "Warning message:\n",
      "\"`optional` is kept for consistency with the underlying class but TRUE values will be ignored.\"\n",
      "Warning message:\n",
      "\"`optional` is kept for consistency with the underlying class but TRUE values will be ignored.\"\n",
      "Warning message:\n",
      "\"`optional` is kept for consistency with the underlying class but TRUE values will be ignored.\"\n",
      "Warning message:\n",
      "\"`optional` is kept for consistency with the underlying class but TRUE values will be ignored.\"\n",
      "ERROR while rich displaying an object: Error in (function (..., row.names = NULL, check.rows = FALSE, check.names = TRUE, : arguments imply differing number of rows: 115, 116, 117\n",
      "\n",
      "Traceback:\n",
      "1. sapply(x, f, simplify = simplify)\n",
      "2. lapply(X = X, FUN = FUN, ...)\n",
      "3. FUN(X[[i]], ...)\n",
      "4. tryCatch(withCallingHandlers({\n",
      " .     if (!mime %in% names(repr::mime2repr)) \n",
      " .         stop(\"No repr_* for mimetype \", mime, \" in repr::mime2repr\")\n",
      " .     rpr <- repr::mime2repr[[mime]](obj)\n",
      " .     if (is.null(rpr)) \n",
      " .         return(NULL)\n",
      " .     prepare_content(is.raw(rpr), rpr)\n",
      " . }, error = error_handler), error = outer_handler)\n",
      "5. tryCatchList(expr, classes, parentenv, handlers)\n",
      "6. tryCatchOne(expr, names, parentenv, handlers[[1L]])\n",
      "7. doTryCatch(return(expr), name, parentenv, handler)\n",
      "8. withCallingHandlers({\n",
      " .     if (!mime %in% names(repr::mime2repr)) \n",
      " .         stop(\"No repr_* for mimetype \", mime, \" in repr::mime2repr\")\n",
      " .     rpr <- repr::mime2repr[[mime]](obj)\n",
      " .     if (is.null(rpr)) \n",
      " .         return(NULL)\n",
      " .     prepare_content(is.raw(rpr), rpr)\n",
      " . }, error = error_handler)\n",
      "9. repr::mime2repr[[mime]](obj)\n",
      "10. repr_text.data.frame(obj)\n",
      "11. ellip_limit_arr(obj, rows, cols)\n",
      "12. arr_parts_format(parts)\n",
      "13. structure(lapply(parts, arr_part_format), omit = attr(parts, \n",
      "  .     \"omit\"))\n",
      "14. lapply(parts, arr_part_format)\n",
      "15. FUN(X[[i]], ...)\n",
      "16. arr_part_unpack_tbl(part)\n",
      "17. mapply(tbl_col_format, tbl, names(tbl), SIMPLIFY = FALSE, USE.NAMES = FALSE)\n",
      "18. (function (col, prefix = \"\") \n",
      "  . {\n",
      "  .     if (is.data.frame(col)) {\n",
      "  .         res <- mapply(tbl_col_format, col, names(col), SIMPLIFY = FALSE, \n",
      "  .             USE.NAMES = FALSE)\n",
      "  .         res <- do.call(cbind.data.frame, res)\n",
      "  .         names(res) <- paste0(prefix, \"$\", names(res))\n",
      "  .         return(res)\n",
      "  .     }\n",
      "  .     else {\n",
      "  .         res <- data.frame(col)\n",
      "  .         names(res) <- prefix\n",
      "  .         return(res)\n",
      "  .     }\n",
      "  . })(dots[[1L]][[1L]], dots[[2L]][[1L]])\n",
      "19. data.frame(col)\n",
      "20. as.data.frame(x[[i]], optional = TRUE, stringsAsFactors = stringsAsFactors)\n",
      "21. as.data.frame.list(x[[i]], optional = TRUE, stringsAsFactors = stringsAsFactors)\n",
      "22. do.call(data.frame, c(x, alis))\n",
      "23. (function (..., row.names = NULL, check.rows = FALSE, check.names = TRUE, \n",
      "  .     fix.empty.names = TRUE, stringsAsFactors = FALSE) \n",
      "  . {\n",
      "  .     data.row.names <- if (check.rows && is.null(row.names)) \n",
      "  .         function(current, new, i) {\n",
      "  .             if (is.character(current)) \n",
      "  .                 new <- as.character(new)\n",
      "  .             if (is.character(new)) \n",
      "  .                 current <- as.character(current)\n",
      "  .             if (anyDuplicated(new)) \n",
      "  .                 return(current)\n",
      "  .             if (is.null(current)) \n",
      "  .                 return(new)\n",
      "  .             if (all(current == new) || all(current == \"\")) \n",
      "  .                 return(new)\n",
      "  .             stop(gettextf(\"mismatch of row names in arguments of 'data.frame', item %d\", \n",
      "  .                 i), domain = NA)\n",
      "  .         }\n",
      "  .     else function(current, new, i) {\n",
      "  .         current %||% if (anyDuplicated(new)) {\n",
      "  .             warning(gettextf(\"some row.names duplicated: %s --> row.names NOT used\", \n",
      "  .                 paste(which(duplicated(new)), collapse = \",\")), \n",
      "  .                 domain = NA)\n",
      "  .             current\n",
      "  .         }\n",
      "  .         else new\n",
      "  .     }\n",
      "  .     object <- as.list(substitute(list(...)))[-1L]\n",
      "  .     mirn <- missing(row.names)\n",
      "  .     mrn <- is.null(row.names)\n",
      "  .     x <- list(...)\n",
      "  .     n <- length(x)\n",
      "  .     if (n < 1L) {\n",
      "  .         if (!mrn) {\n",
      "  .             if (is.object(row.names) || !is.integer(row.names)) \n",
      "  .                 row.names <- as.character(row.names)\n",
      "  .             if (anyNA(row.names)) \n",
      "  .                 stop(\"row names contain missing values\")\n",
      "  .             if (anyDuplicated(row.names)) \n",
      "  .                 stop(gettextf(\"duplicate row.names: %s\", paste(unique(row.names[duplicated(row.names)]), \n",
      "  .                   collapse = \", \")), domain = NA)\n",
      "  .         }\n",
      "  .         else row.names <- integer()\n",
      "  .         return(structure(list(), names = character(), row.names = row.names, \n",
      "  .             class = \"data.frame\"))\n",
      "  .     }\n",
      "  .     vnames <- names(x)\n",
      "  .     if (length(vnames) != n) \n",
      "  .         vnames <- character(n)\n",
      "  .     no.vn <- !nzchar(vnames)\n",
      "  .     vlist <- vnames <- as.list(vnames)\n",
      "  .     nrows <- ncols <- integer(n)\n",
      "  .     for (i in seq_len(n)) {\n",
      "  .         xi <- if (is.character(x[[i]]) || is.list(x[[i]])) \n",
      "  .             as.data.frame(x[[i]], optional = TRUE, stringsAsFactors = stringsAsFactors)\n",
      "  .         else as.data.frame(x[[i]], optional = TRUE)\n",
      "  .         nrows[i] <- .row_names_info(xi)\n",
      "  .         ncols[i] <- length(xi)\n",
      "  .         namesi <- names(xi)\n",
      "  .         if (ncols[i] > 1L) {\n",
      "  .             if (length(namesi) == 0L) \n",
      "  .                 namesi <- seq_len(ncols[i])\n",
      "  .             vnames[[i]] <- if (no.vn[i]) \n",
      "  .                 namesi\n",
      "  .             else paste(vnames[[i]], namesi, sep = \".\")\n",
      "  .         }\n",
      "  .         else if (length(namesi)) {\n",
      "  .             vnames[[i]] <- namesi\n",
      "  .         }\n",
      "  .         else if (fix.empty.names && no.vn[[i]]) {\n",
      "  .             tmpname <- deparse(object[[i]], nlines = 1L)[1L]\n",
      "  .             if (startsWith(tmpname, \"I(\") && endsWith(tmpname, \n",
      "  .                 \")\")) {\n",
      "  .                 ntmpn <- nchar(tmpname, \"c\")\n",
      "  .                 tmpname <- substr(tmpname, 3L, ntmpn - 1L)\n",
      "  .             }\n",
      "  .             vnames[[i]] <- tmpname\n",
      "  .         }\n",
      "  .         if (mirn && nrows[i] > 0L) {\n",
      "  .             rowsi <- attr(xi, \"row.names\")\n",
      "  .             if (any(nzchar(rowsi))) \n",
      "  .                 row.names <- data.row.names(row.names, rowsi, \n",
      "  .                   i)\n",
      "  .         }\n",
      "  .         nrows[i] <- abs(nrows[i])\n",
      "  .         vlist[[i]] <- xi\n",
      "  .     }\n",
      "  .     nr <- max(nrows)\n",
      "  .     for (i in seq_len(n)[nrows < nr]) {\n",
      "  .         xi <- vlist[[i]]\n",
      "  .         if (nrows[i] > 0L && (nr%%nrows[i] == 0L)) {\n",
      "  .             xi <- unclass(xi)\n",
      "  .             fixed <- TRUE\n",
      "  .             for (j in seq_along(xi)) {\n",
      "  .                 xi1 <- xi[[j]]\n",
      "  .                 if (is.vector(xi1) || is.factor(xi1)) \n",
      "  .                   xi[[j]] <- rep(xi1, length.out = nr)\n",
      "  .                 else if (is.character(xi1) && inherits(xi1, \"AsIs\")) \n",
      "  .                   xi[[j]] <- structure(rep(xi1, length.out = nr), \n",
      "  .                     class = class(xi1))\n",
      "  .                 else if (inherits(xi1, \"Date\") || inherits(xi1, \n",
      "  .                   \"POSIXct\")) \n",
      "  .                   xi[[j]] <- rep(xi1, length.out = nr)\n",
      "  .                 else {\n",
      "  .                   fixed <- FALSE\n",
      "  .                   break\n",
      "  .                 }\n",
      "  .             }\n",
      "  .             if (fixed) {\n",
      "  .                 vlist[[i]] <- xi\n",
      "  .                 next\n",
      "  .             }\n",
      "  .         }\n",
      "  .         stop(gettextf(\"arguments imply differing number of rows: %s\", \n",
      "  .             paste(unique(nrows), collapse = \", \")), domain = NA)\n",
      "  .     }\n",
      "  .     value <- unlist(vlist, recursive = FALSE, use.names = FALSE)\n",
      "  .     vnames <- as.character(unlist(vnames[ncols > 0L]))\n",
      "  .     if (fix.empty.names && any(noname <- !nzchar(vnames))) \n",
      "  .         vnames[noname] <- paste0(\"Var.\", seq_along(vnames))[noname]\n",
      "  .     if (check.names) {\n",
      "  .         if (fix.empty.names) \n",
      "  .             vnames <- make.names(vnames, unique = TRUE)\n",
      "  .         else {\n",
      "  .             nz <- nzchar(vnames)\n",
      "  .             vnames[nz] <- make.names(vnames[nz], unique = TRUE)\n",
      "  .         }\n",
      "  .     }\n",
      "  .     names(value) <- vnames\n",
      "  .     if (!mrn) {\n",
      "  .         if (length(row.names) == 1L && nr != 1L) {\n",
      "  .             if (is.character(row.names)) \n",
      "  .                 row.names <- match(row.names, vnames, 0L)\n",
      "  .             if (length(row.names) != 1L || row.names < 1L || \n",
      "  .                 row.names > length(vnames)) \n",
      "  .                 stop(\"'row.names' should specify one of the variables\")\n",
      "  .             i <- row.names\n",
      "  .             row.names <- value[[i]]\n",
      "  .             value <- value[-i]\n",
      "  .         }\n",
      "  .         else if (!is.null(row.names) && length(row.names) != \n",
      "  .             nr) \n",
      "  .             stop(\"row names supplied are of the wrong length\")\n",
      "  .     }\n",
      "  .     else if (!is.null(row.names) && length(row.names) != nr) {\n",
      "  .         warning(\"row names were found from a short variable and have been discarded\")\n",
      "  .         row.names <- NULL\n",
      "  .     }\n",
      "  .     class(value) <- \"data.frame\"\n",
      "  .     if (is.null(row.names)) \n",
      "  .         attr(value, \"row.names\") <- .set_row_names(nr)\n",
      "  .     else {\n",
      "  .         if (is.object(row.names) || !is.integer(row.names)) \n",
      "  .             row.names <- as.character(row.names)\n",
      "  .         if (anyNA(row.names)) \n",
      "  .             stop(\"row names contain missing values\")\n",
      "  .         if (anyDuplicated(row.names)) \n",
      "  .             stop(gettextf(\"duplicate row.names: %s\", paste(unique(row.names[duplicated(row.names)]), \n",
      "  .                 collapse = \", \")), domain = NA)\n",
      "  .         row.names(value) <- row.names\n",
      "  .     }\n",
      "  .     value\n",
      "  . })(structure(list(data = structure(list(experience = c(2L, 2L, \n",
      "  . 5L, 2L, 5L, 1L, 3L, 1L, 5L, 2L, 2L, 3L, 5L, 2L, 3L, 5L, 5L, 1L, \n",
      "  . 5L, 5L, 1L, 2L, 3L, 3L, 5L, 2L, 2L, 1L, 5L, 4L, 4L, 5L, 2L, 4L, \n",
      "  . 4L, 3L, 2L, 5L, 2L, 4L, 5L, 2L, 2L, 3L, 2L, 5L, 4L, 1L, 2L, 3L, \n",
      "  . 3L, 1L, 2L, 3L, 2L, 2L, 2L, 1L, 5L, 2L, 5L, 2L, 3L, 5L, 2L, 5L, \n",
      "  . 5L, 5L, 1L, 5L, 3L, 2L, 3L, 2L, 3L, 5L, 5L, 4L, 2L, 5L, 3L, 3L, \n",
      "  . 5L, 2L, 3L, 3L, 2L, 5L, 5L, 1L, 1L, 1L, 2L, 1L, 4L, 2L, 1L, 2L, \n",
      "  . 4L, 2L, 2L, 5L, 1L, 3L, 2L, 2L, 5L, 1L, 3L, 1L, 4L, 1L, 1L, 2L, \n",
      "  . 2L, 2L, 1L, 5L, 3L, 5L, 5L, 5L, 3L, 1L, 5L, 4L, 5L, 2L, 1L, 1L, \n",
      "  . 2L, 3L, 1L, 1L, 4L, 3L, 5L, 2L, 5L, 2L, 2L, 5L, 2L, 1L, 2L), \n",
      "  .     subscribe = structure(c(1L, 1L, 1L, 1L, 1L, 1L, 1L, 1L, 1L, \n",
      "  .     1L, 1L, 1L, 1L, 1L, 1L, 1L, 1L, 1L, 1L, 1L, 1L, 1L, 1L, 1L, \n",
      "  .     1L, 1L, 1L, 1L, 1L, 1L, 1L, 1L, 1L, 1L, 1L, 1L, 1L, 1L, 1L, \n",
      "  .     2L, 2L, 2L, 2L, 2L, 2L, 2L, 2L, 2L, 2L, 2L, 2L, 2L, 2L, 2L, \n",
      "  .     2L, 2L, 2L, 2L, 2L, 2L, 2L, 2L, 2L, 2L, 2L, 2L, 2L, 2L, 2L, \n",
      "  .     2L, 2L, 2L, 2L, 2L, 2L, 2L, 2L, 2L, 2L, 2L, 2L, 2L, 2L, 2L, \n",
      "  .     2L, 2L, 2L, 2L, 2L, 2L, 2L, 2L, 2L, 2L, 2L, 2L, 2L, 2L, 2L, \n",
      "  .     2L, 2L, 2L, 2L, 2L, 2L, 2L, 2L, 2L, 2L, 2L, 2L, 2L, 2L, 2L, \n",
      "  .     2L, 2L, 2L, 2L, 2L, 2L, 2L, 2L, 2L, 2L, 2L, 2L, 2L, 2L, 2L, \n",
      "  .     2L, 2L, 2L, 2L, 2L, 2L, 2L, 2L, 2L, 2L, 2L, 2L, 2L, 2L, 2L, \n",
      "  .     2L), levels = c(\"FALSE\", \"TRUE\"), class = \"factor\"), played_hours = c(0, \n",
      "  .     0.1, 0.1, 0, 1.4, 0, 0, 0, 0.1, 0, 0, 0, 0.1, 0, 0, 2.7, \n",
      "  .     0, 0, 0, 0, 7.1, 0, 0.1, 0, 0.1, 0, 1, 0.3, 0.1, 0.4, 0, \n",
      "  .     2.7, 2.1, 0.2, 1.7, 0.1, 0, 0.3, 2.3, 30.3, 3.8, 0.7, 0, \n",
      "  .     0, 0.1, 0, 0, 1.5, 48.4, 0.6, 0.3, 1, 0.7, 0, 1.8, 0.1, 0, \n",
      "  .     0.6, 0.4, 0.2, 0, 0, 5.6, 0.1, 0.3, 0, 2.2, 0.1, 0.4, 0.6, \n",
      "  .     218.1, 0.2, 0, 2.9, 3.6, 0.2, 0, 1, 0.1, 0.1, 0.1, 0, 0, \n",
      "  .     0.5, 0, 0, 0, 0, 1, 0, 0.1, 0, 150, 0, 1.2, 0.1, 0.8, 0.1, \n",
      "  .     0.5, 0, 0, 0, 2, 0, 0.1, 0, 0.4, 1, 0.1, 0, 0.1, 0.1, 0, \n",
      "  .     0, 0, 56.1, 0, 0, 0, 0, 0, 0, 0, 1, 0.1, 0, 0, 0, 0.2, 0.1, \n",
      "  .     1.2, 178.2, 0, 0, 0.6, 0.1, 0.1, 0.3, 0.1, 0.8, 32, 0.1, \n",
      "  .     0, 0, 0), age = c(22L, 17L, 18L, 33L, 25L, 24L, 23L, 42L, \n",
      "  .     22L, 21L, 23L, 17L, 18L, 26L, 23L, 22L, 20L, 17L, 20L, 46L, \n",
      "  .     17L, 23L, 17L, 18L, 19L, 17L, 26L, 17L, 17L, 21L, 17L, 21L, \n",
      "  .     24L, 17L, 17L, 18L, 17L, 22L, 17L, 9L, 17L, 21L, 17L, 19L, \n",
      "  .     17L, 22L, 17L, 25L, 17L, 19L, 8L, 17L, 21L, 17L, 23L, 23L, \n",
      "  .     17L, 26L, 20L, 17L, 17L, 17L, 17L, 17L, 24L, 21L, 24L, 17L, \n",
      "  .     22L, 21L, 20L, 27L, 20L, 11L, 10L, 38L, 17L, 17L, 23L, 21L, \n",
      "  .     15L, 21L, 17L, 21L, 17L, 22L, 26L, 17L, 17L, 17L, 17L, 23L, \n",
      "  .     16L, 17L, 17L, 17L, 22L, 19L, 12L, 20L, 17L, 24L, 27L, 17L, \n",
      "  .     17L, 22L, 18L, 17L, 24L, 23L, 15L, 24L, 17L, 21L, 17L, 23L, \n",
      "  .     17L, 21L, 20L, 17L, 17L, 20L, 20L, 17L, 16L, 25L, 18L, 17L, \n",
      "  .     17L, 17L, 17L, 19L, 22L, 24L, 19L, 21L, 17L, 17L, 17L, 22L, \n",
      "  .     22L, 44L, 17L, 17L, 17L)), row.names = c(NA, -145L), class = c(\"tbl_df\", \n",
      "  . \"tbl\", \"data.frame\")), in_id = c(1L, 2L, 5L, 6L, 7L, 8L, 9L, \n",
      "  . 10L, 11L, 12L, 13L, 15L, 16L, 17L, 18L, 19L, 20L, 21L, 22L, 24L, \n",
      "  . 25L, 26L, 28L, 29L, 30L, 32L, 33L, 35L, 36L, 37L, 38L, 40L, 41L, \n",
      "  . 42L, 43L, 44L, 45L, 46L, 48L, 49L, 50L, 52L, 53L, 54L, 55L, 56L, \n",
      "  . 58L, 59L, 61L, 62L, 64L, 65L, 66L, 67L, 68L, 70L, 71L, 73L, 74L, \n",
      "  . 75L, 76L, 77L, 78L, 79L, 80L, 81L, 82L, 84L, 86L, 87L, 88L, 89L, \n",
      "  . 90L, 91L, 92L, 94L, 95L, 96L, 98L, 99L, 101L, 102L, 103L, 104L, \n",
      "  . 106L, 107L, 109L, 110L, 111L, 113L, 114L, 115L, 116L, 118L, 119L, \n",
      "  . 120L, 122L, 123L, 124L, 125L, 126L, 128L, 129L, 132L, 134L, 135L, \n",
      "  . 136L, 137L, 138L, 139L, 140L, 141L, 142L, 143L, 144L), out_id = NA, \n",
      "  .     id = structure(list(id = \"Fold1\"), row.names = c(NA, -1L), class = c(\"tbl_df\", \n",
      "  .     \"tbl\", \"data.frame\"))), class = c(\"vfold_split\", \"rsplit\"\n",
      "  . )), structure(list(data = structure(list(experience = c(2L, 2L, \n",
      "  . 5L, 2L, 5L, 1L, 3L, 1L, 5L, 2L, 2L, 3L, 5L, 2L, 3L, 5L, 5L, 1L, \n",
      "  . 5L, 5L, 1L, 2L, 3L, 3L, 5L, 2L, 2L, 1L, 5L, 4L, 4L, 5L, 2L, 4L, \n",
      "  . 4L, 3L, 2L, 5L, 2L, 4L, 5L, 2L, 2L, 3L, 2L, 5L, 4L, 1L, 2L, 3L, \n",
      "  . 3L, 1L, 2L, 3L, 2L, 2L, 2L, 1L, 5L, 2L, 5L, 2L, 3L, 5L, 2L, 5L, \n",
      "  . 5L, 5L, 1L, 5L, 3L, 2L, 3L, 2L, 3L, 5L, 5L, 4L, 2L, 5L, 3L, 3L, \n",
      "  . 5L, 2L, 3L, 3L, 2L, 5L, 5L, 1L, 1L, 1L, 2L, 1L, 4L, 2L, 1L, 2L, \n",
      "  . 4L, 2L, 2L, 5L, 1L, 3L, 2L, 2L, 5L, 1L, 3L, 1L, 4L, 1L, 1L, 2L, \n",
      "  . 2L, 2L, 1L, 5L, 3L, 5L, 5L, 5L, 3L, 1L, 5L, 4L, 5L, 2L, 1L, 1L, \n",
      "  . 2L, 3L, 1L, 1L, 4L, 3L, 5L, 2L, 5L, 2L, 2L, 5L, 2L, 1L, 2L), \n",
      "  .     subscribe = structure(c(1L, 1L, 1L, 1L, 1L, 1L, 1L, 1L, 1L, \n",
      "  .     1L, 1L, 1L, 1L, 1L, 1L, 1L, 1L, 1L, 1L, 1L, 1L, 1L, 1L, 1L, \n",
      "  .     1L, 1L, 1L, 1L, 1L, 1L, 1L, 1L, 1L, 1L, 1L, 1L, 1L, 1L, 1L, \n",
      "  .     2L, 2L, 2L, 2L, 2L, 2L, 2L, 2L, 2L, 2L, 2L, 2L, 2L, 2L, 2L, \n",
      "  .     2L, 2L, 2L, 2L, 2L, 2L, 2L, 2L, 2L, 2L, 2L, 2L, 2L, 2L, 2L, \n",
      "  .     2L, 2L, 2L, 2L, 2L, 2L, 2L, 2L, 2L, 2L, 2L, 2L, 2L, 2L, 2L, \n",
      "  .     2L, 2L, 2L, 2L, 2L, 2L, 2L, 2L, 2L, 2L, 2L, 2L, 2L, 2L, 2L, \n",
      "  .     2L, 2L, 2L, 2L, 2L, 2L, 2L, 2L, 2L, 2L, 2L, 2L, 2L, 2L, 2L, \n",
      "  .     2L, 2L, 2L, 2L, 2L, 2L, 2L, 2L, 2L, 2L, 2L, 2L, 2L, 2L, 2L, \n",
      "  .     2L, 2L, 2L, 2L, 2L, 2L, 2L, 2L, 2L, 2L, 2L, 2L, 2L, 2L, 2L, \n",
      "  .     2L), levels = c(\"FALSE\", \"TRUE\"), class = \"factor\"), played_hours = c(0, \n",
      "  .     0.1, 0.1, 0, 1.4, 0, 0, 0, 0.1, 0, 0, 0, 0.1, 0, 0, 2.7, \n",
      "  .     0, 0, 0, 0, 7.1, 0, 0.1, 0, 0.1, 0, 1, 0.3, 0.1, 0.4, 0, \n",
      "  .     2.7, 2.1, 0.2, 1.7, 0.1, 0, 0.3, 2.3, 30.3, 3.8, 0.7, 0, \n",
      "  .     0, 0.1, 0, 0, 1.5, 48.4, 0.6, 0.3, 1, 0.7, 0, 1.8, 0.1, 0, \n",
      "  .     0.6, 0.4, 0.2, 0, 0, 5.6, 0.1, 0.3, 0, 2.2, 0.1, 0.4, 0.6, \n",
      "  .     218.1, 0.2, 0, 2.9, 3.6, 0.2, 0, 1, 0.1, 0.1, 0.1, 0, 0, \n",
      "  .     0.5, 0, 0, 0, 0, 1, 0, 0.1, 0, 150, 0, 1.2, 0.1, 0.8, 0.1, \n",
      "  .     0.5, 0, 0, 0, 2, 0, 0.1, 0, 0.4, 1, 0.1, 0, 0.1, 0.1, 0, \n",
      "  .     0, 0, 56.1, 0, 0, 0, 0, 0, 0, 0, 1, 0.1, 0, 0, 0, 0.2, 0.1, \n",
      "  .     1.2, 178.2, 0, 0, 0.6, 0.1, 0.1, 0.3, 0.1, 0.8, 32, 0.1, \n",
      "  .     0, 0, 0), age = c(22L, 17L, 18L, 33L, 25L, 24L, 23L, 42L, \n",
      "  .     22L, 21L, 23L, 17L, 18L, 26L, 23L, 22L, 20L, 17L, 20L, 46L, \n",
      "  .     17L, 23L, 17L, 18L, 19L, 17L, 26L, 17L, 17L, 21L, 17L, 21L, \n",
      "  .     24L, 17L, 17L, 18L, 17L, 22L, 17L, 9L, 17L, 21L, 17L, 19L, \n",
      "  .     17L, 22L, 17L, 25L, 17L, 19L, 8L, 17L, 21L, 17L, 23L, 23L, \n",
      "  .     17L, 26L, 20L, 17L, 17L, 17L, 17L, 17L, 24L, 21L, 24L, 17L, \n",
      "  .     22L, 21L, 20L, 27L, 20L, 11L, 10L, 38L, 17L, 17L, 23L, 21L, \n",
      "  .     15L, 21L, 17L, 21L, 17L, 22L, 26L, 17L, 17L, 17L, 17L, 23L, \n",
      "  .     16L, 17L, 17L, 17L, 22L, 19L, 12L, 20L, 17L, 24L, 27L, 17L, \n",
      "  .     17L, 22L, 18L, 17L, 24L, 23L, 15L, 24L, 17L, 21L, 17L, 23L, \n",
      "  .     17L, 21L, 20L, 17L, 17L, 20L, 20L, 17L, 16L, 25L, 18L, 17L, \n",
      "  .     17L, 17L, 17L, 19L, 22L, 24L, 19L, 21L, 17L, 17L, 17L, 22L, \n",
      "  .     22L, 44L, 17L, 17L, 17L)), row.names = c(NA, -145L), class = c(\"tbl_df\", \n",
      "  . \"tbl\", \"data.frame\")), in_id = c(1L, 2L, 3L, 4L, 5L, 6L, 8L, \n",
      "  . 11L, 12L, 13L, 14L, 15L, 16L, 17L, 18L, 19L, 20L, 21L, 23L, 24L, \n",
      "  . 26L, 27L, 28L, 30L, 31L, 32L, 34L, 35L, 36L, 38L, 39L, 40L, 42L, \n",
      "  . 44L, 45L, 47L, 48L, 49L, 50L, 51L, 52L, 53L, 54L, 55L, 57L, 58L, \n",
      "  . 60L, 61L, 62L, 63L, 64L, 66L, 67L, 69L, 70L, 71L, 72L, 74L, 75L, \n",
      "  . 76L, 77L, 78L, 79L, 80L, 81L, 82L, 83L, 84L, 85L, 87L, 88L, 89L, \n",
      "  . 90L, 91L, 92L, 93L, 95L, 96L, 97L, 98L, 99L, 100L, 104L, 105L, \n",
      "  . 106L, 107L, 108L, 109L, 110L, 111L, 112L, 113L, 114L, 116L, 117L, \n",
      "  . 120L, 121L, 122L, 123L, 125L, 126L, 127L, 128L, 129L, 130L, 131L, \n",
      "  . 132L, 133L, 135L, 136L, 137L, 139L, 140L, 141L, 144L, 145L), \n",
      "  .     out_id = NA, id = structure(list(id = \"Fold2\"), row.names = c(NA, \n",
      "  .     -1L), class = c(\"tbl_df\", \"tbl\", \"data.frame\"))), class = c(\"vfold_split\", \n",
      "  . \"rsplit\")), structure(list(data = structure(list(experience = c(2L, \n",
      "  . 2L, 5L, 2L, 5L, 1L, 3L, 1L, 5L, 2L, 2L, 3L, 5L, 2L, 3L, 5L, 5L, \n",
      "  . 1L, 5L, 5L, 1L, 2L, 3L, 3L, 5L, 2L, 2L, 1L, 5L, 4L, 4L, 5L, 2L, \n",
      "  . 4L, 4L, 3L, 2L, 5L, 2L, 4L, 5L, 2L, 2L, 3L, 2L, 5L, 4L, 1L, 2L, \n",
      "  . 3L, 3L, 1L, 2L, 3L, 2L, 2L, 2L, 1L, 5L, 2L, 5L, 2L, 3L, 5L, 2L, \n",
      "  . 5L, 5L, 5L, 1L, 5L, 3L, 2L, 3L, 2L, 3L, 5L, 5L, 4L, 2L, 5L, 3L, \n",
      "  . 3L, 5L, 2L, 3L, 3L, 2L, 5L, 5L, 1L, 1L, 1L, 2L, 1L, 4L, 2L, 1L, \n",
      "  . 2L, 4L, 2L, 2L, 5L, 1L, 3L, 2L, 2L, 5L, 1L, 3L, 1L, 4L, 1L, 1L, \n",
      "  . 2L, 2L, 2L, 1L, 5L, 3L, 5L, 5L, 5L, 3L, 1L, 5L, 4L, 5L, 2L, 1L, \n",
      "  . 1L, 2L, 3L, 1L, 1L, 4L, 3L, 5L, 2L, 5L, 2L, 2L, 5L, 2L, 1L, 2L\n",
      "  . ), subscribe = structure(c(1L, 1L, 1L, 1L, 1L, 1L, 1L, 1L, 1L, \n",
      "  . 1L, 1L, 1L, 1L, 1L, 1L, 1L, 1L, 1L, 1L, 1L, 1L, 1L, 1L, 1L, 1L, \n",
      "  . 1L, 1L, 1L, 1L, 1L, 1L, 1L, 1L, 1L, 1L, 1L, 1L, 1L, 1L, 2L, 2L, \n",
      "  . 2L, 2L, 2L, 2L, 2L, 2L, 2L, 2L, 2L, 2L, 2L, 2L, 2L, 2L, 2L, 2L, \n",
      "  . 2L, 2L, 2L, 2L, 2L, 2L, 2L, 2L, 2L, 2L, 2L, 2L, 2L, 2L, 2L, 2L, \n",
      "  . 2L, 2L, 2L, 2L, 2L, 2L, 2L, 2L, 2L, 2L, 2L, 2L, 2L, 2L, 2L, 2L, \n",
      "  . 2L, 2L, 2L, 2L, 2L, 2L, 2L, 2L, 2L, 2L, 2L, 2L, 2L, 2L, 2L, 2L, \n",
      "  . 2L, 2L, 2L, 2L, 2L, 2L, 2L, 2L, 2L, 2L, 2L, 2L, 2L, 2L, 2L, 2L, \n",
      "  . 2L, 2L, 2L, 2L, 2L, 2L, 2L, 2L, 2L, 2L, 2L, 2L, 2L, 2L, 2L, 2L, \n",
      "  . 2L, 2L, 2L, 2L, 2L, 2L, 2L, 2L), levels = c(\"FALSE\", \"TRUE\"), class = \"factor\"), \n",
      "  .     played_hours = c(0, 0.1, 0.1, 0, 1.4, 0, 0, 0, 0.1, 0, 0, \n",
      "  .     0, 0.1, 0, 0, 2.7, 0, 0, 0, 0, 7.1, 0, 0.1, 0, 0.1, 0, 1, \n",
      "  .     0.3, 0.1, 0.4, 0, 2.7, 2.1, 0.2, 1.7, 0.1, 0, 0.3, 2.3, 30.3, \n",
      "  .     3.8, 0.7, 0, 0, 0.1, 0, 0, 1.5, 48.4, 0.6, 0.3, 1, 0.7, 0, \n",
      "  .     1.8, 0.1, 0, 0.6, 0.4, 0.2, 0, 0, 5.6, 0.1, 0.3, 0, 2.2, \n",
      "  .     0.1, 0.4, 0.6, 218.1, 0.2, 0, 2.9, 3.6, 0.2, 0, 1, 0.1, 0.1, \n",
      "  .     0.1, 0, 0, 0.5, 0, 0, 0, 0, 1, 0, 0.1, 0, 150, 0, 1.2, 0.1, \n",
      "  .     0.8, 0.1, 0.5, 0, 0, 0, 2, 0, 0.1, 0, 0.4, 1, 0.1, 0, 0.1, \n",
      "  .     0.1, 0, 0, 0, 56.1, 0, 0, 0, 0, 0, 0, 0, 1, 0.1, 0, 0, 0, \n",
      "  .     0.2, 0.1, 1.2, 178.2, 0, 0, 0.6, 0.1, 0.1, 0.3, 0.1, 0.8, \n",
      "  .     32, 0.1, 0, 0, 0), age = c(22L, 17L, 18L, 33L, 25L, 24L, \n",
      "  .     23L, 42L, 22L, 21L, 23L, 17L, 18L, 26L, 23L, 22L, 20L, 17L, \n",
      "  .     20L, 46L, 17L, 23L, 17L, 18L, 19L, 17L, 26L, 17L, 17L, 21L, \n",
      "  .     17L, 21L, 24L, 17L, 17L, 18L, 17L, 22L, 17L, 9L, 17L, 21L, \n",
      "  .     17L, 19L, 17L, 22L, 17L, 25L, 17L, 19L, 8L, 17L, 21L, 17L, \n",
      "  .     23L, 23L, 17L, 26L, 20L, 17L, 17L, 17L, 17L, 17L, 24L, 21L, \n",
      "  .     24L, 17L, 22L, 21L, 20L, 27L, 20L, 11L, 10L, 38L, 17L, 17L, \n",
      "  .     23L, 21L, 15L, 21L, 17L, 21L, 17L, 22L, 26L, 17L, 17L, 17L, \n",
      "  .     17L, 23L, 16L, 17L, 17L, 17L, 22L, 19L, 12L, 20L, 17L, 24L, \n",
      "  .     27L, 17L, 17L, 22L, 18L, 17L, 24L, 23L, 15L, 24L, 17L, 21L, \n",
      "  .     17L, 23L, 17L, 21L, 20L, 17L, 17L, 20L, 20L, 17L, 16L, 25L, \n",
      "  .     18L, 17L, 17L, 17L, 17L, 19L, 22L, 24L, 19L, 21L, 17L, 17L, \n",
      "  .     17L, 22L, 22L, 44L, 17L, 17L, 17L)), row.names = c(NA, -145L\n",
      "  . ), class = c(\"tbl_df\", \"tbl\", \"data.frame\")), in_id = c(2L, 3L, \n",
      "  . 4L, 5L, 6L, 7L, 8L, 9L, 10L, 11L, 14L, 16L, 17L, 21L, 22L, 23L, \n",
      "  . 24L, 25L, 26L, 27L, 28L, 29L, 30L, 31L, 33L, 34L, 35L, 36L, 37L, \n",
      "  . 38L, 39L, 41L, 42L, 43L, 46L, 47L, 48L, 49L, 50L, 51L, 52L, 53L, \n",
      "  . 54L, 55L, 56L, 57L, 58L, 59L, 60L, 61L, 62L, 63L, 65L, 66L, 67L, \n",
      "  . 68L, 69L, 70L, 72L, 73L, 75L, 76L, 77L, 79L, 80L, 81L, 82L, 83L, \n",
      "  . 84L, 85L, 86L, 87L, 88L, 89L, 91L, 93L, 94L, 96L, 97L, 99L, 100L, \n",
      "  . 101L, 102L, 103L, 105L, 107L, 108L, 109L, 111L, 112L, 114L, 115L, \n",
      "  . 116L, 117L, 118L, 119L, 121L, 122L, 123L, 124L, 126L, 127L, 128L, \n",
      "  . 130L, 131L, 133L, 134L, 135L, 136L, 138L, 139L, 141L, 142L, 143L, \n",
      "  . 144L, 145L), out_id = NA, id = structure(list(id = \"Fold3\"), row.names = c(NA, \n",
      "  . -1L), class = c(\"tbl_df\", \"tbl\", \"data.frame\"))), class = c(\"vfold_split\", \n",
      "  . \"rsplit\")), structure(list(data = structure(list(experience = c(2L, \n",
      "  . 2L, 5L, 2L, 5L, 1L, 3L, 1L, 5L, 2L, 2L, 3L, 5L, 2L, 3L, 5L, 5L, \n",
      "  . 1L, 5L, 5L, 1L, 2L, 3L, 3L, 5L, 2L, 2L, 1L, 5L, 4L, 4L, 5L, 2L, \n",
      "  . 4L, 4L, 3L, 2L, 5L, 2L, 4L, 5L, 2L, 2L, 3L, 2L, 5L, 4L, 1L, 2L, \n",
      "  . 3L, 3L, 1L, 2L, 3L, 2L, 2L, 2L, 1L, 5L, 2L, 5L, 2L, 3L, 5L, 2L, \n",
      "  . 5L, 5L, 5L, 1L, 5L, 3L, 2L, 3L, 2L, 3L, 5L, 5L, 4L, 2L, 5L, 3L, \n",
      "  . 3L, 5L, 2L, 3L, 3L, 2L, 5L, 5L, 1L, 1L, 1L, 2L, 1L, 4L, 2L, 1L, \n",
      "  . 2L, 4L, 2L, 2L, 5L, 1L, 3L, 2L, 2L, 5L, 1L, 3L, 1L, 4L, 1L, 1L, \n",
      "  . 2L, 2L, 2L, 1L, 5L, 3L, 5L, 5L, 5L, 3L, 1L, 5L, 4L, 5L, 2L, 1L, \n",
      "  . 1L, 2L, 3L, 1L, 1L, 4L, 3L, 5L, 2L, 5L, 2L, 2L, 5L, 2L, 1L, 2L\n",
      "  . ), subscribe = structure(c(1L, 1L, 1L, 1L, 1L, 1L, 1L, 1L, 1L, \n",
      "  . 1L, 1L, 1L, 1L, 1L, 1L, 1L, 1L, 1L, 1L, 1L, 1L, 1L, 1L, 1L, 1L, \n",
      "  . 1L, 1L, 1L, 1L, 1L, 1L, 1L, 1L, 1L, 1L, 1L, 1L, 1L, 1L, 2L, 2L, \n",
      "  . 2L, 2L, 2L, 2L, 2L, 2L, 2L, 2L, 2L, 2L, 2L, 2L, 2L, 2L, 2L, 2L, \n",
      "  . 2L, 2L, 2L, 2L, 2L, 2L, 2L, 2L, 2L, 2L, 2L, 2L, 2L, 2L, 2L, 2L, \n",
      "  . 2L, 2L, 2L, 2L, 2L, 2L, 2L, 2L, 2L, 2L, 2L, 2L, 2L, 2L, 2L, 2L, \n",
      "  . 2L, 2L, 2L, 2L, 2L, 2L, 2L, 2L, 2L, 2L, 2L, 2L, 2L, 2L, 2L, 2L, \n",
      "  . 2L, 2L, 2L, 2L, 2L, 2L, 2L, 2L, 2L, 2L, 2L, 2L, 2L, 2L, 2L, 2L, \n",
      "  . 2L, 2L, 2L, 2L, 2L, 2L, 2L, 2L, 2L, 2L, 2L, 2L, 2L, 2L, 2L, 2L, \n",
      "  . 2L, 2L, 2L, 2L, 2L, 2L, 2L, 2L), levels = c(\"FALSE\", \"TRUE\"), class = \"factor\"), \n",
      "  .     played_hours = c(0, 0.1, 0.1, 0, 1.4, 0, 0, 0, 0.1, 0, 0, \n",
      "  .     0, 0.1, 0, 0, 2.7, 0, 0, 0, 0, 7.1, 0, 0.1, 0, 0.1, 0, 1, \n",
      "  .     0.3, 0.1, 0.4, 0, 2.7, 2.1, 0.2, 1.7, 0.1, 0, 0.3, 2.3, 30.3, \n",
      "  .     3.8, 0.7, 0, 0, 0.1, 0, 0, 1.5, 48.4, 0.6, 0.3, 1, 0.7, 0, \n",
      "  .     1.8, 0.1, 0, 0.6, 0.4, 0.2, 0, 0, 5.6, 0.1, 0.3, 0, 2.2, \n",
      "  .     0.1, 0.4, 0.6, 218.1, 0.2, 0, 2.9, 3.6, 0.2, 0, 1, 0.1, 0.1, \n",
      "  .     0.1, 0, 0, 0.5, 0, 0, 0, 0, 1, 0, 0.1, 0, 150, 0, 1.2, 0.1, \n",
      "  .     0.8, 0.1, 0.5, 0, 0, 0, 2, 0, 0.1, 0, 0.4, 1, 0.1, 0, 0.1, \n",
      "  .     0.1, 0, 0, 0, 56.1, 0, 0, 0, 0, 0, 0, 0, 1, 0.1, 0, 0, 0, \n",
      "  .     0.2, 0.1, 1.2, 178.2, 0, 0, 0.6, 0.1, 0.1, 0.3, 0.1, 0.8, \n",
      "  .     32, 0.1, 0, 0, 0), age = c(22L, 17L, 18L, 33L, 25L, 24L, \n",
      "  .     23L, 42L, 22L, 21L, 23L, 17L, 18L, 26L, 23L, 22L, 20L, 17L, \n",
      "  .     20L, 46L, 17L, 23L, 17L, 18L, 19L, 17L, 26L, 17L, 17L, 21L, \n",
      "  .     17L, 21L, 24L, 17L, 17L, 18L, 17L, 22L, 17L, 9L, 17L, 21L, \n",
      "  .     17L, 19L, 17L, 22L, 17L, 25L, 17L, 19L, 8L, 17L, 21L, 17L, \n",
      "  .     23L, 23L, 17L, 26L, 20L, 17L, 17L, 17L, 17L, 17L, 24L, 21L, \n",
      "  .     24L, 17L, 22L, 21L, 20L, 27L, 20L, 11L, 10L, 38L, 17L, 17L, \n",
      "  .     23L, 21L, 15L, 21L, 17L, 21L, 17L, 22L, 26L, 17L, 17L, 17L, \n",
      "  .     17L, 23L, 16L, 17L, 17L, 17L, 22L, 19L, 12L, 20L, 17L, 24L, \n",
      "  .     27L, 17L, 17L, 22L, 18L, 17L, 24L, 23L, 15L, 24L, 17L, 21L, \n",
      "  .     17L, 23L, 17L, 21L, 20L, 17L, 17L, 20L, 20L, 17L, 16L, 25L, \n",
      "  .     18L, 17L, 17L, 17L, 17L, 19L, 22L, 24L, 19L, 21L, 17L, 17L, \n",
      "  .     17L, 22L, 22L, 44L, 17L, 17L, 17L)), row.names = c(NA, -145L\n",
      "  . ), class = c(\"tbl_df\", \"tbl\", \"data.frame\")), in_id = c(1L, 2L, \n",
      "  . 3L, 4L, 5L, 6L, 7L, 9L, 10L, 11L, 12L, 13L, 14L, 15L, 16L, 18L, \n",
      "  . 19L, 20L, 22L, 23L, 25L, 27L, 28L, 29L, 31L, 32L, 33L, 34L, 36L, \n",
      "  . 37L, 39L, 40L, 41L, 42L, 43L, 44L, 45L, 46L, 47L, 49L, 50L, 51L, \n",
      "  . 52L, 53L, 54L, 56L, 57L, 58L, 59L, 60L, 62L, 63L, 64L, 65L, 66L, \n",
      "  . 68L, 69L, 70L, 71L, 72L, 73L, 74L, 75L, 78L, 79L, 80L, 82L, 83L, \n",
      "  . 85L, 86L, 90L, 91L, 92L, 93L, 94L, 95L, 96L, 97L, 98L, 99L, 100L, \n",
      "  . 101L, 102L, 103L, 104L, 105L, 106L, 108L, 110L, 111L, 112L, 113L, \n",
      "  . 115L, 116L, 117L, 118L, 119L, 120L, 121L, 124L, 125L, 126L, 127L, \n",
      "  . 129L, 130L, 131L, 132L, 133L, 134L, 137L, 138L, 140L, 142L, 143L, \n",
      "  . 144L, 145L), out_id = NA, id = structure(list(id = \"Fold4\"), row.names = c(NA, \n",
      "  . -1L), class = c(\"tbl_df\", \"tbl\", \"data.frame\"))), class = c(\"vfold_split\", \n",
      "  . \"rsplit\")), structure(list(data = structure(list(experience = c(2L, \n",
      "  . 2L, 5L, 2L, 5L, 1L, 3L, 1L, 5L, 2L, 2L, 3L, 5L, 2L, 3L, 5L, 5L, \n",
      "  . 1L, 5L, 5L, 1L, 2L, 3L, 3L, 5L, 2L, 2L, 1L, 5L, 4L, 4L, 5L, 2L, \n",
      "  . 4L, 4L, 3L, 2L, 5L, 2L, 4L, 5L, 2L, 2L, 3L, 2L, 5L, 4L, 1L, 2L, \n",
      "  . 3L, 3L, 1L, 2L, 3L, 2L, 2L, 2L, 1L, 5L, 2L, 5L, 2L, 3L, 5L, 2L, \n",
      "  . 5L, 5L, 5L, 1L, 5L, 3L, 2L, 3L, 2L, 3L, 5L, 5L, 4L, 2L, 5L, 3L, \n",
      "  . 3L, 5L, 2L, 3L, 3L, 2L, 5L, 5L, 1L, 1L, 1L, 2L, 1L, 4L, 2L, 1L, \n",
      "  . 2L, 4L, 2L, 2L, 5L, 1L, 3L, 2L, 2L, 5L, 1L, 3L, 1L, 4L, 1L, 1L, \n",
      "  . 2L, 2L, 2L, 1L, 5L, 3L, 5L, 5L, 5L, 3L, 1L, 5L, 4L, 5L, 2L, 1L, \n",
      "  . 1L, 2L, 3L, 1L, 1L, 4L, 3L, 5L, 2L, 5L, 2L, 2L, 5L, 2L, 1L, 2L\n",
      "  . ), subscribe = structure(c(1L, 1L, 1L, 1L, 1L, 1L, 1L, 1L, 1L, \n",
      "  . 1L, 1L, 1L, 1L, 1L, 1L, 1L, 1L, 1L, 1L, 1L, 1L, 1L, 1L, 1L, 1L, \n",
      "  . 1L, 1L, 1L, 1L, 1L, 1L, 1L, 1L, 1L, 1L, 1L, 1L, 1L, 1L, 2L, 2L, \n",
      "  . 2L, 2L, 2L, 2L, 2L, 2L, 2L, 2L, 2L, 2L, 2L, 2L, 2L, 2L, 2L, 2L, \n",
      "  . 2L, 2L, 2L, 2L, 2L, 2L, 2L, 2L, 2L, 2L, 2L, 2L, 2L, 2L, 2L, 2L, \n",
      "  . 2L, 2L, 2L, 2L, 2L, 2L, 2L, 2L, 2L, 2L, 2L, 2L, 2L, 2L, 2L, 2L, \n",
      "  . 2L, 2L, 2L, 2L, 2L, 2L, 2L, 2L, 2L, 2L, 2L, 2L, 2L, 2L, 2L, 2L, \n",
      "  . 2L, 2L, 2L, 2L, 2L, 2L, 2L, 2L, 2L, 2L, 2L, 2L, 2L, 2L, 2L, 2L, \n",
      "  . 2L, 2L, 2L, 2L, 2L, 2L, 2L, 2L, 2L, 2L, 2L, 2L, 2L, 2L, 2L, 2L, \n",
      "  . 2L, 2L, 2L, 2L, 2L, 2L, 2L, 2L), levels = c(\"FALSE\", \"TRUE\"), class = \"factor\"), \n",
      "  .     played_hours = c(0, 0.1, 0.1, 0, 1.4, 0, 0, 0, 0.1, 0, 0, \n",
      "  .     0, 0.1, 0, 0, 2.7, 0, 0, 0, 0, 7.1, 0, 0.1, 0, 0.1, 0, 1, \n",
      "  .     0.3, 0.1, 0.4, 0, 2.7, 2.1, 0.2, 1.7, 0.1, 0, 0.3, 2.3, 30.3, \n",
      "  .     3.8, 0.7, 0, 0, 0.1, 0, 0, 1.5, 48.4, 0.6, 0.3, 1, 0.7, 0, \n",
      "  .     1.8, 0.1, 0, 0.6, 0.4, 0.2, 0, 0, 5.6, 0.1, 0.3, 0, 2.2, \n",
      "  .     0.1, 0.4, 0.6, 218.1, 0.2, 0, 2.9, 3.6, 0.2, 0, 1, 0.1, 0.1, \n",
      "  .     0.1, 0, 0, 0.5, 0, 0, 0, 0, 1, 0, 0.1, 0, 150, 0, 1.2, 0.1, \n",
      "  .     0.8, 0.1, 0.5, 0, 0, 0, 2, 0, 0.1, 0, 0.4, 1, 0.1, 0, 0.1, \n",
      "  .     0.1, 0, 0, 0, 56.1, 0, 0, 0, 0, 0, 0, 0, 1, 0.1, 0, 0, 0, \n",
      "  .     0.2, 0.1, 1.2, 178.2, 0, 0, 0.6, 0.1, 0.1, 0.3, 0.1, 0.8, \n",
      "  .     32, 0.1, 0, 0, 0), age = c(22L, 17L, 18L, 33L, 25L, 24L, \n",
      "  .     23L, 42L, 22L, 21L, 23L, 17L, 18L, 26L, 23L, 22L, 20L, 17L, \n",
      "  .     20L, 46L, 17L, 23L, 17L, 18L, 19L, 17L, 26L, 17L, 17L, 21L, \n",
      "  .     17L, 21L, 24L, 17L, 17L, 18L, 17L, 22L, 17L, 9L, 17L, 21L, \n",
      "  .     17L, 19L, 17L, 22L, 17L, 25L, 17L, 19L, 8L, 17L, 21L, 17L, \n",
      "  .     23L, 23L, 17L, 26L, 20L, 17L, 17L, 17L, 17L, 17L, 24L, 21L, \n",
      "  .     24L, 17L, 22L, 21L, 20L, 27L, 20L, 11L, 10L, 38L, 17L, 17L, \n",
      "  .     23L, 21L, 15L, 21L, 17L, 21L, 17L, 22L, 26L, 17L, 17L, 17L, \n",
      "  .     17L, 23L, 16L, 17L, 17L, 17L, 22L, 19L, 12L, 20L, 17L, 24L, \n",
      "  .     27L, 17L, 17L, 22L, 18L, 17L, 24L, 23L, 15L, 24L, 17L, 21L, \n",
      "  .     17L, 23L, 17L, 21L, 20L, 17L, 17L, 20L, 20L, 17L, 16L, 25L, \n",
      "  .     18L, 17L, 17L, 17L, 17L, 19L, 22L, 24L, 19L, 21L, 17L, 17L, \n",
      "  .     17L, 22L, 22L, 44L, 17L, 17L, 17L)), row.names = c(NA, -145L\n",
      "  . ), class = c(\"tbl_df\", \"tbl\", \"data.frame\")), in_id = c(1L, 3L, \n",
      "  . 4L, 7L, 8L, 9L, 10L, 12L, 13L, 14L, 15L, 17L, 18L, 19L, 20L, \n",
      "  . 21L, 22L, 23L, 24L, 25L, 26L, 27L, 29L, 30L, 31L, 32L, 33L, 34L, \n",
      "  . 35L, 37L, 38L, 39L, 40L, 41L, 43L, 44L, 45L, 46L, 47L, 48L, 51L, \n",
      "  . 55L, 56L, 57L, 59L, 60L, 61L, 63L, 64L, 65L, 67L, 68L, 69L, 71L, \n",
      "  . 72L, 73L, 74L, 76L, 77L, 78L, 81L, 83L, 84L, 85L, 86L, 87L, 88L, \n",
      "  . 89L, 90L, 92L, 93L, 94L, 95L, 97L, 98L, 100L, 101L, 102L, 103L, \n",
      "  . 104L, 105L, 106L, 107L, 108L, 109L, 110L, 112L, 113L, 114L, 115L, \n",
      "  . 117L, 118L, 119L, 120L, 121L, 122L, 123L, 124L, 125L, 127L, 128L, \n",
      "  . 129L, 130L, 131L, 132L, 133L, 134L, 135L, 136L, 137L, 138L, 139L, \n",
      "  . 140L, 141L, 142L, 143L, 145L), out_id = NA, id = structure(list(\n",
      "  .     id = \"Fold5\"), row.names = c(NA, -1L), class = c(\"tbl_df\", \n",
      "  . \"tbl\", \"data.frame\"))), class = c(\"vfold_split\", \"rsplit\")), \n",
      "  .     check.names = FALSE, fix.empty.names = TRUE, stringsAsFactors = FALSE)\n",
      "24. stop(gettextf(\"arguments imply differing number of rows: %s\", \n",
      "  .     paste(unique(nrows), collapse = \", \")), domain = NA)\n"
     ]
    }
   ],
   "source": [
    "players_vfold <- vfold_cv(players_training, v = 5, strata = subscribe)\n",
    "\n",
    "players_vfold"
   ]
  },
  {
   "cell_type": "markdown",
   "id": "4a4bbf44",
   "metadata": {},
   "source": [
    "test commit"
   ]
  },
  {
   "cell_type": "markdown",
   "id": "e0f5c625-d43f-456f-a05e-41ea6a94fc07",
   "metadata": {},
   "source": [
    "## (3) Discussion"
   ]
  },
  {
   "cell_type": "markdown",
   "id": "a789e711-f708-416b-8995-e3b54b989392",
   "metadata": {},
   "source": [
    "## (4) References"
   ]
  }
 ],
 "metadata": {
  "kernelspec": {
   "display_name": "R",
   "language": "R",
   "name": "ir"
  },
  "language_info": {
   "codemirror_mode": "r",
   "file_extension": ".r",
   "mimetype": "text/x-r-source",
   "name": "R",
   "pygments_lexer": "r",
   "version": "4.4.3"
  }
 },
 "nbformat": 4,
 "nbformat_minor": 5
}
